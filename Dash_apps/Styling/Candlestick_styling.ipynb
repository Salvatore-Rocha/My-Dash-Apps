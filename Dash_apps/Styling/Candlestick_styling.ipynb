import dash
import plotly.graph_objects as go
from dash import dcc, html, callback
from dash.dependencies import Output, Input
import plotly.express as px 
import dash_bootstrap_components as dbc
import pandas as pd
import pandas_datareader.data as web
#A functions from pandas that extract stock data from various Internet sources into a pandas DataFrame.
import datetime as dt
import dash_player as dp
from dash_bootstrap_templates import load_figure_template

#Reading the local file 
stocks = pd.read_csv("mystocks.csv")

#Stocks codes: "BABA","ETSY","SWK","APPN","W","SNAP"

        fig = go.Figure(data=[go.Candlestick(x=dff['Date'],
                open=dff['Open'],
                high=dff['High'],
                low=dff['Low'],
                close=dff['Close'])],
                #template=template
                )