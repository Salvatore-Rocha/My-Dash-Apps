{
 "cells": [
  {
   "cell_type": "code",
   "execution_count": 70,
   "metadata": {},
   "outputs": [],
   "source": [
    "import dash\n",
    "from dash import dcc\n",
    "from dash import html\n",
    "from dash.dependencies import Output, Input\n",
    "import plotly.express as px \n",
    "import dash_bootstrap_components as dbc\n",
    "import pandas as pd\n",
    "import pandas_datareader.data as web\n",
    "#A functions from pandas that extract stock data from various Internet sources into a pandas DataFrame.\n",
    "import datetime as dt\n",
    "\n",
    "#Define the data range of the data we are interested in\n",
    "start  = dt.datetime(2023,1,1)\n",
    "end    = dt.datetime(2023,12,31)\n",
    "\n",
    "#Define wich stocks we want, and where are we getting them from\n",
    "stocks = web.DataReader(\n",
    "    [\"BABA\",\"ETSY\",\"SWK\",\"APPN\",\"W\",\"SNAP\"],\n",
    "    \"stooq\",\n",
    "    start=start,\n",
    "    end=end)\n",
    "\n"
   ]
  },
  {
   "cell_type": "code",
   "execution_count": 71,
   "metadata": {},
   "outputs": [
    {
     "data": {
      "text/html": [
       "<div>\n",
       "<style scoped>\n",
       "    .dataframe tbody tr th:only-of-type {\n",
       "        vertical-align: middle;\n",
       "    }\n",
       "\n",
       "    .dataframe tbody tr th {\n",
       "        vertical-align: top;\n",
       "    }\n",
       "\n",
       "    .dataframe thead tr th {\n",
       "        text-align: left;\n",
       "    }\n",
       "\n",
       "    .dataframe thead tr:last-of-type th {\n",
       "        text-align: right;\n",
       "    }\n",
       "</style>\n",
       "<table border=\"1\" class=\"dataframe\">\n",
       "  <thead>\n",
       "    <tr>\n",
       "      <th>Attributes</th>\n",
       "      <th colspan=\"6\" halign=\"left\">Close</th>\n",
       "      <th colspan=\"4\" halign=\"left\">High</th>\n",
       "      <th>...</th>\n",
       "      <th colspan=\"4\" halign=\"left\">Open</th>\n",
       "      <th colspan=\"6\" halign=\"left\">Volume</th>\n",
       "    </tr>\n",
       "    <tr>\n",
       "      <th>Symbols</th>\n",
       "      <th>BABA</th>\n",
       "      <th>ETSY</th>\n",
       "      <th>SWK</th>\n",
       "      <th>APPN</th>\n",
       "      <th>W</th>\n",
       "      <th>SNAP</th>\n",
       "      <th>BABA</th>\n",
       "      <th>ETSY</th>\n",
       "      <th>SWK</th>\n",
       "      <th>APPN</th>\n",
       "      <th>...</th>\n",
       "      <th>SWK</th>\n",
       "      <th>APPN</th>\n",
       "      <th>W</th>\n",
       "      <th>SNAP</th>\n",
       "      <th>BABA</th>\n",
       "      <th>ETSY</th>\n",
       "      <th>SWK</th>\n",
       "      <th>APPN</th>\n",
       "      <th>W</th>\n",
       "      <th>SNAP</th>\n",
       "    </tr>\n",
       "    <tr>\n",
       "      <th>Date</th>\n",
       "      <th></th>\n",
       "      <th></th>\n",
       "      <th></th>\n",
       "      <th></th>\n",
       "      <th></th>\n",
       "      <th></th>\n",
       "      <th></th>\n",
       "      <th></th>\n",
       "      <th></th>\n",
       "      <th></th>\n",
       "      <th></th>\n",
       "      <th></th>\n",
       "      <th></th>\n",
       "      <th></th>\n",
       "      <th></th>\n",
       "      <th></th>\n",
       "      <th></th>\n",
       "      <th></th>\n",
       "      <th></th>\n",
       "      <th></th>\n",
       "      <th></th>\n",
       "    </tr>\n",
       "  </thead>\n",
       "  <tbody>\n",
       "    <tr>\n",
       "      <th>2023-12-29</th>\n",
       "      <td>77.51</td>\n",
       "      <td>81.05</td>\n",
       "      <td>98.10</td>\n",
       "      <td>37.66</td>\n",
       "      <td>61.70</td>\n",
       "      <td>16.93</td>\n",
       "      <td>77.6350</td>\n",
       "      <td>82.6494</td>\n",
       "      <td>99.100</td>\n",
       "      <td>38.9772</td>\n",
       "      <td>...</td>\n",
       "      <td>98.66</td>\n",
       "      <td>38.66</td>\n",
       "      <td>64.65</td>\n",
       "      <td>17.03</td>\n",
       "      <td>14094635</td>\n",
       "      <td>2397080</td>\n",
       "      <td>769662</td>\n",
       "      <td>288333</td>\n",
       "      <td>2637987</td>\n",
       "      <td>16693464</td>\n",
       "    </tr>\n",
       "    <tr>\n",
       "      <th>2023-12-28</th>\n",
       "      <td>77.24</td>\n",
       "      <td>81.92</td>\n",
       "      <td>99.10</td>\n",
       "      <td>38.87</td>\n",
       "      <td>64.12</td>\n",
       "      <td>17.05</td>\n",
       "      <td>77.7900</td>\n",
       "      <td>82.4800</td>\n",
       "      <td>99.340</td>\n",
       "      <td>39.5700</td>\n",
       "      <td>...</td>\n",
       "      <td>98.37</td>\n",
       "      <td>38.76</td>\n",
       "      <td>64.45</td>\n",
       "      <td>16.92</td>\n",
       "      <td>18937893</td>\n",
       "      <td>2121780</td>\n",
       "      <td>519014</td>\n",
       "      <td>241287</td>\n",
       "      <td>1822082</td>\n",
       "      <td>13845160</td>\n",
       "    </tr>\n",
       "    <tr>\n",
       "      <th>2023-12-27</th>\n",
       "      <td>76.11</td>\n",
       "      <td>82.39</td>\n",
       "      <td>98.73</td>\n",
       "      <td>39.00</td>\n",
       "      <td>64.41</td>\n",
       "      <td>16.95</td>\n",
       "      <td>76.4500</td>\n",
       "      <td>83.3100</td>\n",
       "      <td>99.125</td>\n",
       "      <td>40.0000</td>\n",
       "      <td>...</td>\n",
       "      <td>99.01</td>\n",
       "      <td>39.79</td>\n",
       "      <td>65.41</td>\n",
       "      <td>16.73</td>\n",
       "      <td>14904479</td>\n",
       "      <td>2324533</td>\n",
       "      <td>555079</td>\n",
       "      <td>292723</td>\n",
       "      <td>1850313</td>\n",
       "      <td>15975366</td>\n",
       "    </tr>\n",
       "    <tr>\n",
       "      <th>2023-12-26</th>\n",
       "      <td>75.85</td>\n",
       "      <td>82.59</td>\n",
       "      <td>98.81</td>\n",
       "      <td>39.67</td>\n",
       "      <td>64.82</td>\n",
       "      <td>16.78</td>\n",
       "      <td>76.9687</td>\n",
       "      <td>85.2200</td>\n",
       "      <td>99.280</td>\n",
       "      <td>39.8100</td>\n",
       "      <td>...</td>\n",
       "      <td>98.15</td>\n",
       "      <td>39.54</td>\n",
       "      <td>67.24</td>\n",
       "      <td>17.06</td>\n",
       "      <td>13121280</td>\n",
       "      <td>2356261</td>\n",
       "      <td>843508</td>\n",
       "      <td>192073</td>\n",
       "      <td>2192037</td>\n",
       "      <td>13944254</td>\n",
       "    </tr>\n",
       "    <tr>\n",
       "      <th>2023-12-22</th>\n",
       "      <td>75.28</td>\n",
       "      <td>84.95</td>\n",
       "      <td>98.16</td>\n",
       "      <td>39.66</td>\n",
       "      <td>67.11</td>\n",
       "      <td>17.05</td>\n",
       "      <td>75.6800</td>\n",
       "      <td>86.2850</td>\n",
       "      <td>98.980</td>\n",
       "      <td>40.5300</td>\n",
       "      <td>...</td>\n",
       "      <td>97.31</td>\n",
       "      <td>40.18</td>\n",
       "      <td>68.18</td>\n",
       "      <td>17.20</td>\n",
       "      <td>20004348</td>\n",
       "      <td>1908612</td>\n",
       "      <td>984265</td>\n",
       "      <td>308235</td>\n",
       "      <td>2800501</td>\n",
       "      <td>21576677</td>\n",
       "    </tr>\n",
       "  </tbody>\n",
       "</table>\n",
       "<p>5 rows × 30 columns</p>\n",
       "</div>"
      ],
      "text/plain": [
       "Attributes  Close                                        High           \\\n",
       "Symbols      BABA   ETSY    SWK   APPN      W   SNAP     BABA     ETSY   \n",
       "Date                                                                     \n",
       "2023-12-29  77.51  81.05  98.10  37.66  61.70  16.93  77.6350  82.6494   \n",
       "2023-12-28  77.24  81.92  99.10  38.87  64.12  17.05  77.7900  82.4800   \n",
       "2023-12-27  76.11  82.39  98.73  39.00  64.41  16.95  76.4500  83.3100   \n",
       "2023-12-26  75.85  82.59  98.81  39.67  64.82  16.78  76.9687  85.2200   \n",
       "2023-12-22  75.28  84.95  98.16  39.66  67.11  17.05  75.6800  86.2850   \n",
       "\n",
       "Attributes                   ...   Open                         Volume  \\\n",
       "Symbols        SWK     APPN  ...    SWK   APPN      W   SNAP      BABA   \n",
       "Date                         ...                                         \n",
       "2023-12-29  99.100  38.9772  ...  98.66  38.66  64.65  17.03  14094635   \n",
       "2023-12-28  99.340  39.5700  ...  98.37  38.76  64.45  16.92  18937893   \n",
       "2023-12-27  99.125  40.0000  ...  99.01  39.79  65.41  16.73  14904479   \n",
       "2023-12-26  99.280  39.8100  ...  98.15  39.54  67.24  17.06  13121280   \n",
       "2023-12-22  98.980  40.5300  ...  97.31  40.18  68.18  17.20  20004348   \n",
       "\n",
       "Attributes                                              \n",
       "Symbols        ETSY     SWK    APPN        W      SNAP  \n",
       "Date                                                    \n",
       "2023-12-29  2397080  769662  288333  2637987  16693464  \n",
       "2023-12-28  2121780  519014  241287  1822082  13845160  \n",
       "2023-12-27  2324533  555079  292723  1850313  15975366  \n",
       "2023-12-26  2356261  843508  192073  2192037  13944254  \n",
       "2023-12-22  1908612  984265  308235  2800501  21576677  \n",
       "\n",
       "[5 rows x 30 columns]"
      ]
     },
     "execution_count": 71,
     "metadata": {},
     "output_type": "execute_result"
    }
   ],
   "source": [
    "stocks.head()"
   ]
  },
  {
   "cell_type": "code",
   "execution_count": 72,
   "metadata": {},
   "outputs": [
    {
     "name": "stderr",
     "output_type": "stream",
     "text": [
      "C:\\Users\\XandorTheWise\\AppData\\Local\\Temp\\ipykernel_15024\\3703069590.py:1: FutureWarning:\n",
      "\n",
      "The previous implementation of stack is deprecated and will be removed in a future version of pandas. See the What's New notes for pandas 2.1.0 for details. Specify future_stack=True to adopt the new implementation and silence this warning.\n",
      "\n"
     ]
    },
    {
     "data": {
      "text/html": [
       "<div>\n",
       "<style scoped>\n",
       "    .dataframe tbody tr th:only-of-type {\n",
       "        vertical-align: middle;\n",
       "    }\n",
       "\n",
       "    .dataframe tbody tr th {\n",
       "        vertical-align: top;\n",
       "    }\n",
       "\n",
       "    .dataframe thead th {\n",
       "        text-align: right;\n",
       "    }\n",
       "</style>\n",
       "<table border=\"1\" class=\"dataframe\">\n",
       "  <thead>\n",
       "    <tr style=\"text-align: right;\">\n",
       "      <th></th>\n",
       "      <th>Attributes</th>\n",
       "      <th>Close</th>\n",
       "      <th>High</th>\n",
       "      <th>Low</th>\n",
       "      <th>Open</th>\n",
       "      <th>Volume</th>\n",
       "    </tr>\n",
       "    <tr>\n",
       "      <th>Date</th>\n",
       "      <th>Symbols</th>\n",
       "      <th></th>\n",
       "      <th></th>\n",
       "      <th></th>\n",
       "      <th></th>\n",
       "      <th></th>\n",
       "    </tr>\n",
       "  </thead>\n",
       "  <tbody>\n",
       "    <tr>\n",
       "      <th rowspan=\"5\" valign=\"top\">2023-12-29</th>\n",
       "      <th>BABA</th>\n",
       "      <td>77.51</td>\n",
       "      <td>77.6350</td>\n",
       "      <td>76.82</td>\n",
       "      <td>77.06</td>\n",
       "      <td>14094635</td>\n",
       "    </tr>\n",
       "    <tr>\n",
       "      <th>ETSY</th>\n",
       "      <td>81.05</td>\n",
       "      <td>82.6494</td>\n",
       "      <td>80.72</td>\n",
       "      <td>81.57</td>\n",
       "      <td>2397080</td>\n",
       "    </tr>\n",
       "    <tr>\n",
       "      <th>SWK</th>\n",
       "      <td>98.10</td>\n",
       "      <td>99.1000</td>\n",
       "      <td>97.80</td>\n",
       "      <td>98.66</td>\n",
       "      <td>769662</td>\n",
       "    </tr>\n",
       "    <tr>\n",
       "      <th>APPN</th>\n",
       "      <td>37.66</td>\n",
       "      <td>38.9772</td>\n",
       "      <td>37.55</td>\n",
       "      <td>38.66</td>\n",
       "      <td>288333</td>\n",
       "    </tr>\n",
       "    <tr>\n",
       "      <th>W</th>\n",
       "      <td>61.70</td>\n",
       "      <td>65.2600</td>\n",
       "      <td>61.37</td>\n",
       "      <td>64.65</td>\n",
       "      <td>2637987</td>\n",
       "    </tr>\n",
       "  </tbody>\n",
       "</table>\n",
       "</div>"
      ],
      "text/plain": [
       "Attributes          Close     High    Low   Open    Volume\n",
       "Date       Symbols                                        \n",
       "2023-12-29 BABA     77.51  77.6350  76.82  77.06  14094635\n",
       "           ETSY     81.05  82.6494  80.72  81.57   2397080\n",
       "           SWK      98.10  99.1000  97.80  98.66    769662\n",
       "           APPN     37.66  38.9772  37.55  38.66    288333\n",
       "           W        61.70  65.2600  61.37  64.65   2637987"
      ]
     },
     "execution_count": 72,
     "metadata": {},
     "output_type": "execute_result"
    }
   ],
   "source": [
    "stocks.stack().head()"
   ]
  },
  {
   "cell_type": "code",
   "execution_count": 73,
   "metadata": {},
   "outputs": [
    {
     "name": "stderr",
     "output_type": "stream",
     "text": [
      "C:\\Users\\XandorTheWise\\AppData\\Local\\Temp\\ipykernel_15024\\2159244871.py:1: FutureWarning:\n",
      "\n",
      "The previous implementation of stack is deprecated and will be removed in a future version of pandas. See the What's New notes for pandas 2.1.0 for details. Specify future_stack=True to adopt the new implementation and silence this warning.\n",
      "\n"
     ]
    },
    {
     "data": {
      "text/html": [
       "<div>\n",
       "<style scoped>\n",
       "    .dataframe tbody tr th:only-of-type {\n",
       "        vertical-align: middle;\n",
       "    }\n",
       "\n",
       "    .dataframe tbody tr th {\n",
       "        vertical-align: top;\n",
       "    }\n",
       "\n",
       "    .dataframe thead th {\n",
       "        text-align: right;\n",
       "    }\n",
       "</style>\n",
       "<table border=\"1\" class=\"dataframe\">\n",
       "  <thead>\n",
       "    <tr style=\"text-align: right;\">\n",
       "      <th>Attributes</th>\n",
       "      <th>Date</th>\n",
       "      <th>Symbols</th>\n",
       "      <th>Close</th>\n",
       "      <th>High</th>\n",
       "      <th>Low</th>\n",
       "      <th>Open</th>\n",
       "      <th>Volume</th>\n",
       "    </tr>\n",
       "  </thead>\n",
       "  <tbody>\n",
       "    <tr>\n",
       "      <th>0</th>\n",
       "      <td>2023-12-29</td>\n",
       "      <td>BABA</td>\n",
       "      <td>77.51</td>\n",
       "      <td>77.6350</td>\n",
       "      <td>76.82</td>\n",
       "      <td>77.06</td>\n",
       "      <td>14094635</td>\n",
       "    </tr>\n",
       "    <tr>\n",
       "      <th>1</th>\n",
       "      <td>2023-12-29</td>\n",
       "      <td>ETSY</td>\n",
       "      <td>81.05</td>\n",
       "      <td>82.6494</td>\n",
       "      <td>80.72</td>\n",
       "      <td>81.57</td>\n",
       "      <td>2397080</td>\n",
       "    </tr>\n",
       "    <tr>\n",
       "      <th>2</th>\n",
       "      <td>2023-12-29</td>\n",
       "      <td>SWK</td>\n",
       "      <td>98.10</td>\n",
       "      <td>99.1000</td>\n",
       "      <td>97.80</td>\n",
       "      <td>98.66</td>\n",
       "      <td>769662</td>\n",
       "    </tr>\n",
       "    <tr>\n",
       "      <th>3</th>\n",
       "      <td>2023-12-29</td>\n",
       "      <td>APPN</td>\n",
       "      <td>37.66</td>\n",
       "      <td>38.9772</td>\n",
       "      <td>37.55</td>\n",
       "      <td>38.66</td>\n",
       "      <td>288333</td>\n",
       "    </tr>\n",
       "    <tr>\n",
       "      <th>4</th>\n",
       "      <td>2023-12-29</td>\n",
       "      <td>W</td>\n",
       "      <td>61.70</td>\n",
       "      <td>65.2600</td>\n",
       "      <td>61.37</td>\n",
       "      <td>64.65</td>\n",
       "      <td>2637987</td>\n",
       "    </tr>\n",
       "  </tbody>\n",
       "</table>\n",
       "</div>"
      ],
      "text/plain": [
       "Attributes       Date Symbols  Close     High    Low   Open    Volume\n",
       "0          2023-12-29    BABA  77.51  77.6350  76.82  77.06  14094635\n",
       "1          2023-12-29    ETSY  81.05  82.6494  80.72  81.57   2397080\n",
       "2          2023-12-29     SWK  98.10  99.1000  97.80  98.66    769662\n",
       "3          2023-12-29    APPN  37.66  38.9772  37.55  38.66    288333\n",
       "4          2023-12-29       W  61.70  65.2600  61.37  64.65   2637987"
      ]
     },
     "execution_count": 73,
     "metadata": {},
     "output_type": "execute_result"
    }
   ],
   "source": [
    "stocks= stocks.stack().reset_index()\n",
    "stocks.head()"
   ]
  },
  {
   "cell_type": "code",
   "execution_count": 74,
   "metadata": {},
   "outputs": [
    {
     "name": "stderr",
     "output_type": "stream",
     "text": [
      "C:\\Users\\XandorTheWise\\AppData\\Local\\Temp\\ipykernel_15024\\1239019187.py:1: FutureWarning:\n",
      "\n",
      "The behavior of DatetimeProperties.to_pydatetime is deprecated, in a future version this will return a Series containing python datetime objects instead of an ndarray. To retain the old behavior, call `np.array` on the result\n",
      "\n"
     ]
    },
    {
     "data": {
      "text/html": [
       "<div>\n",
       "<style scoped>\n",
       "    .dataframe tbody tr th:only-of-type {\n",
       "        vertical-align: middle;\n",
       "    }\n",
       "\n",
       "    .dataframe tbody tr th {\n",
       "        vertical-align: top;\n",
       "    }\n",
       "\n",
       "    .dataframe thead th {\n",
       "        text-align: right;\n",
       "    }\n",
       "</style>\n",
       "<table border=\"1\" class=\"dataframe\">\n",
       "  <thead>\n",
       "    <tr style=\"text-align: right;\">\n",
       "      <th>Attributes</th>\n",
       "      <th>Date</th>\n",
       "      <th>Symbols</th>\n",
       "      <th>Close</th>\n",
       "      <th>High</th>\n",
       "      <th>Low</th>\n",
       "      <th>Open</th>\n",
       "      <th>Volume</th>\n",
       "    </tr>\n",
       "  </thead>\n",
       "  <tbody>\n",
       "    <tr>\n",
       "      <th>0</th>\n",
       "      <td>2023-12-29</td>\n",
       "      <td>BABA</td>\n",
       "      <td>77.51</td>\n",
       "      <td>77.6350</td>\n",
       "      <td>76.82</td>\n",
       "      <td>77.06</td>\n",
       "      <td>14094635</td>\n",
       "    </tr>\n",
       "    <tr>\n",
       "      <th>1</th>\n",
       "      <td>2023-12-29</td>\n",
       "      <td>ETSY</td>\n",
       "      <td>81.05</td>\n",
       "      <td>82.6494</td>\n",
       "      <td>80.72</td>\n",
       "      <td>81.57</td>\n",
       "      <td>2397080</td>\n",
       "    </tr>\n",
       "    <tr>\n",
       "      <th>2</th>\n",
       "      <td>2023-12-29</td>\n",
       "      <td>SWK</td>\n",
       "      <td>98.10</td>\n",
       "      <td>99.1000</td>\n",
       "      <td>97.80</td>\n",
       "      <td>98.66</td>\n",
       "      <td>769662</td>\n",
       "    </tr>\n",
       "    <tr>\n",
       "      <th>3</th>\n",
       "      <td>2023-12-29</td>\n",
       "      <td>APPN</td>\n",
       "      <td>37.66</td>\n",
       "      <td>38.9772</td>\n",
       "      <td>37.55</td>\n",
       "      <td>38.66</td>\n",
       "      <td>288333</td>\n",
       "    </tr>\n",
       "    <tr>\n",
       "      <th>4</th>\n",
       "      <td>2023-12-29</td>\n",
       "      <td>W</td>\n",
       "      <td>61.70</td>\n",
       "      <td>65.2600</td>\n",
       "      <td>61.37</td>\n",
       "      <td>64.65</td>\n",
       "      <td>2637987</td>\n",
       "    </tr>\n",
       "  </tbody>\n",
       "</table>\n",
       "</div>"
      ],
      "text/plain": [
       "Attributes       Date Symbols  Close     High    Low   Open    Volume\n",
       "0          2023-12-29    BABA  77.51  77.6350  76.82  77.06  14094635\n",
       "1          2023-12-29    ETSY  81.05  82.6494  80.72  81.57   2397080\n",
       "2          2023-12-29     SWK  98.10  99.1000  97.80  98.66    769662\n",
       "3          2023-12-29    APPN  37.66  38.9772  37.55  38.66    288333\n",
       "4          2023-12-29       W  61.70  65.2600  61.37  64.65   2637987"
      ]
     },
     "execution_count": 74,
     "metadata": {},
     "output_type": "execute_result"
    }
   ],
   "source": [
    "stocks[\"Date\"] = pd.Series(stocks[\"Date\"].dt.to_pydatetime())\n",
    "stocks.head()"
   ]
  },
  {
   "cell_type": "code",
   "execution_count": 75,
   "metadata": {},
   "outputs": [
    {
     "data": {
      "text/plain": [
       "['APPN', 'BABA', 'ETSY', 'SNAP', 'SWK', 'W']"
      ]
     },
     "execution_count": 75,
     "metadata": {},
     "output_type": "execute_result"
    }
   ],
   "source": [
    "sorted(stocks[\"Symbols\"].unique())"
   ]
  },
  {
   "cell_type": "code",
   "execution_count": 76,
   "metadata": {},
   "outputs": [
    {
     "data": {
      "text/plain": [
       "['APPN', 'BABA', 'ETSY']"
      ]
     },
     "execution_count": 76,
     "metadata": {},
     "output_type": "execute_result"
    }
   ],
   "source": [
    "sorted(stocks[\"Symbols\"].unique())[0:3]"
   ]
  },
  {
   "cell_type": "code",
   "execution_count": 77,
   "metadata": {},
   "outputs": [
    {
     "data": {
      "text/html": [
       "<div>\n",
       "<style scoped>\n",
       "    .dataframe tbody tr th:only-of-type {\n",
       "        vertical-align: middle;\n",
       "    }\n",
       "\n",
       "    .dataframe tbody tr th {\n",
       "        vertical-align: top;\n",
       "    }\n",
       "\n",
       "    .dataframe thead th {\n",
       "        text-align: right;\n",
       "    }\n",
       "</style>\n",
       "<table border=\"1\" class=\"dataframe\">\n",
       "  <thead>\n",
       "    <tr style=\"text-align: right;\">\n",
       "      <th>Attributes</th>\n",
       "      <th>Date</th>\n",
       "      <th>Symbols</th>\n",
       "      <th>Close</th>\n",
       "      <th>High</th>\n",
       "      <th>Low</th>\n",
       "      <th>Open</th>\n",
       "      <th>Volume</th>\n",
       "    </tr>\n",
       "  </thead>\n",
       "  <tbody>\n",
       "    <tr>\n",
       "      <th>3</th>\n",
       "      <td>2023-12-29</td>\n",
       "      <td>APPN</td>\n",
       "      <td>37.66</td>\n",
       "      <td>38.9772</td>\n",
       "      <td>37.5500</td>\n",
       "      <td>38.66</td>\n",
       "      <td>288333</td>\n",
       "    </tr>\n",
       "    <tr>\n",
       "      <th>9</th>\n",
       "      <td>2023-12-28</td>\n",
       "      <td>APPN</td>\n",
       "      <td>38.87</td>\n",
       "      <td>39.5700</td>\n",
       "      <td>38.6100</td>\n",
       "      <td>38.76</td>\n",
       "      <td>241287</td>\n",
       "    </tr>\n",
       "    <tr>\n",
       "      <th>15</th>\n",
       "      <td>2023-12-27</td>\n",
       "      <td>APPN</td>\n",
       "      <td>39.00</td>\n",
       "      <td>40.0000</td>\n",
       "      <td>38.6400</td>\n",
       "      <td>39.79</td>\n",
       "      <td>292723</td>\n",
       "    </tr>\n",
       "    <tr>\n",
       "      <th>21</th>\n",
       "      <td>2023-12-26</td>\n",
       "      <td>APPN</td>\n",
       "      <td>39.67</td>\n",
       "      <td>39.8100</td>\n",
       "      <td>39.2692</td>\n",
       "      <td>39.54</td>\n",
       "      <td>192073</td>\n",
       "    </tr>\n",
       "    <tr>\n",
       "      <th>27</th>\n",
       "      <td>2023-12-22</td>\n",
       "      <td>APPN</td>\n",
       "      <td>39.66</td>\n",
       "      <td>40.5300</td>\n",
       "      <td>39.2200</td>\n",
       "      <td>40.18</td>\n",
       "      <td>308235</td>\n",
       "    </tr>\n",
       "  </tbody>\n",
       "</table>\n",
       "</div>"
      ],
      "text/plain": [
       "Attributes       Date Symbols  Close     High      Low   Open  Volume\n",
       "3          2023-12-29    APPN  37.66  38.9772  37.5500  38.66  288333\n",
       "9          2023-12-28    APPN  38.87  39.5700  38.6100  38.76  241287\n",
       "15         2023-12-27    APPN  39.00  40.0000  38.6400  39.79  292723\n",
       "21         2023-12-26    APPN  39.67  39.8100  39.2692  39.54  192073\n",
       "27         2023-12-22    APPN  39.66  40.5300  39.2200  40.18  308235"
      ]
     },
     "execution_count": 77,
     "metadata": {},
     "output_type": "execute_result"
    }
   ],
   "source": [
    "#Filter by single value\n",
    "# Value == \"APPN\"\n",
    "value = sorted(stocks[\"Symbols\"].unique())[0]\n",
    "\n",
    "stocks[stocks[\"Symbols\"] == value].head()"
   ]
  },
  {
   "cell_type": "code",
   "execution_count": 78,
   "metadata": {},
   "outputs": [
    {
     "data": {
      "application/vnd.plotly.v1+json": {
       "config": {
        "plotlyServerURL": "https://plot.ly"
       },
       "data": [
        {
         "hovertemplate": "Date=%{x}<br>Close=%{y}<extra></extra>",
         "legendgroup": "",
         "line": {
          "color": "#636efa",
          "dash": "solid"
         },
         "marker": {
          "symbol": "circle"
         },
         "mode": "lines",
         "name": "",
         "orientation": "v",
         "showlegend": false,
         "type": "scatter",
         "x": [
          "2023-12-29T00:00:00",
          "2023-12-28T00:00:00",
          "2023-12-27T00:00:00",
          "2023-12-26T00:00:00",
          "2023-12-22T00:00:00",
          "2023-12-21T00:00:00",
          "2023-12-20T00:00:00",
          "2023-12-19T00:00:00",
          "2023-12-18T00:00:00",
          "2023-12-15T00:00:00",
          "2023-12-14T00:00:00",
          "2023-12-13T00:00:00",
          "2023-12-12T00:00:00",
          "2023-12-11T00:00:00",
          "2023-12-08T00:00:00",
          "2023-12-07T00:00:00",
          "2023-12-06T00:00:00",
          "2023-12-05T00:00:00",
          "2023-12-04T00:00:00",
          "2023-12-01T00:00:00",
          "2023-11-30T00:00:00",
          "2023-11-29T00:00:00",
          "2023-11-28T00:00:00",
          "2023-11-27T00:00:00",
          "2023-11-24T00:00:00",
          "2023-11-22T00:00:00",
          "2023-11-21T00:00:00",
          "2023-11-20T00:00:00",
          "2023-11-17T00:00:00",
          "2023-11-16T00:00:00",
          "2023-11-15T00:00:00",
          "2023-11-14T00:00:00",
          "2023-11-13T00:00:00",
          "2023-11-10T00:00:00",
          "2023-11-09T00:00:00",
          "2023-11-08T00:00:00",
          "2023-11-07T00:00:00",
          "2023-11-06T00:00:00",
          "2023-11-03T00:00:00",
          "2023-11-02T00:00:00",
          "2023-11-01T00:00:00",
          "2023-10-31T00:00:00",
          "2023-10-30T00:00:00",
          "2023-10-27T00:00:00",
          "2023-10-26T00:00:00",
          "2023-10-25T00:00:00",
          "2023-10-24T00:00:00",
          "2023-10-23T00:00:00",
          "2023-10-20T00:00:00",
          "2023-10-19T00:00:00",
          "2023-10-18T00:00:00",
          "2023-10-17T00:00:00",
          "2023-10-16T00:00:00",
          "2023-10-13T00:00:00",
          "2023-10-12T00:00:00",
          "2023-10-11T00:00:00",
          "2023-10-10T00:00:00",
          "2023-10-09T00:00:00",
          "2023-10-06T00:00:00",
          "2023-10-05T00:00:00",
          "2023-10-04T00:00:00",
          "2023-10-03T00:00:00",
          "2023-10-02T00:00:00",
          "2023-09-29T00:00:00",
          "2023-09-28T00:00:00",
          "2023-09-27T00:00:00",
          "2023-09-26T00:00:00",
          "2023-09-25T00:00:00",
          "2023-09-22T00:00:00",
          "2023-09-21T00:00:00",
          "2023-09-20T00:00:00",
          "2023-09-19T00:00:00",
          "2023-09-18T00:00:00",
          "2023-09-15T00:00:00",
          "2023-09-14T00:00:00",
          "2023-09-13T00:00:00",
          "2023-09-12T00:00:00",
          "2023-09-11T00:00:00",
          "2023-09-08T00:00:00",
          "2023-09-07T00:00:00",
          "2023-09-06T00:00:00",
          "2023-09-05T00:00:00",
          "2023-09-01T00:00:00",
          "2023-08-31T00:00:00",
          "2023-08-30T00:00:00",
          "2023-08-29T00:00:00",
          "2023-08-28T00:00:00",
          "2023-08-25T00:00:00",
          "2023-08-24T00:00:00",
          "2023-08-23T00:00:00",
          "2023-08-22T00:00:00",
          "2023-08-21T00:00:00",
          "2023-08-18T00:00:00",
          "2023-08-17T00:00:00",
          "2023-08-16T00:00:00",
          "2023-08-15T00:00:00",
          "2023-08-14T00:00:00",
          "2023-08-11T00:00:00",
          "2023-08-10T00:00:00",
          "2023-08-09T00:00:00",
          "2023-08-08T00:00:00",
          "2023-08-07T00:00:00",
          "2023-08-04T00:00:00",
          "2023-08-03T00:00:00",
          "2023-08-02T00:00:00",
          "2023-08-01T00:00:00",
          "2023-07-31T00:00:00",
          "2023-07-28T00:00:00",
          "2023-07-27T00:00:00",
          "2023-07-26T00:00:00",
          "2023-07-25T00:00:00",
          "2023-07-24T00:00:00",
          "2023-07-21T00:00:00",
          "2023-07-20T00:00:00",
          "2023-07-19T00:00:00",
          "2023-07-18T00:00:00",
          "2023-07-17T00:00:00",
          "2023-07-14T00:00:00",
          "2023-07-13T00:00:00",
          "2023-07-12T00:00:00",
          "2023-07-11T00:00:00",
          "2023-07-10T00:00:00",
          "2023-07-07T00:00:00",
          "2023-07-06T00:00:00",
          "2023-07-05T00:00:00",
          "2023-07-03T00:00:00",
          "2023-06-30T00:00:00",
          "2023-06-29T00:00:00",
          "2023-06-28T00:00:00",
          "2023-06-27T00:00:00",
          "2023-06-26T00:00:00",
          "2023-06-23T00:00:00",
          "2023-06-22T00:00:00",
          "2023-06-21T00:00:00",
          "2023-06-20T00:00:00",
          "2023-06-16T00:00:00",
          "2023-06-15T00:00:00",
          "2023-06-14T00:00:00",
          "2023-06-13T00:00:00",
          "2023-06-12T00:00:00",
          "2023-06-09T00:00:00",
          "2023-06-08T00:00:00",
          "2023-06-07T00:00:00",
          "2023-06-06T00:00:00",
          "2023-06-05T00:00:00",
          "2023-06-02T00:00:00",
          "2023-06-01T00:00:00",
          "2023-05-31T00:00:00",
          "2023-05-30T00:00:00",
          "2023-05-26T00:00:00",
          "2023-05-25T00:00:00",
          "2023-05-24T00:00:00",
          "2023-05-23T00:00:00",
          "2023-05-22T00:00:00",
          "2023-05-19T00:00:00",
          "2023-05-18T00:00:00",
          "2023-05-17T00:00:00",
          "2023-05-16T00:00:00",
          "2023-05-15T00:00:00",
          "2023-05-12T00:00:00",
          "2023-05-11T00:00:00",
          "2023-05-10T00:00:00",
          "2023-05-09T00:00:00",
          "2023-05-08T00:00:00",
          "2023-05-05T00:00:00",
          "2023-05-04T00:00:00",
          "2023-05-03T00:00:00",
          "2023-05-02T00:00:00",
          "2023-05-01T00:00:00",
          "2023-04-28T00:00:00",
          "2023-04-27T00:00:00",
          "2023-04-26T00:00:00",
          "2023-04-25T00:00:00",
          "2023-04-24T00:00:00",
          "2023-04-21T00:00:00",
          "2023-04-20T00:00:00",
          "2023-04-19T00:00:00",
          "2023-04-18T00:00:00",
          "2023-04-17T00:00:00",
          "2023-04-14T00:00:00",
          "2023-04-13T00:00:00",
          "2023-04-12T00:00:00",
          "2023-04-11T00:00:00",
          "2023-04-10T00:00:00",
          "2023-04-06T00:00:00",
          "2023-04-05T00:00:00",
          "2023-04-04T00:00:00",
          "2023-04-03T00:00:00",
          "2023-03-31T00:00:00",
          "2023-03-30T00:00:00",
          "2023-03-29T00:00:00",
          "2023-03-28T00:00:00",
          "2023-03-27T00:00:00",
          "2023-03-24T00:00:00",
          "2023-03-23T00:00:00",
          "2023-03-22T00:00:00",
          "2023-03-21T00:00:00",
          "2023-03-20T00:00:00",
          "2023-03-17T00:00:00",
          "2023-03-16T00:00:00",
          "2023-03-15T00:00:00",
          "2023-03-14T00:00:00",
          "2023-03-13T00:00:00",
          "2023-03-10T00:00:00",
          "2023-03-09T00:00:00",
          "2023-03-08T00:00:00",
          "2023-03-07T00:00:00",
          "2023-03-06T00:00:00",
          "2023-03-03T00:00:00",
          "2023-03-02T00:00:00",
          "2023-03-01T00:00:00",
          "2023-02-28T00:00:00",
          "2023-02-27T00:00:00",
          "2023-02-24T00:00:00",
          "2023-02-23T00:00:00",
          "2023-02-22T00:00:00",
          "2023-02-21T00:00:00",
          "2023-02-17T00:00:00",
          "2023-02-16T00:00:00",
          "2023-02-15T00:00:00",
          "2023-02-14T00:00:00",
          "2023-02-13T00:00:00",
          "2023-02-10T00:00:00",
          "2023-02-09T00:00:00",
          "2023-02-08T00:00:00",
          "2023-02-07T00:00:00",
          "2023-02-06T00:00:00",
          "2023-02-03T00:00:00",
          "2023-02-02T00:00:00",
          "2023-02-01T00:00:00",
          "2023-01-31T00:00:00",
          "2023-01-30T00:00:00",
          "2023-01-27T00:00:00",
          "2023-01-26T00:00:00",
          "2023-01-25T00:00:00",
          "2023-01-24T00:00:00",
          "2023-01-23T00:00:00",
          "2023-01-20T00:00:00",
          "2023-01-19T00:00:00",
          "2023-01-18T00:00:00",
          "2023-01-17T00:00:00",
          "2023-01-13T00:00:00",
          "2023-01-12T00:00:00",
          "2023-01-11T00:00:00",
          "2023-01-10T00:00:00",
          "2023-01-09T00:00:00",
          "2023-01-06T00:00:00",
          "2023-01-05T00:00:00",
          "2023-01-04T00:00:00",
          "2023-01-03T00:00:00"
         ],
         "xaxis": "x",
         "y": [
          37.66,
          38.87,
          39,
          39.67,
          39.66,
          40.03,
          37.95,
          39.08,
          38.64,
          38.32,
          37.4,
          36.85,
          35.8,
          36.61,
          36.54,
          36.23,
          38.02,
          38.42,
          38.1,
          37.69,
          36.24,
          36.24,
          35.28,
          35.56,
          36.19,
          36.06,
          37.02,
          37.6,
          36.75,
          36.65,
          38.78,
          37.91,
          35.79,
          36.21,
          35.61,
          38.2,
          38.25,
          37.4,
          39.9,
          41.72,
          39.13,
          39.46,
          39.23,
          39.98,
          40.06,
          40.29,
          41.6,
          40.67,
          41.05,
          42.65,
          41.94,
          43.72,
          42.81,
          41.27,
          41.82,
          43.11,
          43.11,
          42.64,
          42.46,
          41.28,
          43.34,
          42.31,
          44.55,
          45.61,
          44.63,
          43.16,
          42.4,
          43.19,
          42.93,
          43.04,
          44.29,
          45.36,
          46.39,
          45.89,
          46.68,
          47.23,
          47.66,
          50.03,
          51.6,
          52.04,
          49.69,
          49.07,
          49.55,
          48.7,
          48.16,
          48.02,
          46.77,
          46.78,
          45.74,
          47.3,
          46.26,
          45.74,
          45.74,
          44.97,
          45.9,
          47.7,
          48.41,
          47.96,
          47.67,
          47.95,
          48.25,
          49.02,
          49.55,
          48.22,
          48.44,
          51.42,
          51.52,
          49.76,
          47.52,
          49.07,
          48.59,
          48.13,
          48.545,
          48.35,
          51.35,
          51.57,
          51.22,
          50.46,
          51.83,
          50.37,
          51.01,
          50.36,
          48.52,
          47.76,
          48.52,
          48.33,
          47.6,
          47.96,
          48.23,
          47.22,
          46.11,
          47.29,
          48.26,
          48.27,
          51.96,
          52.57,
          53.27,
          52.5,
          53.895,
          49.25,
          48.11,
          47.75,
          46.22,
          46.04,
          44.14,
          45.64,
          44.45,
          42.83,
          41.46,
          40.56,
          40.23,
          40.91,
          40.41,
          41.13,
          39.22,
          39.24,
          37.86,
          35.9,
          36.06,
          35.46,
          36.7,
          37.47,
          35.64,
          35.5,
          33.96,
          33.73,
          35.17,
          36.31,
          38.12,
          37.55,
          36.83,
          35.78,
          35.89,
          38.28,
          40,
          39.91,
          40.51,
          40.71,
          40.52,
          40.36,
          41.66,
          40.35,
          41.38,
          41.91,
          42.18,
          40.845,
          43.58,
          43.995,
          44.38,
          42.31,
          42,
          40.33,
          40.61,
          40.2,
          40.67,
          39.73,
          41.57,
          40.61,
          41.59,
          42.73,
          41.21,
          40.97,
          40.05,
          39.75,
          40.78,
          42.91,
          43.57,
          44.47,
          44.64,
          42.74,
          41.19,
          41.45,
          41.81,
          42.44,
          44.1,
          43.68,
          42.64,
          45.96,
          44.86,
          44.22,
          41.87,
          40.4,
          40.64,
          41.64,
          42.79,
          43.42,
          42.69,
          43.69,
          45.67,
          43.44,
          41.365,
          40.92,
          41.78,
          41.26,
          40.57,
          40.31,
          40.67,
          38.61,
          36.62,
          37.35,
          37.14,
          35.45,
          34.69,
          32.69,
          31.12,
          31.28,
          31.64,
          31.74,
          32.24,
          32.4
         ],
         "yaxis": "y"
        }
       ],
       "layout": {
        "legend": {
         "tracegroupgap": 0
        },
        "margin": {
         "t": 60
        },
        "template": {
         "data": {
          "bar": [
           {
            "error_x": {
             "color": "#2a3f5f"
            },
            "error_y": {
             "color": "#2a3f5f"
            },
            "marker": {
             "line": {
              "color": "#E5ECF6",
              "width": 0.5
             },
             "pattern": {
              "fillmode": "overlay",
              "size": 10,
              "solidity": 0.2
             }
            },
            "type": "bar"
           }
          ],
          "barpolar": [
           {
            "marker": {
             "line": {
              "color": "#E5ECF6",
              "width": 0.5
             },
             "pattern": {
              "fillmode": "overlay",
              "size": 10,
              "solidity": 0.2
             }
            },
            "type": "barpolar"
           }
          ],
          "carpet": [
           {
            "aaxis": {
             "endlinecolor": "#2a3f5f",
             "gridcolor": "white",
             "linecolor": "white",
             "minorgridcolor": "white",
             "startlinecolor": "#2a3f5f"
            },
            "baxis": {
             "endlinecolor": "#2a3f5f",
             "gridcolor": "white",
             "linecolor": "white",
             "minorgridcolor": "white",
             "startlinecolor": "#2a3f5f"
            },
            "type": "carpet"
           }
          ],
          "choropleth": [
           {
            "colorbar": {
             "outlinewidth": 0,
             "ticks": ""
            },
            "type": "choropleth"
           }
          ],
          "contour": [
           {
            "colorbar": {
             "outlinewidth": 0,
             "ticks": ""
            },
            "colorscale": [
             [
              0,
              "#0d0887"
             ],
             [
              0.1111111111111111,
              "#46039f"
             ],
             [
              0.2222222222222222,
              "#7201a8"
             ],
             [
              0.3333333333333333,
              "#9c179e"
             ],
             [
              0.4444444444444444,
              "#bd3786"
             ],
             [
              0.5555555555555556,
              "#d8576b"
             ],
             [
              0.6666666666666666,
              "#ed7953"
             ],
             [
              0.7777777777777778,
              "#fb9f3a"
             ],
             [
              0.8888888888888888,
              "#fdca26"
             ],
             [
              1,
              "#f0f921"
             ]
            ],
            "type": "contour"
           }
          ],
          "contourcarpet": [
           {
            "colorbar": {
             "outlinewidth": 0,
             "ticks": ""
            },
            "type": "contourcarpet"
           }
          ],
          "heatmap": [
           {
            "colorbar": {
             "outlinewidth": 0,
             "ticks": ""
            },
            "colorscale": [
             [
              0,
              "#0d0887"
             ],
             [
              0.1111111111111111,
              "#46039f"
             ],
             [
              0.2222222222222222,
              "#7201a8"
             ],
             [
              0.3333333333333333,
              "#9c179e"
             ],
             [
              0.4444444444444444,
              "#bd3786"
             ],
             [
              0.5555555555555556,
              "#d8576b"
             ],
             [
              0.6666666666666666,
              "#ed7953"
             ],
             [
              0.7777777777777778,
              "#fb9f3a"
             ],
             [
              0.8888888888888888,
              "#fdca26"
             ],
             [
              1,
              "#f0f921"
             ]
            ],
            "type": "heatmap"
           }
          ],
          "heatmapgl": [
           {
            "colorbar": {
             "outlinewidth": 0,
             "ticks": ""
            },
            "colorscale": [
             [
              0,
              "#0d0887"
             ],
             [
              0.1111111111111111,
              "#46039f"
             ],
             [
              0.2222222222222222,
              "#7201a8"
             ],
             [
              0.3333333333333333,
              "#9c179e"
             ],
             [
              0.4444444444444444,
              "#bd3786"
             ],
             [
              0.5555555555555556,
              "#d8576b"
             ],
             [
              0.6666666666666666,
              "#ed7953"
             ],
             [
              0.7777777777777778,
              "#fb9f3a"
             ],
             [
              0.8888888888888888,
              "#fdca26"
             ],
             [
              1,
              "#f0f921"
             ]
            ],
            "type": "heatmapgl"
           }
          ],
          "histogram": [
           {
            "marker": {
             "pattern": {
              "fillmode": "overlay",
              "size": 10,
              "solidity": 0.2
             }
            },
            "type": "histogram"
           }
          ],
          "histogram2d": [
           {
            "colorbar": {
             "outlinewidth": 0,
             "ticks": ""
            },
            "colorscale": [
             [
              0,
              "#0d0887"
             ],
             [
              0.1111111111111111,
              "#46039f"
             ],
             [
              0.2222222222222222,
              "#7201a8"
             ],
             [
              0.3333333333333333,
              "#9c179e"
             ],
             [
              0.4444444444444444,
              "#bd3786"
             ],
             [
              0.5555555555555556,
              "#d8576b"
             ],
             [
              0.6666666666666666,
              "#ed7953"
             ],
             [
              0.7777777777777778,
              "#fb9f3a"
             ],
             [
              0.8888888888888888,
              "#fdca26"
             ],
             [
              1,
              "#f0f921"
             ]
            ],
            "type": "histogram2d"
           }
          ],
          "histogram2dcontour": [
           {
            "colorbar": {
             "outlinewidth": 0,
             "ticks": ""
            },
            "colorscale": [
             [
              0,
              "#0d0887"
             ],
             [
              0.1111111111111111,
              "#46039f"
             ],
             [
              0.2222222222222222,
              "#7201a8"
             ],
             [
              0.3333333333333333,
              "#9c179e"
             ],
             [
              0.4444444444444444,
              "#bd3786"
             ],
             [
              0.5555555555555556,
              "#d8576b"
             ],
             [
              0.6666666666666666,
              "#ed7953"
             ],
             [
              0.7777777777777778,
              "#fb9f3a"
             ],
             [
              0.8888888888888888,
              "#fdca26"
             ],
             [
              1,
              "#f0f921"
             ]
            ],
            "type": "histogram2dcontour"
           }
          ],
          "mesh3d": [
           {
            "colorbar": {
             "outlinewidth": 0,
             "ticks": ""
            },
            "type": "mesh3d"
           }
          ],
          "parcoords": [
           {
            "line": {
             "colorbar": {
              "outlinewidth": 0,
              "ticks": ""
             }
            },
            "type": "parcoords"
           }
          ],
          "pie": [
           {
            "automargin": true,
            "type": "pie"
           }
          ],
          "scatter": [
           {
            "fillpattern": {
             "fillmode": "overlay",
             "size": 10,
             "solidity": 0.2
            },
            "type": "scatter"
           }
          ],
          "scatter3d": [
           {
            "line": {
             "colorbar": {
              "outlinewidth": 0,
              "ticks": ""
             }
            },
            "marker": {
             "colorbar": {
              "outlinewidth": 0,
              "ticks": ""
             }
            },
            "type": "scatter3d"
           }
          ],
          "scattercarpet": [
           {
            "marker": {
             "colorbar": {
              "outlinewidth": 0,
              "ticks": ""
             }
            },
            "type": "scattercarpet"
           }
          ],
          "scattergeo": [
           {
            "marker": {
             "colorbar": {
              "outlinewidth": 0,
              "ticks": ""
             }
            },
            "type": "scattergeo"
           }
          ],
          "scattergl": [
           {
            "marker": {
             "colorbar": {
              "outlinewidth": 0,
              "ticks": ""
             }
            },
            "type": "scattergl"
           }
          ],
          "scattermapbox": [
           {
            "marker": {
             "colorbar": {
              "outlinewidth": 0,
              "ticks": ""
             }
            },
            "type": "scattermapbox"
           }
          ],
          "scatterpolar": [
           {
            "marker": {
             "colorbar": {
              "outlinewidth": 0,
              "ticks": ""
             }
            },
            "type": "scatterpolar"
           }
          ],
          "scatterpolargl": [
           {
            "marker": {
             "colorbar": {
              "outlinewidth": 0,
              "ticks": ""
             }
            },
            "type": "scatterpolargl"
           }
          ],
          "scatterternary": [
           {
            "marker": {
             "colorbar": {
              "outlinewidth": 0,
              "ticks": ""
             }
            },
            "type": "scatterternary"
           }
          ],
          "surface": [
           {
            "colorbar": {
             "outlinewidth": 0,
             "ticks": ""
            },
            "colorscale": [
             [
              0,
              "#0d0887"
             ],
             [
              0.1111111111111111,
              "#46039f"
             ],
             [
              0.2222222222222222,
              "#7201a8"
             ],
             [
              0.3333333333333333,
              "#9c179e"
             ],
             [
              0.4444444444444444,
              "#bd3786"
             ],
             [
              0.5555555555555556,
              "#d8576b"
             ],
             [
              0.6666666666666666,
              "#ed7953"
             ],
             [
              0.7777777777777778,
              "#fb9f3a"
             ],
             [
              0.8888888888888888,
              "#fdca26"
             ],
             [
              1,
              "#f0f921"
             ]
            ],
            "type": "surface"
           }
          ],
          "table": [
           {
            "cells": {
             "fill": {
              "color": "#EBF0F8"
             },
             "line": {
              "color": "white"
             }
            },
            "header": {
             "fill": {
              "color": "#C8D4E3"
             },
             "line": {
              "color": "white"
             }
            },
            "type": "table"
           }
          ]
         },
         "layout": {
          "annotationdefaults": {
           "arrowcolor": "#2a3f5f",
           "arrowhead": 0,
           "arrowwidth": 1
          },
          "autotypenumbers": "strict",
          "coloraxis": {
           "colorbar": {
            "outlinewidth": 0,
            "ticks": ""
           }
          },
          "colorscale": {
           "diverging": [
            [
             0,
             "#8e0152"
            ],
            [
             0.1,
             "#c51b7d"
            ],
            [
             0.2,
             "#de77ae"
            ],
            [
             0.3,
             "#f1b6da"
            ],
            [
             0.4,
             "#fde0ef"
            ],
            [
             0.5,
             "#f7f7f7"
            ],
            [
             0.6,
             "#e6f5d0"
            ],
            [
             0.7,
             "#b8e186"
            ],
            [
             0.8,
             "#7fbc41"
            ],
            [
             0.9,
             "#4d9221"
            ],
            [
             1,
             "#276419"
            ]
           ],
           "sequential": [
            [
             0,
             "#0d0887"
            ],
            [
             0.1111111111111111,
             "#46039f"
            ],
            [
             0.2222222222222222,
             "#7201a8"
            ],
            [
             0.3333333333333333,
             "#9c179e"
            ],
            [
             0.4444444444444444,
             "#bd3786"
            ],
            [
             0.5555555555555556,
             "#d8576b"
            ],
            [
             0.6666666666666666,
             "#ed7953"
            ],
            [
             0.7777777777777778,
             "#fb9f3a"
            ],
            [
             0.8888888888888888,
             "#fdca26"
            ],
            [
             1,
             "#f0f921"
            ]
           ],
           "sequentialminus": [
            [
             0,
             "#0d0887"
            ],
            [
             0.1111111111111111,
             "#46039f"
            ],
            [
             0.2222222222222222,
             "#7201a8"
            ],
            [
             0.3333333333333333,
             "#9c179e"
            ],
            [
             0.4444444444444444,
             "#bd3786"
            ],
            [
             0.5555555555555556,
             "#d8576b"
            ],
            [
             0.6666666666666666,
             "#ed7953"
            ],
            [
             0.7777777777777778,
             "#fb9f3a"
            ],
            [
             0.8888888888888888,
             "#fdca26"
            ],
            [
             1,
             "#f0f921"
            ]
           ]
          },
          "colorway": [
           "#636efa",
           "#EF553B",
           "#00cc96",
           "#ab63fa",
           "#FFA15A",
           "#19d3f3",
           "#FF6692",
           "#B6E880",
           "#FF97FF",
           "#FECB52"
          ],
          "font": {
           "color": "#2a3f5f"
          },
          "geo": {
           "bgcolor": "white",
           "lakecolor": "white",
           "landcolor": "#E5ECF6",
           "showlakes": true,
           "showland": true,
           "subunitcolor": "white"
          },
          "hoverlabel": {
           "align": "left"
          },
          "hovermode": "closest",
          "mapbox": {
           "style": "light"
          },
          "paper_bgcolor": "white",
          "plot_bgcolor": "#E5ECF6",
          "polar": {
           "angularaxis": {
            "gridcolor": "white",
            "linecolor": "white",
            "ticks": ""
           },
           "bgcolor": "#E5ECF6",
           "radialaxis": {
            "gridcolor": "white",
            "linecolor": "white",
            "ticks": ""
           }
          },
          "scene": {
           "xaxis": {
            "backgroundcolor": "#E5ECF6",
            "gridcolor": "white",
            "gridwidth": 2,
            "linecolor": "white",
            "showbackground": true,
            "ticks": "",
            "zerolinecolor": "white"
           },
           "yaxis": {
            "backgroundcolor": "#E5ECF6",
            "gridcolor": "white",
            "gridwidth": 2,
            "linecolor": "white",
            "showbackground": true,
            "ticks": "",
            "zerolinecolor": "white"
           },
           "zaxis": {
            "backgroundcolor": "#E5ECF6",
            "gridcolor": "white",
            "gridwidth": 2,
            "linecolor": "white",
            "showbackground": true,
            "ticks": "",
            "zerolinecolor": "white"
           }
          },
          "shapedefaults": {
           "line": {
            "color": "#2a3f5f"
           }
          },
          "ternary": {
           "aaxis": {
            "gridcolor": "white",
            "linecolor": "white",
            "ticks": ""
           },
           "baxis": {
            "gridcolor": "white",
            "linecolor": "white",
            "ticks": ""
           },
           "bgcolor": "#E5ECF6",
           "caxis": {
            "gridcolor": "white",
            "linecolor": "white",
            "ticks": ""
           }
          },
          "title": {
           "x": 0.05
          },
          "xaxis": {
           "automargin": true,
           "gridcolor": "white",
           "linecolor": "white",
           "ticks": "",
           "title": {
            "standoff": 15
           },
           "zerolinecolor": "white",
           "zerolinewidth": 2
          },
          "yaxis": {
           "automargin": true,
           "gridcolor": "white",
           "linecolor": "white",
           "ticks": "",
           "title": {
            "standoff": 15
           },
           "zerolinecolor": "white",
           "zerolinewidth": 2
          }
         }
        },
        "xaxis": {
         "anchor": "y",
         "domain": [
          0,
          1
         ],
         "title": {
          "text": "Date"
         }
        },
        "yaxis": {
         "anchor": "x",
         "domain": [
          0,
          1
         ],
         "title": {
          "text": "Close"
         }
        }
       }
      }
     },
     "metadata": {},
     "output_type": "display_data"
    }
   ],
   "source": [
    "px.line(data_frame= stocks[stocks[\"Symbols\"] == value],\n",
    "        x=\"Date\",\n",
    "        y=\"Close\")"
   ]
  },
  {
   "cell_type": "code",
   "execution_count": 79,
   "metadata": {},
   "outputs": [
    {
     "data": {
      "application/vnd.plotly.v1+json": {
       "config": {
        "plotlyServerURL": "https://plot.ly"
       },
       "data": [
        {
         "close": [
          37.66,
          38.87,
          39,
          39.67,
          39.66,
          40.03,
          37.95,
          39.08,
          38.64,
          38.32,
          37.4,
          36.85,
          35.8,
          36.61,
          36.54,
          36.23,
          38.02,
          38.42,
          38.1,
          37.69,
          36.24,
          36.24,
          35.28,
          35.56,
          36.19,
          36.06,
          37.02,
          37.6,
          36.75,
          36.65,
          38.78,
          37.91,
          35.79,
          36.21,
          35.61,
          38.2,
          38.25,
          37.4,
          39.9,
          41.72,
          39.13,
          39.46,
          39.23,
          39.98,
          40.06,
          40.29,
          41.6,
          40.67,
          41.05,
          42.65,
          41.94,
          43.72,
          42.81,
          41.27,
          41.82,
          43.11,
          43.11,
          42.64,
          42.46,
          41.28,
          43.34,
          42.31,
          44.55,
          45.61,
          44.63,
          43.16,
          42.4,
          43.19,
          42.93,
          43.04,
          44.29,
          45.36,
          46.39,
          45.89,
          46.68,
          47.23,
          47.66,
          50.03,
          51.6,
          52.04,
          49.69,
          49.07,
          49.55,
          48.7,
          48.16,
          48.02,
          46.77,
          46.78,
          45.74,
          47.3,
          46.26,
          45.74,
          45.74,
          44.97,
          45.9,
          47.7,
          48.41,
          47.96,
          47.67,
          47.95,
          48.25,
          49.02,
          49.55,
          48.22,
          48.44,
          51.42,
          51.52,
          49.76,
          47.52,
          49.07,
          48.59,
          48.13,
          48.545,
          48.35,
          51.35,
          51.57,
          51.22,
          50.46,
          51.83,
          50.37,
          51.01,
          50.36,
          48.52,
          47.76,
          48.52,
          48.33,
          47.6,
          47.96,
          48.23,
          47.22,
          46.11,
          47.29,
          48.26,
          48.27,
          51.96,
          52.57,
          53.27,
          52.5,
          53.895,
          49.25,
          48.11,
          47.75,
          46.22,
          46.04,
          44.14,
          45.64,
          44.45,
          42.83,
          41.46,
          40.56,
          40.23,
          40.91,
          40.41,
          41.13,
          39.22,
          39.24,
          37.86,
          35.9,
          36.06,
          35.46,
          36.7,
          37.47,
          35.64,
          35.5,
          33.96,
          33.73,
          35.17,
          36.31,
          38.12,
          37.55,
          36.83,
          35.78,
          35.89,
          38.28,
          40,
          39.91,
          40.51,
          40.71,
          40.52,
          40.36,
          41.66,
          40.35,
          41.38,
          41.91,
          42.18,
          40.845,
          43.58,
          43.995,
          44.38,
          42.31,
          42,
          40.33,
          40.61,
          40.2,
          40.67,
          39.73,
          41.57,
          40.61,
          41.59,
          42.73,
          41.21,
          40.97,
          40.05,
          39.75,
          40.78,
          42.91,
          43.57,
          44.47,
          44.64,
          42.74,
          41.19,
          41.45,
          41.81,
          42.44,
          44.1,
          43.68,
          42.64,
          45.96,
          44.86,
          44.22,
          41.87,
          40.4,
          40.64,
          41.64,
          42.79,
          43.42,
          42.69,
          43.69,
          45.67,
          43.44,
          41.365,
          40.92,
          41.78,
          41.26,
          40.57,
          40.31,
          40.67,
          38.61,
          36.62,
          37.35,
          37.14,
          35.45,
          34.69,
          32.69,
          31.12,
          31.28,
          31.64,
          31.74,
          32.24,
          32.4
         ],
         "high": [
          38.9772,
          39.57,
          40,
          39.81,
          40.53,
          40.15,
          39.895,
          40.4,
          38.81,
          38.77,
          39.09,
          36.89,
          36.61,
          37.27,
          36.7,
          37.88,
          39,
          38.6,
          38.44,
          37.83,
          37.24,
          37.29,
          35.9699,
          36.25,
          36.285,
          37.86,
          37.61,
          38.83,
          37.05,
          38.5424,
          40.67,
          38.67,
          36.1,
          36.37,
          38.5,
          38.27,
          40.44,
          39.81,
          40.5,
          42.99,
          39.59,
          40.29,
          40.535,
          40.58,
          40.95,
          41.35,
          42.59,
          41.62,
          42.86,
          43.64,
          43.555,
          44.28,
          43.17,
          41.79,
          42.7,
          44.26,
          44.445,
          43.1,
          42.4994,
          43.095,
          43.78,
          44.44,
          45.915,
          46.56,
          45.19,
          43.63,
          43.36,
          43.59,
          43.62,
          43.72,
          46.25,
          46.14,
          47.245,
          46.48,
          47.72,
          47.78,
          49.99,
          51.92,
          52.68,
          52.99,
          49.72,
          49.49,
          50.13,
          48.96,
          48.57,
          48.495,
          47.85,
          47.1,
          47.94,
          47.59,
          46.86,
          46.85,
          46.11,
          46.13,
          47.6999,
          48.25,
          48.47,
          48,
          49.68,
          48.555,
          48.38,
          49.98,
          50.298,
          48.66,
          50.5,
          51.65,
          51.6441,
          49.98,
          50,
          49.32,
          49.16,
          49.295,
          49.66,
          51.05,
          52.66,
          51.86,
          51.64,
          52.19,
          52.5899,
          52.13,
          51.2564,
          50.36,
          49.47,
          47.85,
          48.98,
          48.41,
          48.99,
          48.69,
          49.09,
          47.71,
          47.92,
          47.795,
          49.55,
          51.96,
          52.84,
          54,
          53.45,
          54.26,
          54.03,
          49.7,
          50.14,
          48.01,
          47.99,
          46.56,
          45.42,
          46.3,
          44.81,
          43.25,
          41.925,
          41.46,
          41.99,
          41.12,
          41.9,
          41.67,
          39.44,
          39.3625,
          37.99,
          36,
          36.28,
          36.68,
          37.3,
          38.23,
          36.6,
          35.66,
          34.86,
          35.27,
          37.35,
          38.06,
          38.41,
          37.74,
          37.14,
          37,
          37.79,
          40,
          40.27,
          40.41,
          40.87,
          41.21,
          40.86,
          41.47,
          41.85,
          42.65,
          42.025,
          41.92,
          42.4,
          43.26,
          44.5,
          44.4999,
          45,
          43.0111,
          42.25,
          40.39,
          41,
          40.75,
          41.65,
          41.5599,
          41.85,
          41.51,
          42.76,
          43.155,
          41.41,
          42,
          41.03,
          40.45,
          43.93,
          43.76,
          45.1,
          45.73,
          44.92,
          42.8,
          42.495,
          42.35,
          43.575,
          43.15,
          44.56,
          44.6567,
          46.16,
          47.71,
          45.9212,
          44.25,
          42.4,
          41.4422,
          41.98,
          44.245,
          44.41,
          43.62,
          44.08,
          45.36,
          46.444,
          44.08,
          41.7924,
          41.86,
          42.6,
          42.57,
          40.6,
          41.79,
          40.7125,
          39.26,
          37.98,
          38.71,
          37.29,
          36.08,
          34.83,
          32.7,
          31.33,
          32.59,
          32.03,
          32.45,
          33.015,
          33.81
         ],
         "low": [
          37.55,
          38.61,
          38.64,
          39.2692,
          39.22,
          37.8041,
          37.895,
          38.905,
          37.64,
          37.31,
          37.07,
          34.54,
          35.7,
          35.6401,
          35.3838,
          36.18,
          37.745,
          37.32,
          37.24,
          36.13,
          35.95,
          35.97,
          35.11,
          35.51,
          35.6,
          35.9,
          36.0613,
          36.62,
          36.28,
          36.37,
          38.07,
          37.18,
          35.387,
          35.325,
          35.42,
          36.93,
          37.85,
          37.08,
          38.2,
          39.99,
          38.41,
          38.57,
          39.2,
          39.67,
          39.16,
          40.17,
          40.84,
          39.71,
          40.84,
          41.77,
          41.778,
          42.04,
          41.375,
          41.185,
          41.455,
          42.34,
          42.8,
          41.46,
          40.3477,
          41.1,
          42.1,
          42.12,
          44.05,
          45.0128,
          42.45,
          42.27,
          42.21,
          42.18,
          42.5301,
          42.75,
          44.26,
          44.38,
          45.455,
          44.96,
          45.935,
          46.65,
          47.57,
          49.74,
          51.565,
          48.18,
          48.7827,
          48.77,
          48.8,
          47.875,
          47.56,
          46.22,
          46.67,
          45.62,
          45.6,
          46.33,
          46,
          45.49,
          43.81,
          44.56,
          45.8,
          47.39,
          47.05,
          46.956,
          46.81,
          47.5,
          47.09,
          47.3201,
          46.25,
          47.31,
          47.27,
          50.6,
          49.9,
          48.65,
          47.005,
          47.95,
          48,
          47.665,
          48.13,
          47.94,
          50.83,
          50.85,
          50.195,
          49.95,
          50.59,
          49.64,
          50.06,
          48.12,
          48.02,
          46.3,
          47.2319,
          47.27,
          47.44,
          47.5,
          47.013,
          46.17,
          45.97,
          47.01,
          47.38,
          48.22,
          50.7,
          51.9,
          51.505,
          52.16,
          49.9,
          48.65,
          47.58,
          45.02,
          45.9,
          43.81,
          43.535,
          44.66,
          41.785,
          41.15,
          40.83,
          40.15,
          40.065,
          39.89,
          40.37,
          39.0783,
          38.88,
          37.52,
          35.58,
          35.28,
          35,
          35.02,
          35.9,
          35.89,
          34.425,
          33.93,
          33.89,
          32.82,
          35.0001,
          36.31,
          37,
          35.77,
          35.7161,
          35.58,
          35.76,
          37.54,
          39.61,
          39.6,
          39.76,
          40.26,
          40.19,
          39.76,
          40.81,
          40.19,
          40.23,
          40.225,
          40.49,
          40.445,
          43.19,
          43.01,
          42.58,
          41.67,
          40.57,
          39.83,
          39.84,
          38.77,
          40.08,
          39.72,
          40.76,
          39.9322,
          41.01,
          40.87,
          39.86,
          40.41,
          38.14,
          38.4,
          40.78,
          42.69,
          43.26,
          44.07,
          43.24,
          40.08,
          40.93,
          41.19,
          41.68,
          42.095,
          42.895,
          42.99,
          42.41,
          45.05,
          42.69,
          41.77,
          39.39,
          40.235,
          40.4,
          41.6,
          42.73,
          41.56,
          42.25,
          43.14,
          44.89,
          40.84,
          40.9,
          40.702,
          40.71,
          40.09,
          38.79,
          40.11,
          38.07,
          36.83,
          36.07,
          36.965,
          35.45,
          34.2,
          32.31,
          30.87,
          30.52,
          31.0881,
          29.8,
          30.55,
          31.94,
          31.72
         ],
         "open": [
          38.66,
          38.76,
          39.79,
          39.54,
          40.18,
          38.4,
          38.94,
          39.15,
          38.3,
          37.71,
          37.51,
          35.78,
          36.61,
          36.1,
          35.79,
          37.82,
          38.48,
          38.01,
          37.36,
          36.33,
          36.54,
          35.97,
          35.52,
          35.86,
          35.88,
          37.24,
          37.31,
          36.97,
          36.81,
          38.47,
          38.07,
          37.28,
          36,
          35.41,
          38.45,
          38.09,
          39.14,
          39.71,
          38.95,
          39.99,
          39.41,
          39.26,
          40.25,
          40.22,
          40.55,
          41.2,
          40.84,
          40.49,
          42.86,
          42.28,
          43.32,
          42.04,
          41.5,
          41.66,
          42.41,
          43.4,
          42.8,
          41.63,
          40.51,
          43.08,
          42.47,
          44.04,
          45.45,
          45.13,
          42.9,
          42.76,
          42.87,
          42.5,
          43.47,
          43.46,
          45.65,
          46.14,
          45.89,
          46.48,
          47.23,
          47.46,
          49.51,
          51.92,
          52,
          49.04,
          49.12,
          49.03,
          49,
          48.16,
          47.73,
          46.56,
          47.06,
          45.82,
          47.54,
          46.41,
          46.27,
          45.89,
          44.07,
          45.76,
          47.59,
          48.05,
          47.55,
          47.07,
          48.47,
          48.09,
          47.83,
          49.87,
          49.52,
          47.73,
          50.28,
          51.18,
          49.9,
          48.65,
          50,
          48.17,
          48.29,
          48.89,
          49.27,
          51.01,
          52,
          51.18,
          50.38,
          51.65,
          50.59,
          52,
          50.6,
          48.14,
          48.02,
          47.7,
          47.61,
          47.49,
          48.52,
          48,
          47.16,
          46.52,
          47.67,
          47.19,
          48.08,
          51.96,
          52.04,
          53.93,
          51.84,
          53.91,
          50,
          48.75,
          47.98,
          46.01,
          46.79,
          43.87,
          45.03,
          45,
          42.34,
          41.15,
          41.21,
          40.15,
          41.58,
          39.97,
          41.05,
          39.27,
          39.37,
          37.98,
          36,
          35.68,
          35.32,
          36.41,
          37.18,
          37.44,
          35.15,
          33.93,
          34.3,
          35.23,
          36.48,
          37.89,
          37.38,
          36.81,
          36.19,
          36.51,
          37.79,
          39.84,
          39.77,
          39.82,
          40.09,
          41.21,
          40.3,
          41.33,
          40.81,
          42.29,
          41.82,
          41.56,
          40.98,
          43.26,
          44.17,
          43.93,
          42.58,
          42.49,
          41.06,
          40.29,
          40.53,
          40.26,
          40.25,
          41.44,
          41.08,
          41.5,
          42.76,
          40.96,
          40.1,
          41.08,
          38.95,
          40.45,
          42.86,
          43.55,
          44.5,
          45.01,
          43.24,
          40.91,
          41.49,
          41.62,
          43.33,
          42.58,
          44.23,
          43.63,
          45.13,
          46.45,
          43.13,
          41.77,
          40.31,
          41,
          41.01,
          43.53,
          43.6,
          42.61,
          42.85,
          43.93,
          45,
          41.17,
          40.93,
          41.86,
          41.01,
          41.65,
          39.78,
          40.62,
          38.82,
          37.225,
          36.81,
          37.74,
          35.99,
          34.24,
          33,
          31.46,
          30.94,
          31.41,
          31.77,
          31.68,
          32.89,
          33.4
         ],
         "type": "candlestick",
         "x": [
          "2023-12-29T00:00:00",
          "2023-12-28T00:00:00",
          "2023-12-27T00:00:00",
          "2023-12-26T00:00:00",
          "2023-12-22T00:00:00",
          "2023-12-21T00:00:00",
          "2023-12-20T00:00:00",
          "2023-12-19T00:00:00",
          "2023-12-18T00:00:00",
          "2023-12-15T00:00:00",
          "2023-12-14T00:00:00",
          "2023-12-13T00:00:00",
          "2023-12-12T00:00:00",
          "2023-12-11T00:00:00",
          "2023-12-08T00:00:00",
          "2023-12-07T00:00:00",
          "2023-12-06T00:00:00",
          "2023-12-05T00:00:00",
          "2023-12-04T00:00:00",
          "2023-12-01T00:00:00",
          "2023-11-30T00:00:00",
          "2023-11-29T00:00:00",
          "2023-11-28T00:00:00",
          "2023-11-27T00:00:00",
          "2023-11-24T00:00:00",
          "2023-11-22T00:00:00",
          "2023-11-21T00:00:00",
          "2023-11-20T00:00:00",
          "2023-11-17T00:00:00",
          "2023-11-16T00:00:00",
          "2023-11-15T00:00:00",
          "2023-11-14T00:00:00",
          "2023-11-13T00:00:00",
          "2023-11-10T00:00:00",
          "2023-11-09T00:00:00",
          "2023-11-08T00:00:00",
          "2023-11-07T00:00:00",
          "2023-11-06T00:00:00",
          "2023-11-03T00:00:00",
          "2023-11-02T00:00:00",
          "2023-11-01T00:00:00",
          "2023-10-31T00:00:00",
          "2023-10-30T00:00:00",
          "2023-10-27T00:00:00",
          "2023-10-26T00:00:00",
          "2023-10-25T00:00:00",
          "2023-10-24T00:00:00",
          "2023-10-23T00:00:00",
          "2023-10-20T00:00:00",
          "2023-10-19T00:00:00",
          "2023-10-18T00:00:00",
          "2023-10-17T00:00:00",
          "2023-10-16T00:00:00",
          "2023-10-13T00:00:00",
          "2023-10-12T00:00:00",
          "2023-10-11T00:00:00",
          "2023-10-10T00:00:00",
          "2023-10-09T00:00:00",
          "2023-10-06T00:00:00",
          "2023-10-05T00:00:00",
          "2023-10-04T00:00:00",
          "2023-10-03T00:00:00",
          "2023-10-02T00:00:00",
          "2023-09-29T00:00:00",
          "2023-09-28T00:00:00",
          "2023-09-27T00:00:00",
          "2023-09-26T00:00:00",
          "2023-09-25T00:00:00",
          "2023-09-22T00:00:00",
          "2023-09-21T00:00:00",
          "2023-09-20T00:00:00",
          "2023-09-19T00:00:00",
          "2023-09-18T00:00:00",
          "2023-09-15T00:00:00",
          "2023-09-14T00:00:00",
          "2023-09-13T00:00:00",
          "2023-09-12T00:00:00",
          "2023-09-11T00:00:00",
          "2023-09-08T00:00:00",
          "2023-09-07T00:00:00",
          "2023-09-06T00:00:00",
          "2023-09-05T00:00:00",
          "2023-09-01T00:00:00",
          "2023-08-31T00:00:00",
          "2023-08-30T00:00:00",
          "2023-08-29T00:00:00",
          "2023-08-28T00:00:00",
          "2023-08-25T00:00:00",
          "2023-08-24T00:00:00",
          "2023-08-23T00:00:00",
          "2023-08-22T00:00:00",
          "2023-08-21T00:00:00",
          "2023-08-18T00:00:00",
          "2023-08-17T00:00:00",
          "2023-08-16T00:00:00",
          "2023-08-15T00:00:00",
          "2023-08-14T00:00:00",
          "2023-08-11T00:00:00",
          "2023-08-10T00:00:00",
          "2023-08-09T00:00:00",
          "2023-08-08T00:00:00",
          "2023-08-07T00:00:00",
          "2023-08-04T00:00:00",
          "2023-08-03T00:00:00",
          "2023-08-02T00:00:00",
          "2023-08-01T00:00:00",
          "2023-07-31T00:00:00",
          "2023-07-28T00:00:00",
          "2023-07-27T00:00:00",
          "2023-07-26T00:00:00",
          "2023-07-25T00:00:00",
          "2023-07-24T00:00:00",
          "2023-07-21T00:00:00",
          "2023-07-20T00:00:00",
          "2023-07-19T00:00:00",
          "2023-07-18T00:00:00",
          "2023-07-17T00:00:00",
          "2023-07-14T00:00:00",
          "2023-07-13T00:00:00",
          "2023-07-12T00:00:00",
          "2023-07-11T00:00:00",
          "2023-07-10T00:00:00",
          "2023-07-07T00:00:00",
          "2023-07-06T00:00:00",
          "2023-07-05T00:00:00",
          "2023-07-03T00:00:00",
          "2023-06-30T00:00:00",
          "2023-06-29T00:00:00",
          "2023-06-28T00:00:00",
          "2023-06-27T00:00:00",
          "2023-06-26T00:00:00",
          "2023-06-23T00:00:00",
          "2023-06-22T00:00:00",
          "2023-06-21T00:00:00",
          "2023-06-20T00:00:00",
          "2023-06-16T00:00:00",
          "2023-06-15T00:00:00",
          "2023-06-14T00:00:00",
          "2023-06-13T00:00:00",
          "2023-06-12T00:00:00",
          "2023-06-09T00:00:00",
          "2023-06-08T00:00:00",
          "2023-06-07T00:00:00",
          "2023-06-06T00:00:00",
          "2023-06-05T00:00:00",
          "2023-06-02T00:00:00",
          "2023-06-01T00:00:00",
          "2023-05-31T00:00:00",
          "2023-05-30T00:00:00",
          "2023-05-26T00:00:00",
          "2023-05-25T00:00:00",
          "2023-05-24T00:00:00",
          "2023-05-23T00:00:00",
          "2023-05-22T00:00:00",
          "2023-05-19T00:00:00",
          "2023-05-18T00:00:00",
          "2023-05-17T00:00:00",
          "2023-05-16T00:00:00",
          "2023-05-15T00:00:00",
          "2023-05-12T00:00:00",
          "2023-05-11T00:00:00",
          "2023-05-10T00:00:00",
          "2023-05-09T00:00:00",
          "2023-05-08T00:00:00",
          "2023-05-05T00:00:00",
          "2023-05-04T00:00:00",
          "2023-05-03T00:00:00",
          "2023-05-02T00:00:00",
          "2023-05-01T00:00:00",
          "2023-04-28T00:00:00",
          "2023-04-27T00:00:00",
          "2023-04-26T00:00:00",
          "2023-04-25T00:00:00",
          "2023-04-24T00:00:00",
          "2023-04-21T00:00:00",
          "2023-04-20T00:00:00",
          "2023-04-19T00:00:00",
          "2023-04-18T00:00:00",
          "2023-04-17T00:00:00",
          "2023-04-14T00:00:00",
          "2023-04-13T00:00:00",
          "2023-04-12T00:00:00",
          "2023-04-11T00:00:00",
          "2023-04-10T00:00:00",
          "2023-04-06T00:00:00",
          "2023-04-05T00:00:00",
          "2023-04-04T00:00:00",
          "2023-04-03T00:00:00",
          "2023-03-31T00:00:00",
          "2023-03-30T00:00:00",
          "2023-03-29T00:00:00",
          "2023-03-28T00:00:00",
          "2023-03-27T00:00:00",
          "2023-03-24T00:00:00",
          "2023-03-23T00:00:00",
          "2023-03-22T00:00:00",
          "2023-03-21T00:00:00",
          "2023-03-20T00:00:00",
          "2023-03-17T00:00:00",
          "2023-03-16T00:00:00",
          "2023-03-15T00:00:00",
          "2023-03-14T00:00:00",
          "2023-03-13T00:00:00",
          "2023-03-10T00:00:00",
          "2023-03-09T00:00:00",
          "2023-03-08T00:00:00",
          "2023-03-07T00:00:00",
          "2023-03-06T00:00:00",
          "2023-03-03T00:00:00",
          "2023-03-02T00:00:00",
          "2023-03-01T00:00:00",
          "2023-02-28T00:00:00",
          "2023-02-27T00:00:00",
          "2023-02-24T00:00:00",
          "2023-02-23T00:00:00",
          "2023-02-22T00:00:00",
          "2023-02-21T00:00:00",
          "2023-02-17T00:00:00",
          "2023-02-16T00:00:00",
          "2023-02-15T00:00:00",
          "2023-02-14T00:00:00",
          "2023-02-13T00:00:00",
          "2023-02-10T00:00:00",
          "2023-02-09T00:00:00",
          "2023-02-08T00:00:00",
          "2023-02-07T00:00:00",
          "2023-02-06T00:00:00",
          "2023-02-03T00:00:00",
          "2023-02-02T00:00:00",
          "2023-02-01T00:00:00",
          "2023-01-31T00:00:00",
          "2023-01-30T00:00:00",
          "2023-01-27T00:00:00",
          "2023-01-26T00:00:00",
          "2023-01-25T00:00:00",
          "2023-01-24T00:00:00",
          "2023-01-23T00:00:00",
          "2023-01-20T00:00:00",
          "2023-01-19T00:00:00",
          "2023-01-18T00:00:00",
          "2023-01-17T00:00:00",
          "2023-01-13T00:00:00",
          "2023-01-12T00:00:00",
          "2023-01-11T00:00:00",
          "2023-01-10T00:00:00",
          "2023-01-09T00:00:00",
          "2023-01-06T00:00:00",
          "2023-01-05T00:00:00",
          "2023-01-04T00:00:00",
          "2023-01-03T00:00:00"
         ]
        }
       ],
       "layout": {
        "template": {
         "data": {
          "bar": [
           {
            "error_x": {
             "color": "#2a3f5f"
            },
            "error_y": {
             "color": "#2a3f5f"
            },
            "marker": {
             "line": {
              "color": "#E5ECF6",
              "width": 0.5
             },
             "pattern": {
              "fillmode": "overlay",
              "size": 10,
              "solidity": 0.2
             }
            },
            "type": "bar"
           }
          ],
          "barpolar": [
           {
            "marker": {
             "line": {
              "color": "#E5ECF6",
              "width": 0.5
             },
             "pattern": {
              "fillmode": "overlay",
              "size": 10,
              "solidity": 0.2
             }
            },
            "type": "barpolar"
           }
          ],
          "carpet": [
           {
            "aaxis": {
             "endlinecolor": "#2a3f5f",
             "gridcolor": "white",
             "linecolor": "white",
             "minorgridcolor": "white",
             "startlinecolor": "#2a3f5f"
            },
            "baxis": {
             "endlinecolor": "#2a3f5f",
             "gridcolor": "white",
             "linecolor": "white",
             "minorgridcolor": "white",
             "startlinecolor": "#2a3f5f"
            },
            "type": "carpet"
           }
          ],
          "choropleth": [
           {
            "colorbar": {
             "outlinewidth": 0,
             "ticks": ""
            },
            "type": "choropleth"
           }
          ],
          "contour": [
           {
            "colorbar": {
             "outlinewidth": 0,
             "ticks": ""
            },
            "colorscale": [
             [
              0,
              "#0d0887"
             ],
             [
              0.1111111111111111,
              "#46039f"
             ],
             [
              0.2222222222222222,
              "#7201a8"
             ],
             [
              0.3333333333333333,
              "#9c179e"
             ],
             [
              0.4444444444444444,
              "#bd3786"
             ],
             [
              0.5555555555555556,
              "#d8576b"
             ],
             [
              0.6666666666666666,
              "#ed7953"
             ],
             [
              0.7777777777777778,
              "#fb9f3a"
             ],
             [
              0.8888888888888888,
              "#fdca26"
             ],
             [
              1,
              "#f0f921"
             ]
            ],
            "type": "contour"
           }
          ],
          "contourcarpet": [
           {
            "colorbar": {
             "outlinewidth": 0,
             "ticks": ""
            },
            "type": "contourcarpet"
           }
          ],
          "heatmap": [
           {
            "colorbar": {
             "outlinewidth": 0,
             "ticks": ""
            },
            "colorscale": [
             [
              0,
              "#0d0887"
             ],
             [
              0.1111111111111111,
              "#46039f"
             ],
             [
              0.2222222222222222,
              "#7201a8"
             ],
             [
              0.3333333333333333,
              "#9c179e"
             ],
             [
              0.4444444444444444,
              "#bd3786"
             ],
             [
              0.5555555555555556,
              "#d8576b"
             ],
             [
              0.6666666666666666,
              "#ed7953"
             ],
             [
              0.7777777777777778,
              "#fb9f3a"
             ],
             [
              0.8888888888888888,
              "#fdca26"
             ],
             [
              1,
              "#f0f921"
             ]
            ],
            "type": "heatmap"
           }
          ],
          "heatmapgl": [
           {
            "colorbar": {
             "outlinewidth": 0,
             "ticks": ""
            },
            "colorscale": [
             [
              0,
              "#0d0887"
             ],
             [
              0.1111111111111111,
              "#46039f"
             ],
             [
              0.2222222222222222,
              "#7201a8"
             ],
             [
              0.3333333333333333,
              "#9c179e"
             ],
             [
              0.4444444444444444,
              "#bd3786"
             ],
             [
              0.5555555555555556,
              "#d8576b"
             ],
             [
              0.6666666666666666,
              "#ed7953"
             ],
             [
              0.7777777777777778,
              "#fb9f3a"
             ],
             [
              0.8888888888888888,
              "#fdca26"
             ],
             [
              1,
              "#f0f921"
             ]
            ],
            "type": "heatmapgl"
           }
          ],
          "histogram": [
           {
            "marker": {
             "pattern": {
              "fillmode": "overlay",
              "size": 10,
              "solidity": 0.2
             }
            },
            "type": "histogram"
           }
          ],
          "histogram2d": [
           {
            "colorbar": {
             "outlinewidth": 0,
             "ticks": ""
            },
            "colorscale": [
             [
              0,
              "#0d0887"
             ],
             [
              0.1111111111111111,
              "#46039f"
             ],
             [
              0.2222222222222222,
              "#7201a8"
             ],
             [
              0.3333333333333333,
              "#9c179e"
             ],
             [
              0.4444444444444444,
              "#bd3786"
             ],
             [
              0.5555555555555556,
              "#d8576b"
             ],
             [
              0.6666666666666666,
              "#ed7953"
             ],
             [
              0.7777777777777778,
              "#fb9f3a"
             ],
             [
              0.8888888888888888,
              "#fdca26"
             ],
             [
              1,
              "#f0f921"
             ]
            ],
            "type": "histogram2d"
           }
          ],
          "histogram2dcontour": [
           {
            "colorbar": {
             "outlinewidth": 0,
             "ticks": ""
            },
            "colorscale": [
             [
              0,
              "#0d0887"
             ],
             [
              0.1111111111111111,
              "#46039f"
             ],
             [
              0.2222222222222222,
              "#7201a8"
             ],
             [
              0.3333333333333333,
              "#9c179e"
             ],
             [
              0.4444444444444444,
              "#bd3786"
             ],
             [
              0.5555555555555556,
              "#d8576b"
             ],
             [
              0.6666666666666666,
              "#ed7953"
             ],
             [
              0.7777777777777778,
              "#fb9f3a"
             ],
             [
              0.8888888888888888,
              "#fdca26"
             ],
             [
              1,
              "#f0f921"
             ]
            ],
            "type": "histogram2dcontour"
           }
          ],
          "mesh3d": [
           {
            "colorbar": {
             "outlinewidth": 0,
             "ticks": ""
            },
            "type": "mesh3d"
           }
          ],
          "parcoords": [
           {
            "line": {
             "colorbar": {
              "outlinewidth": 0,
              "ticks": ""
             }
            },
            "type": "parcoords"
           }
          ],
          "pie": [
           {
            "automargin": true,
            "type": "pie"
           }
          ],
          "scatter": [
           {
            "fillpattern": {
             "fillmode": "overlay",
             "size": 10,
             "solidity": 0.2
            },
            "type": "scatter"
           }
          ],
          "scatter3d": [
           {
            "line": {
             "colorbar": {
              "outlinewidth": 0,
              "ticks": ""
             }
            },
            "marker": {
             "colorbar": {
              "outlinewidth": 0,
              "ticks": ""
             }
            },
            "type": "scatter3d"
           }
          ],
          "scattercarpet": [
           {
            "marker": {
             "colorbar": {
              "outlinewidth": 0,
              "ticks": ""
             }
            },
            "type": "scattercarpet"
           }
          ],
          "scattergeo": [
           {
            "marker": {
             "colorbar": {
              "outlinewidth": 0,
              "ticks": ""
             }
            },
            "type": "scattergeo"
           }
          ],
          "scattergl": [
           {
            "marker": {
             "colorbar": {
              "outlinewidth": 0,
              "ticks": ""
             }
            },
            "type": "scattergl"
           }
          ],
          "scattermapbox": [
           {
            "marker": {
             "colorbar": {
              "outlinewidth": 0,
              "ticks": ""
             }
            },
            "type": "scattermapbox"
           }
          ],
          "scatterpolar": [
           {
            "marker": {
             "colorbar": {
              "outlinewidth": 0,
              "ticks": ""
             }
            },
            "type": "scatterpolar"
           }
          ],
          "scatterpolargl": [
           {
            "marker": {
             "colorbar": {
              "outlinewidth": 0,
              "ticks": ""
             }
            },
            "type": "scatterpolargl"
           }
          ],
          "scatterternary": [
           {
            "marker": {
             "colorbar": {
              "outlinewidth": 0,
              "ticks": ""
             }
            },
            "type": "scatterternary"
           }
          ],
          "surface": [
           {
            "colorbar": {
             "outlinewidth": 0,
             "ticks": ""
            },
            "colorscale": [
             [
              0,
              "#0d0887"
             ],
             [
              0.1111111111111111,
              "#46039f"
             ],
             [
              0.2222222222222222,
              "#7201a8"
             ],
             [
              0.3333333333333333,
              "#9c179e"
             ],
             [
              0.4444444444444444,
              "#bd3786"
             ],
             [
              0.5555555555555556,
              "#d8576b"
             ],
             [
              0.6666666666666666,
              "#ed7953"
             ],
             [
              0.7777777777777778,
              "#fb9f3a"
             ],
             [
              0.8888888888888888,
              "#fdca26"
             ],
             [
              1,
              "#f0f921"
             ]
            ],
            "type": "surface"
           }
          ],
          "table": [
           {
            "cells": {
             "fill": {
              "color": "#EBF0F8"
             },
             "line": {
              "color": "white"
             }
            },
            "header": {
             "fill": {
              "color": "#C8D4E3"
             },
             "line": {
              "color": "white"
             }
            },
            "type": "table"
           }
          ]
         },
         "layout": {
          "annotationdefaults": {
           "arrowcolor": "#2a3f5f",
           "arrowhead": 0,
           "arrowwidth": 1
          },
          "autotypenumbers": "strict",
          "coloraxis": {
           "colorbar": {
            "outlinewidth": 0,
            "ticks": ""
           }
          },
          "colorscale": {
           "diverging": [
            [
             0,
             "#8e0152"
            ],
            [
             0.1,
             "#c51b7d"
            ],
            [
             0.2,
             "#de77ae"
            ],
            [
             0.3,
             "#f1b6da"
            ],
            [
             0.4,
             "#fde0ef"
            ],
            [
             0.5,
             "#f7f7f7"
            ],
            [
             0.6,
             "#e6f5d0"
            ],
            [
             0.7,
             "#b8e186"
            ],
            [
             0.8,
             "#7fbc41"
            ],
            [
             0.9,
             "#4d9221"
            ],
            [
             1,
             "#276419"
            ]
           ],
           "sequential": [
            [
             0,
             "#0d0887"
            ],
            [
             0.1111111111111111,
             "#46039f"
            ],
            [
             0.2222222222222222,
             "#7201a8"
            ],
            [
             0.3333333333333333,
             "#9c179e"
            ],
            [
             0.4444444444444444,
             "#bd3786"
            ],
            [
             0.5555555555555556,
             "#d8576b"
            ],
            [
             0.6666666666666666,
             "#ed7953"
            ],
            [
             0.7777777777777778,
             "#fb9f3a"
            ],
            [
             0.8888888888888888,
             "#fdca26"
            ],
            [
             1,
             "#f0f921"
            ]
           ],
           "sequentialminus": [
            [
             0,
             "#0d0887"
            ],
            [
             0.1111111111111111,
             "#46039f"
            ],
            [
             0.2222222222222222,
             "#7201a8"
            ],
            [
             0.3333333333333333,
             "#9c179e"
            ],
            [
             0.4444444444444444,
             "#bd3786"
            ],
            [
             0.5555555555555556,
             "#d8576b"
            ],
            [
             0.6666666666666666,
             "#ed7953"
            ],
            [
             0.7777777777777778,
             "#fb9f3a"
            ],
            [
             0.8888888888888888,
             "#fdca26"
            ],
            [
             1,
             "#f0f921"
            ]
           ]
          },
          "colorway": [
           "#636efa",
           "#EF553B",
           "#00cc96",
           "#ab63fa",
           "#FFA15A",
           "#19d3f3",
           "#FF6692",
           "#B6E880",
           "#FF97FF",
           "#FECB52"
          ],
          "font": {
           "color": "#2a3f5f"
          },
          "geo": {
           "bgcolor": "white",
           "lakecolor": "white",
           "landcolor": "#E5ECF6",
           "showlakes": true,
           "showland": true,
           "subunitcolor": "white"
          },
          "hoverlabel": {
           "align": "left"
          },
          "hovermode": "closest",
          "mapbox": {
           "style": "light"
          },
          "paper_bgcolor": "white",
          "plot_bgcolor": "#E5ECF6",
          "polar": {
           "angularaxis": {
            "gridcolor": "white",
            "linecolor": "white",
            "ticks": ""
           },
           "bgcolor": "#E5ECF6",
           "radialaxis": {
            "gridcolor": "white",
            "linecolor": "white",
            "ticks": ""
           }
          },
          "scene": {
           "xaxis": {
            "backgroundcolor": "#E5ECF6",
            "gridcolor": "white",
            "gridwidth": 2,
            "linecolor": "white",
            "showbackground": true,
            "ticks": "",
            "zerolinecolor": "white"
           },
           "yaxis": {
            "backgroundcolor": "#E5ECF6",
            "gridcolor": "white",
            "gridwidth": 2,
            "linecolor": "white",
            "showbackground": true,
            "ticks": "",
            "zerolinecolor": "white"
           },
           "zaxis": {
            "backgroundcolor": "#E5ECF6",
            "gridcolor": "white",
            "gridwidth": 2,
            "linecolor": "white",
            "showbackground": true,
            "ticks": "",
            "zerolinecolor": "white"
           }
          },
          "shapedefaults": {
           "line": {
            "color": "#2a3f5f"
           }
          },
          "ternary": {
           "aaxis": {
            "gridcolor": "white",
            "linecolor": "white",
            "ticks": ""
           },
           "baxis": {
            "gridcolor": "white",
            "linecolor": "white",
            "ticks": ""
           },
           "bgcolor": "#E5ECF6",
           "caxis": {
            "gridcolor": "white",
            "linecolor": "white",
            "ticks": ""
           }
          },
          "title": {
           "x": 0.05
          },
          "xaxis": {
           "automargin": true,
           "gridcolor": "white",
           "linecolor": "white",
           "ticks": "",
           "title": {
            "standoff": 15
           },
           "zerolinecolor": "white",
           "zerolinewidth": 2
          },
          "yaxis": {
           "automargin": true,
           "gridcolor": "white",
           "linecolor": "white",
           "ticks": "",
           "title": {
            "standoff": 15
           },
           "zerolinecolor": "white",
           "zerolinewidth": 2
          }
         }
        }
       }
      }
     },
     "metadata": {},
     "output_type": "display_data"
    }
   ],
   "source": [
    "import plotly.graph_objects as go\n",
    "\n",
    "df = stocks[stocks[\"Symbols\"] == value]\n",
    "fig = go.Figure(data=[go.Candlestick(x=df['Date'],\n",
    "                open=df['Open'],\n",
    "                high=df['High'],\n",
    "                low=df['Low'],\n",
    "                close=df['Close'])])\n",
    "\n",
    "fig.show()"
   ]
  },
  {
   "cell_type": "code",
   "execution_count": 80,
   "metadata": {},
   "outputs": [
    {
     "data": {
      "text/html": [
       "<div>\n",
       "<style scoped>\n",
       "    .dataframe tbody tr th:only-of-type {\n",
       "        vertical-align: middle;\n",
       "    }\n",
       "\n",
       "    .dataframe tbody tr th {\n",
       "        vertical-align: top;\n",
       "    }\n",
       "\n",
       "    .dataframe thead th {\n",
       "        text-align: right;\n",
       "    }\n",
       "</style>\n",
       "<table border=\"1\" class=\"dataframe\">\n",
       "  <thead>\n",
       "    <tr style=\"text-align: right;\">\n",
       "      <th>Attributes</th>\n",
       "      <th>Date</th>\n",
       "      <th>Symbols</th>\n",
       "      <th>Close</th>\n",
       "      <th>High</th>\n",
       "      <th>Low</th>\n",
       "      <th>Open</th>\n",
       "      <th>Volume</th>\n",
       "    </tr>\n",
       "  </thead>\n",
       "  <tbody>\n",
       "    <tr>\n",
       "      <th>0</th>\n",
       "      <td>2023-12-29</td>\n",
       "      <td>BABA</td>\n",
       "      <td>77.51</td>\n",
       "      <td>77.6350</td>\n",
       "      <td>76.8200</td>\n",
       "      <td>77.06</td>\n",
       "      <td>14094635</td>\n",
       "    </tr>\n",
       "    <tr>\n",
       "      <th>1</th>\n",
       "      <td>2023-12-29</td>\n",
       "      <td>ETSY</td>\n",
       "      <td>81.05</td>\n",
       "      <td>82.6494</td>\n",
       "      <td>80.7200</td>\n",
       "      <td>81.57</td>\n",
       "      <td>2397080</td>\n",
       "    </tr>\n",
       "    <tr>\n",
       "      <th>3</th>\n",
       "      <td>2023-12-29</td>\n",
       "      <td>APPN</td>\n",
       "      <td>37.66</td>\n",
       "      <td>38.9772</td>\n",
       "      <td>37.5500</td>\n",
       "      <td>38.66</td>\n",
       "      <td>288333</td>\n",
       "    </tr>\n",
       "    <tr>\n",
       "      <th>6</th>\n",
       "      <td>2023-12-28</td>\n",
       "      <td>BABA</td>\n",
       "      <td>77.24</td>\n",
       "      <td>77.7900</td>\n",
       "      <td>76.9800</td>\n",
       "      <td>77.23</td>\n",
       "      <td>18937893</td>\n",
       "    </tr>\n",
       "    <tr>\n",
       "      <th>7</th>\n",
       "      <td>2023-12-28</td>\n",
       "      <td>ETSY</td>\n",
       "      <td>81.92</td>\n",
       "      <td>82.4800</td>\n",
       "      <td>80.5601</td>\n",
       "      <td>81.75</td>\n",
       "      <td>2121780</td>\n",
       "    </tr>\n",
       "  </tbody>\n",
       "</table>\n",
       "</div>"
      ],
      "text/plain": [
       "Attributes       Date Symbols  Close     High      Low   Open    Volume\n",
       "0          2023-12-29    BABA  77.51  77.6350  76.8200  77.06  14094635\n",
       "1          2023-12-29    ETSY  81.05  82.6494  80.7200  81.57   2397080\n",
       "3          2023-12-29    APPN  37.66  38.9772  37.5500  38.66    288333\n",
       "6          2023-12-28    BABA  77.24  77.7900  76.9800  77.23  18937893\n",
       "7          2023-12-28    ETSY  81.92  82.4800  80.5601  81.75   2121780"
      ]
     },
     "execution_count": 80,
     "metadata": {},
     "output_type": "execute_result"
    }
   ],
   "source": [
    "#Filter by list of values\n",
    "# values == ['APPN', 'BABA', 'ETSY']\n",
    "values = sorted(stocks[\"Symbols\"].unique())[0:3]\n",
    "\n",
    "stocks[stocks[\"Symbols\"].isin(values)].head()"
   ]
  },
  {
   "cell_type": "code",
   "execution_count": 81,
   "metadata": {},
   "outputs": [
    {
     "data": {
      "application/vnd.plotly.v1+json": {
       "config": {
        "plotlyServerURL": "https://plot.ly"
       },
       "data": [
        {
         "customdata": [
          [
           77.06,
           77.635,
           76.82
          ],
          [
           77.23,
           77.79,
           76.98
          ],
          [
           76.28,
           76.45,
           75.41
          ],
          [
           76.16,
           76.9687,
           75.73
          ],
          [
           74.5,
           75.68,
           74.44
          ],
          [
           74.86,
           76.29,
           74.35
          ],
          [
           74.58,
           75.295,
           73.33
          ],
          [
           74.4,
           76.01,
           74.22
          ],
          [
           74.05,
           74.23,
           73.21
          ],
          [
           74,
           75.545,
           73.32
          ],
          [
           71.47,
           73.24,
           71.42
          ],
          [
           70.91,
           71.48,
           70.12
          ],
          [
           71.38,
           71.955,
           70.93
          ],
          [
           70.49,
           71.61,
           70.08
          ],
          [
           72.02,
           72.44,
           71.83
          ],
          [
           71.545,
           72.37,
           71.44
          ],
          [
           72.36,
           72.95,
           71.49
          ],
          [
           72.04,
           72.7,
           71.92
          ],
          [
           72.67,
           73.58,
           72.48
          ],
          [
           73.12,
           74.14,
           72.12
          ],
          [
           74.7,
           74.94,
           74.01
          ],
          [
           75,
           75.456,
           74.425
          ],
          [
           76.56,
           76.84,
           75.26
          ],
          [
           77.555,
           79.25,
           77.09
          ],
          [
           78.27,
           79.07,
           78.21
          ],
          [
           79.28,
           79.71,
           78.13
          ],
          [
           77.85,
           79.275,
           77.6
          ],
          [
           76.91,
           78.745,
           76.56
          ],
          [
           77.02,
           78.4658,
           76.75
          ],
          [
           79.52,
           80.77,
           78.2305
          ],
          [
           86.96,
           87.83,
           85.89
          ],
          [
           82.76,
           84.535,
           82.32
          ],
          [
           82.75,
           83.315,
           82.08
          ],
          [
           82.41,
           82.87,
           81.66
          ],
          [
           84.58,
           84.69,
           82.475
          ],
          [
           84.62,
           85.73,
           84.48
          ],
          [
           84.86,
           85.66,
           84.11
          ],
          [
           86.55,
           86.72,
           85.23
          ],
          [
           84.94,
           86.08,
           84.5
          ],
          [
           83.65,
           83.98,
           83.03
          ],
          [
           81.705,
           82.49,
           81.21
          ],
          [
           81.94,
           82.54,
           80.88
          ],
          [
           83.63,
           84.24,
           83.0112
          ],
          [
           83.87,
           84.12,
           82.48
          ],
          [
           81.265,
           83.09,
           81.2
          ],
          [
           81.3,
           82,
           80.78
          ],
          [
           80.45,
           83.32,
           80.44
          ],
          [
           79.42,
           80.9262,
           79.02
          ],
          [
           80.23,
           80.86,
           79.783
          ],
          [
           81.48,
           82.395,
           81.115
          ],
          [
           82.96,
           83.73,
           82.76
          ],
          [
           82.75,
           84.36,
           82.56
          ],
          [
           83.7,
           84.965,
           82.63
          ],
          [
           84.06,
           85.49,
           83.75
          ],
          [
           87.58,
           87.67,
           84.2
          ],
          [
           88.01,
           88.7963,
           87.145
          ],
          [
           85.67,
           87.74,
           85.57
          ],
          [
           83.91,
           85.21,
           83.57
          ],
          [
           84.25,
           86.515,
           84
          ],
          [
           83.52,
           83.71,
           82.45
          ],
          [
           84.275,
           84.54,
           83.6501
          ],
          [
           84.5,
           85,
           83.95
          ],
          [
           86.75,
           87.105,
           85.89
          ],
          [
           87.29,
           87.95,
           86.605
          ],
          [
           84.89,
           85.89,
           84.305
          ],
          [
           86.38,
           86.55,
           85.3
          ],
          [
           86.46,
           87.07,
           85.7
          ],
          [
           85.88,
           87.27,
           85.77
          ],
          [
           87.365,
           88.875,
           87.11
          ],
          [
           83.86,
           84.775,
           83.76
          ],
          [
           86.97,
           87.5,
           85.65
          ],
          [
           86.12,
           87.88,
           86.08
          ],
          [
           86.15,
           87.17,
           85.395
          ],
          [
           87.77,
           88.22,
           86.82
          ],
          [
           88.55,
           88.6,
           87.44
          ],
          [
           87.94,
           88.29,
           87.382
          ],
          [
           88.19,
           89.96,
           88.18
          ],
          [
           89.73,
           90.35,
           87.71
          ],
          [
           89.6,
           90.3,
           88.73
          ],
          [
           91.64,
           91.76,
           88.955
          ],
          [
           94.15,
           95.8,
           94.13
          ],
          [
           94.53,
           95.3921,
           94.07
          ],
          [
           94.55,
           96.68,
           94.52
          ],
          [
           92.98,
           93.36,
           92.16
          ],
          [
           92.55,
           94.25,
           92.47
          ],
          [
           93.45,
           94.095,
           92.34
          ],
          [
           91.5,
           92.77,
           91.29
          ],
          [
           89.25,
           90.04,
           88.27
          ],
          [
           90.49,
           90.92,
           89.04
          ],
          [
           88.37,
           90.59,
           88.31
          ],
          [
           89.28,
           89.49,
           87.86
          ],
          [
           87.6,
           88.82,
           87.22
          ],
          [
           87.78,
           88.36,
           86.86
          ],
          [
           91.94,
           91.95,
           90.26
          ],
          [
           89.63,
           90.5,
           88.29
          ],
          [
           93,
           93.01,
           90.7446
          ],
          [
           94.24,
           94.45,
           92.53
          ],
          [
           97.34,
           97.65,
           94.34
          ],
          [
           98.31,
           101.84,
           97.12
          ],
          [
           96.025,
           96.3,
           94.08
          ],
          [
           93.51,
           94.48,
           92.9218
          ],
          [
           97.78,
           97.8,
           95.03
          ],
          [
           97.735,
           98.49,
           96.69
          ],
          [
           96.71,
           98.49,
           96.58
          ],
          [
           97.72,
           97.74,
           94.56
          ],
          [
           99.87,
           101.16,
           99.3
          ],
          [
           99.79,
           102.5,
           99.72
          ],
          [
           98.07,
           101.22,
           97.96
          ],
          [
           97.75,
           97.99,
           95.1612
          ],
          [
           94.95,
           97.545,
           94.84
          ],
          [
           98.17,
           98.49,
           94.61
          ],
          [
           92.07,
           97.4686,
           91.3
          ],
          [
           92.89,
           93.23,
           91.54
          ],
          [
           91.69,
           93.12,
           91.35
          ],
          [
           93.57,
           94.71,
           92.09
          ],
          [
           91.54,
           92.21,
           90.15
          ],
          [
           92.25,
           93.55,
           91.04
          ],
          [
           95.22,
           96.09,
           94.24
          ],
          [
           95.03,
           97.005,
           94.6
          ],
          [
           94.11,
           95.03,
           92.55
          ],
          [
           91.02,
           92.32,
           89.01
          ],
          [
           90.05,
           92.04,
           89.6
          ],
          [
           86.76,
           91.57,
           86.63
          ],
          [
           83.12,
           83.95,
           82.64
          ],
          [
           83.98,
           84.69,
           82.82
          ],
          [
           84.87,
           85.635,
           84
          ],
          [
           83.23,
           84.23,
           83.01
          ],
          [
           83.39,
           83.99,
           83
          ],
          [
           85.75,
           85.75,
           84.38
          ],
          [
           86.82,
           87.615,
           86.715
          ],
          [
           85.32,
           86.71,
           85.21
          ],
          [
           85.81,
           85.938,
           84.37
          ],
          [
           86.78,
           87.315,
           85.32
          ],
          [
           87.38,
           89.16,
           86.62
          ],
          [
           89.83,
           90.2,
           87.32
          ],
          [
           94,
           94.29,
           91.52
          ],
          [
           91.46,
           92.77,
           90.6
          ],
          [
           87.97,
           90.12,
           87.71
          ],
          [
           87.96,
           89.22,
           87.25
          ],
          [
           86.01,
           87.29,
           85.63
          ],
          [
           86.06,
           86.8377,
           85.065
          ],
          [
           85.17,
           86.95,
           85.17
          ],
          [
           85.72,
           86.95,
           85.09
          ],
          [
           83.5,
           87.06,
           83.37
          ],
          [
           83.99,
           84.57,
           83.24
          ],
          [
           85.08,
           86.03,
           84.14
          ],
          [
           79.35,
           84,
           79.35
          ],
          [
           79.58,
           79.665,
           77.77
          ],
          [
           80.12,
           80.7,
           78.17
          ],
          [
           79.9,
           81.5655,
           78.4
          ],
          [
           80.59,
           80.71,
           78.12
          ],
          [
           82.165,
           82.6,
           80.88
          ],
          [
           84.16,
           84.975,
           82.7
          ],
          [
           85.67,
           87.48,
           85.65
          ],
          [
           83.85,
           85.2,
           83.48
          ],
          [
           90.81,
           91,
           85
          ],
          [
           88.46,
           91.43,
           88.01
          ],
          [
           87.11,
           89.3699,
           87.06
          ],
          [
           87.13,
           88.4,
           85.8329
          ],
          [
           86.71,
           86.71,
           84.76
          ],
          [
           85.43,
           88.48,
           84.82
          ],
          [
           82.14,
           84.5,
           81.77
          ],
          [
           80.545,
           82.66,
           80.15
          ],
          [
           83.63,
           83.7,
           82.34
          ],
          [
           82.75,
           83.38,
           82.03
          ],
          [
           82.39,
           83.13,
           81.8
          ],
          [
           81.305,
           82,
           80.49
          ],
          [
           83.15,
           83.28,
           80.6538
          ],
          [
           84.15,
           85.28,
           83.7711
          ],
          [
           84.18,
           85.08,
           83.87
          ],
          [
           83.07,
           84.64,
           82.64
          ],
          [
           85.04,
           85.22,
           82.76
          ],
          [
           85.32,
           85.7,
           82.212
          ],
          [
           88.4,
           88.48,
           86.04
          ],
          [
           89.96,
           90.19,
           88.3
          ],
          [
           93.35,
           93.79,
           90.05
          ],
          [
           94.6,
           94.82,
           92.95
          ],
          [
           99.02,
           99.17,
           95.1805
          ],
          [
           96.74,
           97.23,
           95.49
          ],
          [
           95.63,
           96.12,
           93.84
          ],
          [
           95.875,
           97.19,
           95.095
          ],
          [
           97.82,
           98.89,
           93.58
          ],
          [
           102.46,
           102.54,
           99.2
          ],
          [
           100.62,
           102.83,
           100.59
          ],
          [
           98.53,
           103.24,
           98.27
          ],
          [
           99.24,
           100.45,
           97.66
          ],
          [
           98.94,
           101.47,
           97.26
          ],
          [
           100.89,
           101.75,
           97.61
          ],
          [
           102.86,
           103.6,
           101.132
          ],
          [
           101.34,
           105.05,
           100.5
          ],
          [
           97.59,
           101.33,
           96.28
          ],
          [
           95.35,
           99.51,
           92.06
          ],
          [
           87.13,
           88.22,
           85.5
          ],
          [
           85.87,
           88.11,
           85.63
          ],
          [
           87.68,
           88.38,
           85.26
          ],
          [
           84.84,
           85.39,
           83.51
          ],
          [
           82.46,
           84.0875,
           82
          ],
          [
           80.15,
           81.9,
           79.48
          ],
          [
           84,
           84.16,
           80.62
          ],
          [
           81.46,
           82.48,
           80.66
          ],
          [
           81.55,
           82.54,
           80.15
          ],
          [
           82.86,
           83.91,
           82.1601
          ],
          [
           83.01,
           83.755,
           81.97
          ],
          [
           82.64,
           84.52,
           82.33
          ],
          [
           85.12,
           85.69,
           82.875
          ],
          [
           87.39,
           87.77,
           86.45
          ],
          [
           89.52,
           90.05,
           88.2
          ],
          [
           89.585,
           91.3001,
           88.03
          ],
          [
           90.11,
           90.46,
           88.4
          ],
          [
           88.96,
           90.919,
           87.97
          ],
          [
           92.92,
           92.92,
           89.73
          ],
          [
           88.46,
           89.34,
           87.27
          ],
          [
           90.85,
           91.24,
           88.895
          ],
          [
           90.07,
           91.68,
           88.03
          ],
          [
           100.1,
           100.47,
           92.13
          ],
          [
           95.575,
           95.89,
           93.5546
          ],
          [
           96.5,
           97.625,
           94.7
          ],
          [
           101,
           101.09,
           99.25
          ],
          [
           102.71,
           104.52,
           102.03
          ],
          [
           102.39,
           103.44,
           102
          ],
          [
           103.55,
           104.48,
           101.85
          ],
          [
           105.99,
           106.35,
           104.15
          ],
          [
           105.8,
           106.64,
           102.79
          ],
          [
           108.5,
           109.81,
           107.75
          ],
          [
           107.1,
           107.14,
           103.55
          ],
          [
           106.84,
           107.35,
           103.72
          ],
          [
           103.82,
           106.28,
           103.22
          ],
          [
           108.05,
           109.5299,
           105.81
          ],
          [
           112.5,
           112.525,
           107.81
          ],
          [
           111.86,
           113.95,
           110.15
          ],
          [
           109.42,
           112.08,
           108.81
          ],
          [
           111.69,
           113.15,
           109.78
          ],
          [
           119.69,
           119.71,
           116.81
          ],
          [
           121,
           121.3,
           118.762
          ],
          [
           118.51,
           120.32,
           117.5
          ],
          [
           115,
           120,
           115
          ],
          [
           120,
           120.3,
           118.1372
          ],
          [
           118.302,
           120.06,
           117.8
          ],
          [
           114.02,
           117,
           113.97
          ],
          [
           116.75,
           116.75,
           113.04
          ],
          [
           115.52,
           117.01,
           114.34
          ],
          [
           114.52,
           117.98,
           114.09
          ],
          [
           113.66,
           113.79,
           111.45
          ],
          [
           114.6,
           115.2099,
           112.31
          ],
          [
           112.97,
           115.48,
           111.21
          ],
          [
           111.99,
           113.11,
           108.12
          ],
          [
           104.11,
           108,
           102.46
          ],
          [
           101.4,
           105.7,
           100.6401
          ],
          [
           98.85,
           104.52,
           96.97
          ],
          [
           91.11,
           94.45,
           90.75
          ]
         ],
         "hovertemplate": "Symbols=BABA<br>Date=%{x}<br>Close=%{y}<br>Open=%{customdata[0]}<br>High=%{customdata[1]}<br>Low=%{customdata[2]}<extra></extra>",
         "legendgroup": "BABA",
         "line": {
          "color": "#636efa",
          "dash": "solid"
         },
         "marker": {
          "symbol": "circle"
         },
         "mode": "lines",
         "name": "BABA",
         "orientation": "v",
         "showlegend": true,
         "type": "scatter",
         "x": [
          "2023-12-29T00:00:00",
          "2023-12-28T00:00:00",
          "2023-12-27T00:00:00",
          "2023-12-26T00:00:00",
          "2023-12-22T00:00:00",
          "2023-12-21T00:00:00",
          "2023-12-20T00:00:00",
          "2023-12-19T00:00:00",
          "2023-12-18T00:00:00",
          "2023-12-15T00:00:00",
          "2023-12-14T00:00:00",
          "2023-12-13T00:00:00",
          "2023-12-12T00:00:00",
          "2023-12-11T00:00:00",
          "2023-12-08T00:00:00",
          "2023-12-07T00:00:00",
          "2023-12-06T00:00:00",
          "2023-12-05T00:00:00",
          "2023-12-04T00:00:00",
          "2023-12-01T00:00:00",
          "2023-11-30T00:00:00",
          "2023-11-29T00:00:00",
          "2023-11-28T00:00:00",
          "2023-11-27T00:00:00",
          "2023-11-24T00:00:00",
          "2023-11-22T00:00:00",
          "2023-11-21T00:00:00",
          "2023-11-20T00:00:00",
          "2023-11-17T00:00:00",
          "2023-11-16T00:00:00",
          "2023-11-15T00:00:00",
          "2023-11-14T00:00:00",
          "2023-11-13T00:00:00",
          "2023-11-10T00:00:00",
          "2023-11-09T00:00:00",
          "2023-11-08T00:00:00",
          "2023-11-07T00:00:00",
          "2023-11-06T00:00:00",
          "2023-11-03T00:00:00",
          "2023-11-02T00:00:00",
          "2023-11-01T00:00:00",
          "2023-10-31T00:00:00",
          "2023-10-30T00:00:00",
          "2023-10-27T00:00:00",
          "2023-10-26T00:00:00",
          "2023-10-25T00:00:00",
          "2023-10-24T00:00:00",
          "2023-10-23T00:00:00",
          "2023-10-20T00:00:00",
          "2023-10-19T00:00:00",
          "2023-10-18T00:00:00",
          "2023-10-17T00:00:00",
          "2023-10-16T00:00:00",
          "2023-10-13T00:00:00",
          "2023-10-12T00:00:00",
          "2023-10-11T00:00:00",
          "2023-10-10T00:00:00",
          "2023-10-09T00:00:00",
          "2023-10-06T00:00:00",
          "2023-10-05T00:00:00",
          "2023-10-04T00:00:00",
          "2023-10-03T00:00:00",
          "2023-10-02T00:00:00",
          "2023-09-29T00:00:00",
          "2023-09-28T00:00:00",
          "2023-09-27T00:00:00",
          "2023-09-26T00:00:00",
          "2023-09-25T00:00:00",
          "2023-09-22T00:00:00",
          "2023-09-21T00:00:00",
          "2023-09-20T00:00:00",
          "2023-09-19T00:00:00",
          "2023-09-18T00:00:00",
          "2023-09-15T00:00:00",
          "2023-09-14T00:00:00",
          "2023-09-13T00:00:00",
          "2023-09-12T00:00:00",
          "2023-09-11T00:00:00",
          "2023-09-08T00:00:00",
          "2023-09-07T00:00:00",
          "2023-09-06T00:00:00",
          "2023-09-05T00:00:00",
          "2023-09-01T00:00:00",
          "2023-08-31T00:00:00",
          "2023-08-30T00:00:00",
          "2023-08-29T00:00:00",
          "2023-08-28T00:00:00",
          "2023-08-25T00:00:00",
          "2023-08-24T00:00:00",
          "2023-08-23T00:00:00",
          "2023-08-22T00:00:00",
          "2023-08-21T00:00:00",
          "2023-08-18T00:00:00",
          "2023-08-17T00:00:00",
          "2023-08-16T00:00:00",
          "2023-08-15T00:00:00",
          "2023-08-14T00:00:00",
          "2023-08-11T00:00:00",
          "2023-08-10T00:00:00",
          "2023-08-09T00:00:00",
          "2023-08-08T00:00:00",
          "2023-08-07T00:00:00",
          "2023-08-04T00:00:00",
          "2023-08-03T00:00:00",
          "2023-08-02T00:00:00",
          "2023-08-01T00:00:00",
          "2023-07-31T00:00:00",
          "2023-07-28T00:00:00",
          "2023-07-27T00:00:00",
          "2023-07-26T00:00:00",
          "2023-07-25T00:00:00",
          "2023-07-24T00:00:00",
          "2023-07-21T00:00:00",
          "2023-07-20T00:00:00",
          "2023-07-19T00:00:00",
          "2023-07-18T00:00:00",
          "2023-07-17T00:00:00",
          "2023-07-14T00:00:00",
          "2023-07-13T00:00:00",
          "2023-07-12T00:00:00",
          "2023-07-11T00:00:00",
          "2023-07-10T00:00:00",
          "2023-07-07T00:00:00",
          "2023-07-06T00:00:00",
          "2023-07-05T00:00:00",
          "2023-07-03T00:00:00",
          "2023-06-30T00:00:00",
          "2023-06-29T00:00:00",
          "2023-06-28T00:00:00",
          "2023-06-27T00:00:00",
          "2023-06-26T00:00:00",
          "2023-06-23T00:00:00",
          "2023-06-22T00:00:00",
          "2023-06-21T00:00:00",
          "2023-06-20T00:00:00",
          "2023-06-16T00:00:00",
          "2023-06-15T00:00:00",
          "2023-06-14T00:00:00",
          "2023-06-13T00:00:00",
          "2023-06-12T00:00:00",
          "2023-06-09T00:00:00",
          "2023-06-08T00:00:00",
          "2023-06-07T00:00:00",
          "2023-06-06T00:00:00",
          "2023-06-05T00:00:00",
          "2023-06-02T00:00:00",
          "2023-06-01T00:00:00",
          "2023-05-31T00:00:00",
          "2023-05-30T00:00:00",
          "2023-05-26T00:00:00",
          "2023-05-25T00:00:00",
          "2023-05-24T00:00:00",
          "2023-05-23T00:00:00",
          "2023-05-22T00:00:00",
          "2023-05-19T00:00:00",
          "2023-05-18T00:00:00",
          "2023-05-17T00:00:00",
          "2023-05-16T00:00:00",
          "2023-05-15T00:00:00",
          "2023-05-12T00:00:00",
          "2023-05-11T00:00:00",
          "2023-05-10T00:00:00",
          "2023-05-09T00:00:00",
          "2023-05-08T00:00:00",
          "2023-05-05T00:00:00",
          "2023-05-04T00:00:00",
          "2023-05-03T00:00:00",
          "2023-05-02T00:00:00",
          "2023-05-01T00:00:00",
          "2023-04-28T00:00:00",
          "2023-04-27T00:00:00",
          "2023-04-26T00:00:00",
          "2023-04-25T00:00:00",
          "2023-04-24T00:00:00",
          "2023-04-21T00:00:00",
          "2023-04-20T00:00:00",
          "2023-04-19T00:00:00",
          "2023-04-18T00:00:00",
          "2023-04-17T00:00:00",
          "2023-04-14T00:00:00",
          "2023-04-13T00:00:00",
          "2023-04-12T00:00:00",
          "2023-04-11T00:00:00",
          "2023-04-10T00:00:00",
          "2023-04-06T00:00:00",
          "2023-04-05T00:00:00",
          "2023-04-04T00:00:00",
          "2023-04-03T00:00:00",
          "2023-03-31T00:00:00",
          "2023-03-30T00:00:00",
          "2023-03-29T00:00:00",
          "2023-03-28T00:00:00",
          "2023-03-27T00:00:00",
          "2023-03-24T00:00:00",
          "2023-03-23T00:00:00",
          "2023-03-22T00:00:00",
          "2023-03-21T00:00:00",
          "2023-03-20T00:00:00",
          "2023-03-17T00:00:00",
          "2023-03-16T00:00:00",
          "2023-03-15T00:00:00",
          "2023-03-14T00:00:00",
          "2023-03-13T00:00:00",
          "2023-03-10T00:00:00",
          "2023-03-09T00:00:00",
          "2023-03-08T00:00:00",
          "2023-03-07T00:00:00",
          "2023-03-06T00:00:00",
          "2023-03-03T00:00:00",
          "2023-03-02T00:00:00",
          "2023-03-01T00:00:00",
          "2023-02-28T00:00:00",
          "2023-02-27T00:00:00",
          "2023-02-24T00:00:00",
          "2023-02-23T00:00:00",
          "2023-02-22T00:00:00",
          "2023-02-21T00:00:00",
          "2023-02-17T00:00:00",
          "2023-02-16T00:00:00",
          "2023-02-15T00:00:00",
          "2023-02-14T00:00:00",
          "2023-02-13T00:00:00",
          "2023-02-10T00:00:00",
          "2023-02-09T00:00:00",
          "2023-02-08T00:00:00",
          "2023-02-07T00:00:00",
          "2023-02-06T00:00:00",
          "2023-02-03T00:00:00",
          "2023-02-02T00:00:00",
          "2023-02-01T00:00:00",
          "2023-01-31T00:00:00",
          "2023-01-30T00:00:00",
          "2023-01-27T00:00:00",
          "2023-01-26T00:00:00",
          "2023-01-25T00:00:00",
          "2023-01-24T00:00:00",
          "2023-01-23T00:00:00",
          "2023-01-20T00:00:00",
          "2023-01-19T00:00:00",
          "2023-01-18T00:00:00",
          "2023-01-17T00:00:00",
          "2023-01-13T00:00:00",
          "2023-01-12T00:00:00",
          "2023-01-11T00:00:00",
          "2023-01-10T00:00:00",
          "2023-01-09T00:00:00",
          "2023-01-06T00:00:00",
          "2023-01-05T00:00:00",
          "2023-01-04T00:00:00",
          "2023-01-03T00:00:00"
         ],
         "xaxis": "x",
         "y": [
          77.51,
          77.24,
          76.11,
          75.85,
          75.28,
          76.26,
          73.35,
          75.39,
          73.84,
          74.51,
          72.51,
          71.46,
          71.39,
          71.37,
          72.14,
          72.33,
          71.49,
          72.38,
          73.03,
          73.99,
          74.88,
          74.67,
          76.74,
          77.53,
          78.49,
          78.96,
          78.94,
          78.46,
          77.6,
          79.11,
          87.07,
          83.87,
          82.26,
          82.75,
          82.73,
          84.8,
          85.41,
          85.36,
          85.31,
          83.41,
          82.48,
          82.54,
          83.14,
          82.82,
          82.51,
          81.03,
          82.87,
          80.51,
          79.94,
          81.61,
          83.01,
          83.91,
          84.31,
          84.02,
          84.51,
          87.78,
          87.17,
          84.85,
          86.06,
          83.67,
          84.08,
          84.54,
          86.53,
          86.74,
          85.54,
          86.19,
          85.91,
          87.22,
          88.3,
          84.11,
          85.74,
          87.11,
          87.02,
          87.07,
          88,
          87.64,
          88.3,
          88.71,
          90.05,
          89.97,
          94.45,
          94.65,
          95.01,
          92.9,
          93.65,
          94.03,
          92.24,
          89.82,
          89.11,
          89.84,
          88.08,
          88.57,
          88.03,
          90.65,
          89.12,
          91.59,
          93.46,
          95.72,
          99.21,
          94.85,
          94.22,
          96.56,
          96.9,
          97.58,
          95.07,
          100.1,
          102.16,
          100.55,
          95.44,
          97.14,
          94.98,
          96.35,
          92.17,
          91.9,
          92.09,
          91.2,
          93.41,
          94.56,
          96.61,
          94,
          91.79,
          90.56,
          90.55,
          83.84,
          84.3,
          84.07,
          83.35,
          83.55,
          84.59,
          87.13,
          85.47,
          84.92,
          86.89,
          86.77,
          87.93,
          92.1,
          92.2,
          89.36,
          87.51,
          85.86,
          85.5,
          86.14,
          85.28,
          86.7,
          84.4,
          84.27,
          83,
          79.55,
          78.67,
          80.97,
          78.78,
          81.21,
          82.88,
          86.1,
          83.98,
          85.77,
          90.68,
          88.76,
          88.34,
          85.34,
          87.89,
          82.95,
          82.22,
          83.31,
          83.22,
          82.49,
          81.48,
          81.53,
          84.16,
          84.69,
          84.47,
          82.82,
          82.92,
          86.89,
          89.13,
          90.74,
          93.49,
          95.49,
          96.42,
          94.55,
          96.17,
          93.84,
          99.76,
          101.54,
          102.74,
          98.55,
          100.72,
          98.39,
          102.18,
          103.38,
          99.92,
          98.4,
          86.12,
          86.9,
          86.52,
          83.65,
          83.7,
          81,
          81.67,
          82.22,
          81.51,
          83.85,
          82.9,
          82.96,
          83.37,
          86.95,
          88.73,
          89.62,
          89.7,
          89.75,
          89.95,
          87.79,
          89.25,
          89,
          94.16,
          94.78,
          95.1,
          100.01,
          103.11,
          103.08,
          104.22,
          104.79,
          103.65,
          108.46,
          105.11,
          105.5,
          105.45,
          106.33,
          109.74,
          112.82,
          110.2,
          111.2,
          118.38,
          120.57,
          120.25,
          119.44,
          119.53,
          119.86,
          116.58,
          113.22,
          115.19,
          117.01,
          113.15,
          115.02,
          114.88,
          110.83,
          107.4,
          104.58,
          103.92,
          91.98
         ],
         "yaxis": "y"
        },
        {
         "customdata": [
          [
           81.57,
           82.6494,
           80.72
          ],
          [
           81.75,
           82.48,
           80.5601
          ],
          [
           82.59,
           83.31,
           80.9702
          ],
          [
           85,
           85.22,
           82.44
          ],
          [
           84.98,
           86.285,
           84.78
          ],
          [
           85.18,
           86.26,
           83.87
          ],
          [
           87,
           87.2,
           83.38
          ],
          [
           85.09,
           89.58,
           84.91
          ],
          [
           80.84,
           85.59,
           80.84
          ],
          [
           84.38,
           85.6,
           80.09
          ],
          [
           85,
           85.3,
           80.978
          ],
          [
           86.02,
           86.93,
           78.535
          ],
          [
           84.3,
           86.55,
           84.05
          ],
          [
           79.57,
           86.1,
           79.57
          ],
          [
           78.97,
           81.24,
           78.91
          ],
          [
           79.28,
           80.47,
           78.35
          ],
          [
           82.03,
           82.5,
           79.38
          ],
          [
           82.35,
           83.7299,
           81.61
          ],
          [
           82,
           84.75,
           81.8
          ],
          [
           76.53,
           82.3228,
           75.43
          ],
          [
           77.78,
           78,
           75.01
          ],
          [
           76.41,
           78.58,
           76.29
          ],
          [
           73.7,
           75.47,
           72.49
          ],
          [
           72.35,
           75.4001,
           72.1001
          ],
          [
           70.94,
           72.02,
           70.65
          ],
          [
           70.91,
           72.05,
           70.7
          ],
          [
           71.19,
           71.25,
           69.57
          ],
          [
           72.21,
           73.73,
           70.76
          ],
          [
           71.2,
           73,
           70.785
          ],
          [
           70.03,
           70.73,
           68.7
          ],
          [
           69.14,
           73.54,
           69.14
          ],
          [
           65.97,
           68.47,
           65.775
          ],
          [
           62.97,
           64.05,
           62.75
          ],
          [
           61.93,
           63.405,
           60.67
          ],
          [
           64.57,
           64.57,
           61.5594
          ],
          [
           64.12,
           64.9,
           62.8157
          ],
          [
           63.24,
           65.22,
           63
          ],
          [
           65.32,
           65.8,
           62.295
          ],
          [
           63.62,
           67.68,
           63.395
          ],
          [
           60,
           64.21,
           58.2
          ],
          [
           61.61,
           61.9,
           59.27
          ],
          [
           61.95,
           63.31,
           61.53
          ],
          [
           63.07,
           63.19,
           59.79
          ],
          [
           62.45,
           63.74,
           61.645
          ],
          [
           62.45,
           63.18,
           61.45
          ],
          [
           62.5,
           63.07,
           60.89
          ],
          [
           64.33,
           66.08,
           63.34
          ],
          [
           64.3,
           65.44,
           63.535
          ],
          [
           65.01,
           66.4989,
           64.79
          ],
          [
           67.71,
           68.12,
           64.91
          ],
          [
           69.13,
           69.68,
           67.69
          ],
          [
           65.77,
           70.315,
           65.53
          ],
          [
           63.31,
           66.76,
           63.2268
          ],
          [
           64.64,
           64.64,
           62.72
          ],
          [
           65.57,
           65.57,
           63.82
          ],
          [
           63.88,
           65.3028,
           63.88
          ],
          [
           63.03,
           64.76,
           62.755
          ],
          [
           61.93,
           63.55,
           61.635
          ],
          [
           62.1,
           63.82,
           62.1
          ],
          [
           63.82,
           64.18,
           61.37
          ],
          [
           63.1,
           64.32,
           62.92
          ],
          [
           64.39,
           64.91,
           62.12
          ],
          [
           64.34,
           65.11,
           63.87
          ],
          [
           64.79,
           65.87,
           64.32
          ],
          [
           61.3,
           63.96,
           61.22
          ],
          [
           61.77,
           63.1599,
           61.71
          ],
          [
           64.29,
           64.52,
           61.47
          ],
          [
           63.1,
           65.25,
           63.01
          ],
          [
           65,
           66.11,
           63.5
          ],
          [
           63.79,
           65.11,
           63.53
          ],
          [
           65.74,
           66.53,
           64.59
          ],
          [
           63.24,
           65.93,
           62.89
          ],
          [
           64.26,
           64.82,
           63.63
          ],
          [
           66.63,
           66.9991,
           63.86
          ],
          [
           68.59,
           69.4472,
           65.42
          ],
          [
           64.5,
           65.5,
           63.51
          ],
          [
           64.46,
           66.13,
           64.3
          ],
          [
           67.3,
           67.81,
           64.78
          ],
          [
           69.39,
           69.39,
           66.68
          ],
          [
           71.9,
           72.01,
           68.36
          ],
          [
           72.45,
           73.59,
           71.89
          ],
          [
           74,
           74.16,
           72.69
          ],
          [
           74.08,
           75.66,
           74.02
          ],
          [
           74.63,
           75.4,
           73.01
          ],
          [
           74.05,
           74.93,
           73.43
          ],
          [
           71.88,
           74.835,
           71.28
          ],
          [
           72.74,
           73.28,
           71.93
          ],
          [
           72.38,
           73.84,
           71.77
          ],
          [
           72.88,
           72.99,
           71.59
          ],
          [
           74.59,
           74.59,
           72.99
          ],
          [
           73.48,
           74.14,
           72.4
          ],
          [
           73.91,
           75.06,
           73.05
          ],
          [
           73.33,
           74.62,
           72.565
          ],
          [
           74,
           76.96,
           74
          ],
          [
           75.14,
           76.26,
           73.87
          ],
          [
           78.12,
           78.12,
           75.68
          ],
          [
           76.02,
           79.47,
           76.02
          ],
          [
           77.63,
           78.4,
           76.02
          ],
          [
           80.5,
           81.29,
           77.91
          ],
          [
           82.5,
           82.754,
           79.625
          ],
          [
           82.93,
           83.42,
           80.38
          ],
          [
           82,
           84.755,
           80.75
          ],
          [
           84.31,
           84.8,
           81.165
          ],
          [
           87.205,
           89.78,
           82.48
          ],
          [
           96.5,
           97.44,
           94.27
          ],
          [
           100.56,
           101.8,
           98.23
          ],
          [
           100.2,
           102.81,
           100.17
          ],
          [
           98.025,
           100.69,
           97.7
          ],
          [
           97.5,
           98.65,
           95.4
          ],
          [
           94.88,
           97.56,
           94.87
          ],
          [
           97.16,
           97.6,
           94.5
          ],
          [
           96.61,
           97.67,
           94.5
          ],
          [
           96.92,
           101.96,
           96.7161
          ],
          [
           94.73,
           95.05,
           92.46
          ],
          [
           93.82,
           97.02,
           93.6901
          ],
          [
           93.515,
           96.29,
           93.15
          ],
          [
           91.5,
           93.67,
           90.22
          ],
          [
           92.32,
           93.24,
           91.12
          ],
          [
           92.85,
           94.54,
           92.29
          ],
          [
           95.27,
           95.43,
           91.49
          ],
          [
           88.76,
           94.82,
           88.695
          ],
          [
           82.28,
           85.86,
           81.9
          ],
          [
           83,
           83.9299,
           82.6
          ],
          [
           83.06,
           83.955,
           81.96
          ],
          [
           84.89,
           85.36,
           82.4
          ],
          [
           85.25,
           85.83,
           83.85
          ],
          [
           86.68,
           86.785,
           84.21
          ],
          [
           87.49,
           87.9499,
           84.94
          ],
          [
           87.26,
           88.8772,
           86.04
          ],
          [
           85.15,
           87.85,
           85.0901
          ],
          [
           88.9899,
           89.65,
           84.5
          ],
          [
           91.28,
           91.92,
           88.81
          ],
          [
           93.78,
           93.845,
           91.21
          ],
          [
           95.66,
           97.03,
           93.922
          ],
          [
           95.11,
           98,
           94.78
          ],
          [
           96.46,
           96.5,
           93.3224
          ],
          [
           94.42,
           96.65,
           93.37
          ],
          [
           93.12,
           95.5,
           92.54
          ],
          [
           91.26,
           93.51,
           89.85
          ],
          [
           91.89,
           91.895,
           87.64
          ],
          [
           91.87,
           93.59,
           90.4
          ],
          [
           86.39,
           87.9799,
           84.74
          ],
          [
           91.79,
           92.7399,
           87.305
          ],
          [
           85.26,
           91.8,
           85.22
          ],
          [
           84.86,
           87.07,
           84.57
          ],
          [
           83.34,
           86.24,
           82.8
          ],
          [
           81.25,
           82.5799,
           80.7
          ],
          [
           82.23,
           83.55,
           80.44
          ],
          [
           86.13,
           86.28,
           82.375
          ],
          [
           86.68,
           87.34,
           84.955
          ],
          [
           87.76,
           88.4,
           84.92
          ],
          [
           88.25,
           88.6911,
           86
          ],
          [
           89.49,
           90.775,
           87.92
          ],
          [
           88.95,
           90.785,
           88
          ],
          [
           92.5,
           92.5,
           88.23
          ],
          [
           94.64,
           94.694,
           90.85
          ],
          [
           92.63,
           96.49,
           91.0926
          ],
          [
           95.01,
           95.17,
           91.34
          ],
          [
           94.17,
           98.11,
           93.5001
          ],
          [
           96.61,
           97.89,
           94.105
          ],
          [
           95.13,
           96.56,
           94.03
          ],
          [
           94.08,
           95.68,
           92.6522
          ],
          [
           91.84,
           93.42,
           91.6185
          ],
          [
           90.13,
           95.49,
           90.06
          ],
          [
           93.7,
           95.865,
           89.14
          ],
          [
           96.54,
           96.845,
           90.74
          ],
          [
           99.19,
           102.31,
           98.06
          ],
          [
           94.56,
           99.64,
           94.38
          ],
          [
           100.36,
           100.91,
           95.44
          ],
          [
           100.69,
           101.2,
           98.71
          ],
          [
           100.215,
           101.38,
           99.24
          ],
          [
           99.35,
           100.64,
           97.35
          ],
          [
           101.73,
           102.32,
           98.11
          ],
          [
           102.63,
           103.25,
           101.565
          ],
          [
           102.45,
           103.17,
           101.3368
          ],
          [
           100.76,
           104.93,
           100.6
          ],
          [
           100.62,
           103.4999,
           100.5
          ],
          [
           104.25,
           104.73,
           101.89
          ],
          [
           102.49,
           103.55,
           102.075
          ],
          [
           100.34,
           103.63,
           99.67
          ],
          [
           101.5,
           101.9889,
           99.79
          ],
          [
           105.224,
           105.29,
           99.41
          ],
          [
           102.74,
           104.67,
           101.81
          ],
          [
           103.64,
           104.36,
           101.66
          ],
          [
           103.96,
           104.725,
           100.74
          ],
          [
           108.72,
           108.7957,
           104.4
          ],
          [
           114.71,
           114.73,
           109.295
          ],
          [
           110.45,
           110.715,
           105.88
          ],
          [
           109.21,
           111.61,
           108.61
          ],
          [
           109.99,
           110.965,
           107.88
          ],
          [
           106.46,
           107.81,
           105.18
          ],
          [
           105.61,
           107.18,
           104.94
          ],
          [
           107.45,
           107.45,
           103.24
          ],
          [
           109,
           109.1161,
           105.11
          ],
          [
           113.28,
           116.15,
           109.68
          ],
          [
           113.34,
           115.2999,
           110.82
          ],
          [
           109.95,
           113.12,
           109.4399
          ],
          [
           104.43,
           108.605,
           103.34
          ],
          [
           104.04,
           105.84,
           103.39
          ],
          [
           102.82,
           105.21,
           101.11
          ],
          [
           101.73,
           105.1999,
           100.16
          ],
          [
           106.755,
           107,
           101.1499
          ],
          [
           103.015,
           106.37,
           99.24
          ],
          [
           107.34,
           107.745,
           103.46
          ],
          [
           107.4,
           110.41,
           105.14
          ],
          [
           112.67,
           113.32,
           107.96
          ],
          [
           119.09,
           122.5095,
           114.8201
          ],
          [
           122.05,
           122.41,
           118.58
          ],
          [
           119.38,
           122.4,
           119.005
          ],
          [
           117.05,
           119.72,
           116.51
          ],
          [
           120.53,
           121.07,
           116.2708
          ],
          [
           121.4,
           123.28,
           120.08
          ],
          [
           123.84,
           124.4,
           119.74
          ],
          [
           127.89,
           129.05,
           123.58
          ],
          [
           131.827,
           133.49,
           120.21
          ],
          [
           125.425,
           129.2495,
           124.435
          ],
          [
           126.76,
           131.33,
           124.36
          ],
          [
           130.4,
           131.46,
           127.1583
          ],
          [
           138.34,
           140.16,
           129.92
          ],
          [
           133,
           143.15,
           132.79
          ],
          [
           134.11,
           137.42,
           130.99
          ],
          [
           131.99,
           136.25,
           128.57
          ],
          [
           136.145,
           136.34,
           131.21
          ],
          [
           145.2,
           145.515,
           137.02
          ],
          [
           144.28,
           145.74,
           142.21
          ],
          [
           144,
           145.68,
           139.7
          ],
          [
           145.56,
           147.7888,
           143.82
          ],
          [
           143.3,
           149.91,
           142.42
          ],
          [
           143,
           148.23,
           142.14
          ],
          [
           137.58,
           140.46,
           134.12
          ],
          [
           135.6,
           139.08,
           135.6
          ],
          [
           136.44,
           139.83,
           134.24
          ],
          [
           131.432,
           139.09,
           129.3
          ],
          [
           138.915,
           140.46,
           134.29
          ],
          [
           133.06,
           136.49,
           131.93
          ],
          [
           138.02,
           139.31,
           135.5
          ],
          [
           132.75,
           140,
           132.11
          ],
          [
           129.58,
           132.26,
           127.53
          ],
          [
           130.47,
           132.89,
           127.8305
          ],
          [
           135.06,
           136.1671,
           130.74
          ],
          [
           134.5,
           136.91,
           132.5
          ],
          [
           130.4,
           136.145,
           130.17
          ],
          [
           133.44,
           134.44,
           128.15
          ],
          [
           128.41,
           135.28,
           127.99
          ],
          [
           120.79,
           127.34,
           120.32
          ],
          [
           122.73,
           124.27,
           120.62
          ],
          [
           119.23,
           121.97,
           115.77
          ],
          [
           116.29,
           120.52,
           114.95
          ],
          [
           116.78,
           119,
           113.56
          ],
          [
           121.51,
           122.41,
           111.83
          ]
         ],
         "hovertemplate": "Symbols=ETSY<br>Date=%{x}<br>Close=%{y}<br>Open=%{customdata[0]}<br>High=%{customdata[1]}<br>Low=%{customdata[2]}<extra></extra>",
         "legendgroup": "ETSY",
         "line": {
          "color": "#EF553B",
          "dash": "solid"
         },
         "marker": {
          "symbol": "circle"
         },
         "mode": "lines",
         "name": "ETSY",
         "orientation": "v",
         "showlegend": true,
         "type": "scatter",
         "x": [
          "2023-12-29T00:00:00",
          "2023-12-28T00:00:00",
          "2023-12-27T00:00:00",
          "2023-12-26T00:00:00",
          "2023-12-22T00:00:00",
          "2023-12-21T00:00:00",
          "2023-12-20T00:00:00",
          "2023-12-19T00:00:00",
          "2023-12-18T00:00:00",
          "2023-12-15T00:00:00",
          "2023-12-14T00:00:00",
          "2023-12-13T00:00:00",
          "2023-12-12T00:00:00",
          "2023-12-11T00:00:00",
          "2023-12-08T00:00:00",
          "2023-12-07T00:00:00",
          "2023-12-06T00:00:00",
          "2023-12-05T00:00:00",
          "2023-12-04T00:00:00",
          "2023-12-01T00:00:00",
          "2023-11-30T00:00:00",
          "2023-11-29T00:00:00",
          "2023-11-28T00:00:00",
          "2023-11-27T00:00:00",
          "2023-11-24T00:00:00",
          "2023-11-22T00:00:00",
          "2023-11-21T00:00:00",
          "2023-11-20T00:00:00",
          "2023-11-17T00:00:00",
          "2023-11-16T00:00:00",
          "2023-11-15T00:00:00",
          "2023-11-14T00:00:00",
          "2023-11-13T00:00:00",
          "2023-11-10T00:00:00",
          "2023-11-09T00:00:00",
          "2023-11-08T00:00:00",
          "2023-11-07T00:00:00",
          "2023-11-06T00:00:00",
          "2023-11-03T00:00:00",
          "2023-11-02T00:00:00",
          "2023-11-01T00:00:00",
          "2023-10-31T00:00:00",
          "2023-10-30T00:00:00",
          "2023-10-27T00:00:00",
          "2023-10-26T00:00:00",
          "2023-10-25T00:00:00",
          "2023-10-24T00:00:00",
          "2023-10-23T00:00:00",
          "2023-10-20T00:00:00",
          "2023-10-19T00:00:00",
          "2023-10-18T00:00:00",
          "2023-10-17T00:00:00",
          "2023-10-16T00:00:00",
          "2023-10-13T00:00:00",
          "2023-10-12T00:00:00",
          "2023-10-11T00:00:00",
          "2023-10-10T00:00:00",
          "2023-10-09T00:00:00",
          "2023-10-06T00:00:00",
          "2023-10-05T00:00:00",
          "2023-10-04T00:00:00",
          "2023-10-03T00:00:00",
          "2023-10-02T00:00:00",
          "2023-09-29T00:00:00",
          "2023-09-28T00:00:00",
          "2023-09-27T00:00:00",
          "2023-09-26T00:00:00",
          "2023-09-25T00:00:00",
          "2023-09-22T00:00:00",
          "2023-09-21T00:00:00",
          "2023-09-20T00:00:00",
          "2023-09-19T00:00:00",
          "2023-09-18T00:00:00",
          "2023-09-15T00:00:00",
          "2023-09-14T00:00:00",
          "2023-09-13T00:00:00",
          "2023-09-12T00:00:00",
          "2023-09-11T00:00:00",
          "2023-09-08T00:00:00",
          "2023-09-07T00:00:00",
          "2023-09-06T00:00:00",
          "2023-09-05T00:00:00",
          "2023-09-01T00:00:00",
          "2023-08-31T00:00:00",
          "2023-08-30T00:00:00",
          "2023-08-29T00:00:00",
          "2023-08-28T00:00:00",
          "2023-08-25T00:00:00",
          "2023-08-24T00:00:00",
          "2023-08-23T00:00:00",
          "2023-08-22T00:00:00",
          "2023-08-21T00:00:00",
          "2023-08-18T00:00:00",
          "2023-08-17T00:00:00",
          "2023-08-16T00:00:00",
          "2023-08-15T00:00:00",
          "2023-08-14T00:00:00",
          "2023-08-11T00:00:00",
          "2023-08-10T00:00:00",
          "2023-08-09T00:00:00",
          "2023-08-08T00:00:00",
          "2023-08-07T00:00:00",
          "2023-08-04T00:00:00",
          "2023-08-03T00:00:00",
          "2023-08-02T00:00:00",
          "2023-08-01T00:00:00",
          "2023-07-31T00:00:00",
          "2023-07-28T00:00:00",
          "2023-07-27T00:00:00",
          "2023-07-26T00:00:00",
          "2023-07-25T00:00:00",
          "2023-07-24T00:00:00",
          "2023-07-21T00:00:00",
          "2023-07-20T00:00:00",
          "2023-07-19T00:00:00",
          "2023-07-18T00:00:00",
          "2023-07-17T00:00:00",
          "2023-07-14T00:00:00",
          "2023-07-13T00:00:00",
          "2023-07-12T00:00:00",
          "2023-07-11T00:00:00",
          "2023-07-10T00:00:00",
          "2023-07-07T00:00:00",
          "2023-07-06T00:00:00",
          "2023-07-05T00:00:00",
          "2023-07-03T00:00:00",
          "2023-06-30T00:00:00",
          "2023-06-29T00:00:00",
          "2023-06-28T00:00:00",
          "2023-06-27T00:00:00",
          "2023-06-26T00:00:00",
          "2023-06-23T00:00:00",
          "2023-06-22T00:00:00",
          "2023-06-21T00:00:00",
          "2023-06-20T00:00:00",
          "2023-06-16T00:00:00",
          "2023-06-15T00:00:00",
          "2023-06-14T00:00:00",
          "2023-06-13T00:00:00",
          "2023-06-12T00:00:00",
          "2023-06-09T00:00:00",
          "2023-06-08T00:00:00",
          "2023-06-07T00:00:00",
          "2023-06-06T00:00:00",
          "2023-06-05T00:00:00",
          "2023-06-02T00:00:00",
          "2023-06-01T00:00:00",
          "2023-05-31T00:00:00",
          "2023-05-30T00:00:00",
          "2023-05-26T00:00:00",
          "2023-05-25T00:00:00",
          "2023-05-24T00:00:00",
          "2023-05-23T00:00:00",
          "2023-05-22T00:00:00",
          "2023-05-19T00:00:00",
          "2023-05-18T00:00:00",
          "2023-05-17T00:00:00",
          "2023-05-16T00:00:00",
          "2023-05-15T00:00:00",
          "2023-05-12T00:00:00",
          "2023-05-11T00:00:00",
          "2023-05-10T00:00:00",
          "2023-05-09T00:00:00",
          "2023-05-08T00:00:00",
          "2023-05-05T00:00:00",
          "2023-05-04T00:00:00",
          "2023-05-03T00:00:00",
          "2023-05-02T00:00:00",
          "2023-05-01T00:00:00",
          "2023-04-28T00:00:00",
          "2023-04-27T00:00:00",
          "2023-04-26T00:00:00",
          "2023-04-25T00:00:00",
          "2023-04-24T00:00:00",
          "2023-04-21T00:00:00",
          "2023-04-20T00:00:00",
          "2023-04-19T00:00:00",
          "2023-04-18T00:00:00",
          "2023-04-17T00:00:00",
          "2023-04-14T00:00:00",
          "2023-04-13T00:00:00",
          "2023-04-12T00:00:00",
          "2023-04-11T00:00:00",
          "2023-04-10T00:00:00",
          "2023-04-06T00:00:00",
          "2023-04-05T00:00:00",
          "2023-04-04T00:00:00",
          "2023-04-03T00:00:00",
          "2023-03-31T00:00:00",
          "2023-03-30T00:00:00",
          "2023-03-29T00:00:00",
          "2023-03-28T00:00:00",
          "2023-03-27T00:00:00",
          "2023-03-24T00:00:00",
          "2023-03-23T00:00:00",
          "2023-03-22T00:00:00",
          "2023-03-21T00:00:00",
          "2023-03-20T00:00:00",
          "2023-03-17T00:00:00",
          "2023-03-16T00:00:00",
          "2023-03-15T00:00:00",
          "2023-03-14T00:00:00",
          "2023-03-13T00:00:00",
          "2023-03-10T00:00:00",
          "2023-03-09T00:00:00",
          "2023-03-08T00:00:00",
          "2023-03-07T00:00:00",
          "2023-03-06T00:00:00",
          "2023-03-03T00:00:00",
          "2023-03-02T00:00:00",
          "2023-03-01T00:00:00",
          "2023-02-28T00:00:00",
          "2023-02-27T00:00:00",
          "2023-02-24T00:00:00",
          "2023-02-23T00:00:00",
          "2023-02-22T00:00:00",
          "2023-02-21T00:00:00",
          "2023-02-17T00:00:00",
          "2023-02-16T00:00:00",
          "2023-02-15T00:00:00",
          "2023-02-14T00:00:00",
          "2023-02-13T00:00:00",
          "2023-02-10T00:00:00",
          "2023-02-09T00:00:00",
          "2023-02-08T00:00:00",
          "2023-02-07T00:00:00",
          "2023-02-06T00:00:00",
          "2023-02-03T00:00:00",
          "2023-02-02T00:00:00",
          "2023-02-01T00:00:00",
          "2023-01-31T00:00:00",
          "2023-01-30T00:00:00",
          "2023-01-27T00:00:00",
          "2023-01-26T00:00:00",
          "2023-01-25T00:00:00",
          "2023-01-24T00:00:00",
          "2023-01-23T00:00:00",
          "2023-01-20T00:00:00",
          "2023-01-19T00:00:00",
          "2023-01-18T00:00:00",
          "2023-01-17T00:00:00",
          "2023-01-13T00:00:00",
          "2023-01-12T00:00:00",
          "2023-01-11T00:00:00",
          "2023-01-10T00:00:00",
          "2023-01-09T00:00:00",
          "2023-01-06T00:00:00",
          "2023-01-05T00:00:00",
          "2023-01-04T00:00:00",
          "2023-01-03T00:00:00"
         ],
         "xaxis": "x",
         "y": [
          81.05,
          81.92,
          82.39,
          82.59,
          84.95,
          85.24,
          83.59,
          87.03,
          84.46,
          80.68,
          83.26,
          83.97,
          85.82,
          84.69,
          80.08,
          78.97,
          79.54,
          81.66,
          82.99,
          82.04,
          75.81,
          77.2,
          75.27,
          73.95,
          71.82,
          71.48,
          70.59,
          72.07,
          72.53,
          70.15,
          71.74,
          68.38,
          63.21,
          63.24,
          62.02,
          63.99,
          64.84,
          63.08,
          65.25,
          61.63,
          60.66,
          62.3,
          61.31,
          62.46,
          62.37,
          62.96,
          64.59,
          64.15,
          64.9,
          65.42,
          67.9,
          70.06,
          66.47,
          63.17,
          64.76,
          64.84,
          63.71,
          63.38,
          62.72,
          62.86,
          63.74,
          62.29,
          64.65,
          64.58,
          63.75,
          61.89,
          61.87,
          64.72,
          63.8,
          64.25,
          64.69,
          65.74,
          63.85,
          64.94,
          66.68,
          64.56,
          64.81,
          64.82,
          67.13,
          69.09,
          72.74,
          72.82,
          74.635,
          73.57,
          74.32,
          74.4,
          72.24,
          72.31,
          71.62,
          73.08,
          73.48,
          73.32,
          73.78,
          74.97,
          73.95,
          75.86,
          79.3,
          76.64,
          78.21,
          79.87,
          82.5,
          84.43,
          81.59,
          82.92,
          96.07,
          98.6,
          101.65,
          99.63,
          95.73,
          96.39,
          94.99,
          96.54,
          96.74,
          93.07,
          96.09,
          93.33,
          93.4,
          92.25,
          93.15,
          91.5,
          93.71,
          85.83,
          82.76,
          82.91,
          85.15,
          85.4,
          84.61,
          85.73,
          87.45,
          87.49,
          84.57,
          88.93,
          92.14,
          94.63,
          96.19,
          94.6,
          95.97,
          95.06,
          92.84,
          90.51,
          91.24,
          87.56,
          87.57,
          90.05,
          85.25,
          85.01,
          81.99,
          81.05,
          82.49,
          85.53,
          86.23,
          87.66,
          88.03,
          90.02,
          89.1,
          92.39,
          94.99,
          92.65,
          97.85,
          94.68,
          96.36,
          94.84,
          92.71,
          92.78,
          90,
          92.55,
          98.965,
          99.19,
          96.27,
          101.03,
          100.49,
          97.77,
          98.37,
          102.84,
          102.05,
          102.24,
          102.38,
          102.17,
          103.12,
          102.53,
          100.72,
          100.16,
          103.64,
          103.04,
          104.06,
          105.27,
          109.64,
          108.25,
          111.33,
          108.78,
          107.67,
          105.06,
          104.88,
          106.85,
          110.09,
          110.96,
          112.71,
          108.36,
          105.34,
          104.43,
          104.74,
          102.79,
          103.71,
          105.98,
          107.74,
          113.18,
          115.89,
          118.78,
          121.42,
          118.46,
          118.28,
          121.41,
          120.6,
          124.105,
          131.58,
          128.45,
          124.845,
          129.68,
          130.31,
          142.26,
          133.75,
          134.75,
          132.13,
          137.56,
          144.02,
          145.03,
          144.54,
          147.5,
          148.2,
          139.58,
          137.58,
          134.7,
          137.8,
          134.54,
          135.86,
          136.68,
          139.12,
          131.82,
          128.97,
          131.44,
          132.51,
          134.67,
          131.63,
          134.69,
          126.93,
          120.99,
          120.59,
          119.56,
          117.11,
          113.56
         ],
         "yaxis": "y"
        },
        {
         "customdata": [
          [
           38.66,
           38.9772,
           37.55
          ],
          [
           38.76,
           39.57,
           38.61
          ],
          [
           39.79,
           40,
           38.64
          ],
          [
           39.54,
           39.81,
           39.2692
          ],
          [
           40.18,
           40.53,
           39.22
          ],
          [
           38.4,
           40.15,
           37.8041
          ],
          [
           38.94,
           39.895,
           37.895
          ],
          [
           39.15,
           40.4,
           38.905
          ],
          [
           38.3,
           38.81,
           37.64
          ],
          [
           37.71,
           38.77,
           37.31
          ],
          [
           37.51,
           39.09,
           37.07
          ],
          [
           35.78,
           36.89,
           34.54
          ],
          [
           36.61,
           36.61,
           35.7
          ],
          [
           36.1,
           37.27,
           35.6401
          ],
          [
           35.79,
           36.7,
           35.3838
          ],
          [
           37.82,
           37.88,
           36.18
          ],
          [
           38.48,
           39,
           37.745
          ],
          [
           38.01,
           38.6,
           37.32
          ],
          [
           37.36,
           38.44,
           37.24
          ],
          [
           36.33,
           37.83,
           36.13
          ],
          [
           36.54,
           37.24,
           35.95
          ],
          [
           35.97,
           37.29,
           35.97
          ],
          [
           35.52,
           35.9699,
           35.11
          ],
          [
           35.86,
           36.25,
           35.51
          ],
          [
           35.88,
           36.285,
           35.6
          ],
          [
           37.24,
           37.86,
           35.9
          ],
          [
           37.31,
           37.61,
           36.0613
          ],
          [
           36.97,
           38.83,
           36.62
          ],
          [
           36.81,
           37.05,
           36.28
          ],
          [
           38.47,
           38.5424,
           36.37
          ],
          [
           38.07,
           40.67,
           38.07
          ],
          [
           37.28,
           38.67,
           37.18
          ],
          [
           36,
           36.1,
           35.387
          ],
          [
           35.41,
           36.37,
           35.325
          ],
          [
           38.45,
           38.5,
           35.42
          ],
          [
           38.09,
           38.27,
           36.93
          ],
          [
           39.14,
           40.44,
           37.85
          ],
          [
           39.71,
           39.81,
           37.08
          ],
          [
           38.95,
           40.5,
           38.2
          ],
          [
           39.99,
           42.99,
           39.99
          ],
          [
           39.41,
           39.59,
           38.41
          ],
          [
           39.26,
           40.29,
           38.57
          ],
          [
           40.25,
           40.535,
           39.2
          ],
          [
           40.22,
           40.58,
           39.67
          ],
          [
           40.55,
           40.95,
           39.16
          ],
          [
           41.2,
           41.35,
           40.17
          ],
          [
           40.84,
           42.59,
           40.84
          ],
          [
           40.49,
           41.62,
           39.71
          ],
          [
           42.86,
           42.86,
           40.84
          ],
          [
           42.28,
           43.64,
           41.77
          ],
          [
           43.32,
           43.555,
           41.778
          ],
          [
           42.04,
           44.28,
           42.04
          ],
          [
           41.5,
           43.17,
           41.375
          ],
          [
           41.66,
           41.79,
           41.185
          ],
          [
           42.41,
           42.7,
           41.455
          ],
          [
           43.4,
           44.26,
           42.34
          ],
          [
           42.8,
           44.445,
           42.8
          ],
          [
           41.63,
           43.1,
           41.46
          ],
          [
           40.51,
           42.4994,
           40.3477
          ],
          [
           43.08,
           43.095,
           41.1
          ],
          [
           42.47,
           43.78,
           42.1
          ],
          [
           44.04,
           44.44,
           42.12
          ],
          [
           45.45,
           45.915,
           44.05
          ],
          [
           45.13,
           46.56,
           45.0128
          ],
          [
           42.9,
           45.19,
           42.45
          ],
          [
           42.76,
           43.63,
           42.27
          ],
          [
           42.87,
           43.36,
           42.21
          ],
          [
           42.5,
           43.59,
           42.18
          ],
          [
           43.47,
           43.62,
           42.5301
          ],
          [
           43.46,
           43.72,
           42.75
          ],
          [
           45.65,
           46.25,
           44.26
          ],
          [
           46.14,
           46.14,
           44.38
          ],
          [
           45.89,
           47.245,
           45.455
          ],
          [
           46.48,
           46.48,
           44.96
          ],
          [
           47.23,
           47.72,
           45.935
          ],
          [
           47.46,
           47.78,
           46.65
          ],
          [
           49.51,
           49.99,
           47.57
          ],
          [
           51.92,
           51.92,
           49.74
          ],
          [
           52,
           52.68,
           51.565
          ],
          [
           49.04,
           52.99,
           48.18
          ],
          [
           49.12,
           49.72,
           48.7827
          ],
          [
           49.03,
           49.49,
           48.77
          ],
          [
           49,
           50.13,
           48.8
          ],
          [
           48.16,
           48.96,
           47.875
          ],
          [
           47.73,
           48.57,
           47.56
          ],
          [
           46.56,
           48.495,
           46.22
          ],
          [
           47.06,
           47.85,
           46.67
          ],
          [
           45.82,
           47.1,
           45.62
          ],
          [
           47.54,
           47.94,
           45.6
          ],
          [
           46.41,
           47.59,
           46.33
          ],
          [
           46.27,
           46.86,
           46
          ],
          [
           45.89,
           46.85,
           45.49
          ],
          [
           44.07,
           46.11,
           43.81
          ],
          [
           45.76,
           46.13,
           44.56
          ],
          [
           47.59,
           47.6999,
           45.8
          ],
          [
           48.05,
           48.25,
           47.39
          ],
          [
           47.55,
           48.47,
           47.05
          ],
          [
           47.07,
           48,
           46.956
          ],
          [
           48.47,
           49.68,
           46.81
          ],
          [
           48.09,
           48.555,
           47.5
          ],
          [
           47.83,
           48.38,
           47.09
          ],
          [
           49.87,
           49.98,
           47.3201
          ],
          [
           49.52,
           50.298,
           46.25
          ],
          [
           47.73,
           48.66,
           47.31
          ],
          [
           50.28,
           50.5,
           47.27
          ],
          [
           51.18,
           51.65,
           50.6
          ],
          [
           49.9,
           51.6441,
           49.9
          ],
          [
           48.65,
           49.98,
           48.65
          ],
          [
           50,
           50,
           47.005
          ],
          [
           48.17,
           49.32,
           47.95
          ],
          [
           48.29,
           49.16,
           48
          ],
          [
           48.89,
           49.295,
           47.665
          ],
          [
           49.27,
           49.66,
           48.13
          ],
          [
           51.01,
           51.05,
           47.94
          ],
          [
           52,
           52.66,
           50.83
          ],
          [
           51.18,
           51.86,
           50.85
          ],
          [
           50.38,
           51.64,
           50.195
          ],
          [
           51.65,
           52.19,
           49.95
          ],
          [
           50.59,
           52.5899,
           50.59
          ],
          [
           52,
           52.13,
           49.64
          ],
          [
           50.6,
           51.2564,
           50.06
          ],
          [
           48.14,
           50.36,
           48.12
          ],
          [
           48.02,
           49.47,
           48.02
          ],
          [
           47.7,
           47.85,
           46.3
          ],
          [
           47.61,
           48.98,
           47.2319
          ],
          [
           47.49,
           48.41,
           47.27
          ],
          [
           48.52,
           48.99,
           47.44
          ],
          [
           48,
           48.69,
           47.5
          ],
          [
           47.16,
           49.09,
           47.013
          ],
          [
           46.52,
           47.71,
           46.17
          ],
          [
           47.67,
           47.92,
           45.97
          ],
          [
           47.19,
           47.795,
           47.01
          ],
          [
           48.08,
           49.55,
           47.38
          ],
          [
           51.96,
           51.96,
           48.22
          ],
          [
           52.04,
           52.84,
           50.7
          ],
          [
           53.93,
           54,
           51.9
          ],
          [
           51.84,
           53.45,
           51.505
          ],
          [
           53.91,
           54.26,
           52.16
          ],
          [
           50,
           54.03,
           49.9
          ],
          [
           48.75,
           49.7,
           48.65
          ],
          [
           47.98,
           50.14,
           47.58
          ],
          [
           46.01,
           48.01,
           45.02
          ],
          [
           46.79,
           47.99,
           45.9
          ],
          [
           43.87,
           46.56,
           43.81
          ],
          [
           45.03,
           45.42,
           43.535
          ],
          [
           45,
           46.3,
           44.66
          ],
          [
           42.34,
           44.81,
           41.785
          ],
          [
           41.15,
           43.25,
           41.15
          ],
          [
           41.21,
           41.925,
           40.83
          ],
          [
           40.15,
           41.46,
           40.15
          ],
          [
           41.58,
           41.99,
           40.065
          ],
          [
           39.97,
           41.12,
           39.89
          ],
          [
           41.05,
           41.9,
           40.37
          ],
          [
           39.27,
           41.67,
           39.0783
          ],
          [
           39.37,
           39.44,
           38.88
          ],
          [
           37.98,
           39.3625,
           37.52
          ],
          [
           36,
           37.99,
           35.58
          ],
          [
           35.68,
           36,
           35.28
          ],
          [
           35.32,
           36.28,
           35
          ],
          [
           36.41,
           36.68,
           35.02
          ],
          [
           37.18,
           37.3,
           35.9
          ],
          [
           37.44,
           38.23,
           35.89
          ],
          [
           35.15,
           36.6,
           34.425
          ],
          [
           33.93,
           35.66,
           33.93
          ],
          [
           34.3,
           34.86,
           33.89
          ],
          [
           35.23,
           35.27,
           32.82
          ],
          [
           36.48,
           37.35,
           35.0001
          ],
          [
           37.89,
           38.06,
           36.31
          ],
          [
           37.38,
           38.41,
           37
          ],
          [
           36.81,
           37.74,
           35.77
          ],
          [
           36.19,
           37.14,
           35.7161
          ],
          [
           36.51,
           37,
           35.58
          ],
          [
           37.79,
           37.79,
           35.76
          ],
          [
           39.84,
           40,
           37.54
          ],
          [
           39.77,
           40.27,
           39.61
          ],
          [
           39.82,
           40.41,
           39.6
          ],
          [
           40.09,
           40.87,
           39.76
          ],
          [
           41.21,
           41.21,
           40.26
          ],
          [
           40.3,
           40.86,
           40.19
          ],
          [
           41.33,
           41.47,
           39.76
          ],
          [
           40.81,
           41.85,
           40.81
          ],
          [
           42.29,
           42.65,
           40.19
          ],
          [
           41.82,
           42.025,
           40.23
          ],
          [
           41.56,
           41.92,
           40.225
          ],
          [
           40.98,
           42.4,
           40.49
          ],
          [
           43.26,
           43.26,
           40.445
          ],
          [
           44.17,
           44.5,
           43.19
          ],
          [
           43.93,
           44.4999,
           43.01
          ],
          [
           42.58,
           45,
           42.58
          ],
          [
           42.49,
           43.0111,
           41.67
          ],
          [
           41.06,
           42.25,
           40.57
          ],
          [
           40.29,
           40.39,
           39.83
          ],
          [
           40.53,
           41,
           39.84
          ],
          [
           40.26,
           40.75,
           38.77
          ],
          [
           40.25,
           41.65,
           40.08
          ],
          [
           41.44,
           41.5599,
           39.72
          ],
          [
           41.08,
           41.85,
           40.76
          ],
          [
           41.5,
           41.51,
           39.9322
          ],
          [
           42.76,
           42.76,
           41.01
          ],
          [
           40.96,
           43.155,
           40.87
          ],
          [
           40.1,
           41.41,
           39.86
          ],
          [
           41.08,
           42,
           40.41
          ],
          [
           38.95,
           41.03,
           38.14
          ],
          [
           40.45,
           40.45,
           38.4
          ],
          [
           42.86,
           43.93,
           40.78
          ],
          [
           43.55,
           43.76,
           42.69
          ],
          [
           44.5,
           45.1,
           43.26
          ],
          [
           45.01,
           45.73,
           44.07
          ],
          [
           43.24,
           44.92,
           43.24
          ],
          [
           40.91,
           42.8,
           40.08
          ],
          [
           41.49,
           42.495,
           40.93
          ],
          [
           41.62,
           42.35,
           41.19
          ],
          [
           43.33,
           43.575,
           41.68
          ],
          [
           42.58,
           43.15,
           42.095
          ],
          [
           44.23,
           44.56,
           42.895
          ],
          [
           43.63,
           44.6567,
           42.99
          ],
          [
           45.13,
           46.16,
           42.41
          ],
          [
           46.45,
           47.71,
           45.05
          ],
          [
           43.13,
           45.9212,
           42.69
          ],
          [
           41.77,
           44.25,
           41.77
          ],
          [
           40.31,
           42.4,
           39.39
          ],
          [
           41,
           41.4422,
           40.235
          ],
          [
           41.01,
           41.98,
           40.4
          ],
          [
           43.53,
           44.245,
           41.6
          ],
          [
           43.6,
           44.41,
           42.73
          ],
          [
           42.61,
           43.62,
           41.56
          ],
          [
           42.85,
           44.08,
           42.25
          ],
          [
           43.93,
           45.36,
           43.14
          ],
          [
           45,
           46.444,
           44.89
          ],
          [
           41.17,
           44.08,
           40.84
          ],
          [
           40.93,
           41.7924,
           40.9
          ],
          [
           41.86,
           41.86,
           40.702
          ],
          [
           41.01,
           42.6,
           40.71
          ],
          [
           41.65,
           42.57,
           40.09
          ],
          [
           39.78,
           40.6,
           38.79
          ],
          [
           40.62,
           41.79,
           40.11
          ],
          [
           38.82,
           40.7125,
           38.07
          ],
          [
           37.225,
           39.26,
           36.83
          ],
          [
           36.81,
           37.98,
           36.07
          ],
          [
           37.74,
           38.71,
           36.965
          ],
          [
           35.99,
           37.29,
           35.45
          ],
          [
           34.24,
           36.08,
           34.2
          ],
          [
           33,
           34.83,
           32.31
          ],
          [
           31.46,
           32.7,
           30.87
          ],
          [
           30.94,
           31.33,
           30.52
          ],
          [
           31.41,
           32.59,
           31.0881
          ],
          [
           31.77,
           32.03,
           29.8
          ],
          [
           31.68,
           32.45,
           30.55
          ],
          [
           32.89,
           33.015,
           31.94
          ],
          [
           33.4,
           33.81,
           31.72
          ]
         ],
         "hovertemplate": "Symbols=APPN<br>Date=%{x}<br>Close=%{y}<br>Open=%{customdata[0]}<br>High=%{customdata[1]}<br>Low=%{customdata[2]}<extra></extra>",
         "legendgroup": "APPN",
         "line": {
          "color": "#00cc96",
          "dash": "solid"
         },
         "marker": {
          "symbol": "circle"
         },
         "mode": "lines",
         "name": "APPN",
         "orientation": "v",
         "showlegend": true,
         "type": "scatter",
         "x": [
          "2023-12-29T00:00:00",
          "2023-12-28T00:00:00",
          "2023-12-27T00:00:00",
          "2023-12-26T00:00:00",
          "2023-12-22T00:00:00",
          "2023-12-21T00:00:00",
          "2023-12-20T00:00:00",
          "2023-12-19T00:00:00",
          "2023-12-18T00:00:00",
          "2023-12-15T00:00:00",
          "2023-12-14T00:00:00",
          "2023-12-13T00:00:00",
          "2023-12-12T00:00:00",
          "2023-12-11T00:00:00",
          "2023-12-08T00:00:00",
          "2023-12-07T00:00:00",
          "2023-12-06T00:00:00",
          "2023-12-05T00:00:00",
          "2023-12-04T00:00:00",
          "2023-12-01T00:00:00",
          "2023-11-30T00:00:00",
          "2023-11-29T00:00:00",
          "2023-11-28T00:00:00",
          "2023-11-27T00:00:00",
          "2023-11-24T00:00:00",
          "2023-11-22T00:00:00",
          "2023-11-21T00:00:00",
          "2023-11-20T00:00:00",
          "2023-11-17T00:00:00",
          "2023-11-16T00:00:00",
          "2023-11-15T00:00:00",
          "2023-11-14T00:00:00",
          "2023-11-13T00:00:00",
          "2023-11-10T00:00:00",
          "2023-11-09T00:00:00",
          "2023-11-08T00:00:00",
          "2023-11-07T00:00:00",
          "2023-11-06T00:00:00",
          "2023-11-03T00:00:00",
          "2023-11-02T00:00:00",
          "2023-11-01T00:00:00",
          "2023-10-31T00:00:00",
          "2023-10-30T00:00:00",
          "2023-10-27T00:00:00",
          "2023-10-26T00:00:00",
          "2023-10-25T00:00:00",
          "2023-10-24T00:00:00",
          "2023-10-23T00:00:00",
          "2023-10-20T00:00:00",
          "2023-10-19T00:00:00",
          "2023-10-18T00:00:00",
          "2023-10-17T00:00:00",
          "2023-10-16T00:00:00",
          "2023-10-13T00:00:00",
          "2023-10-12T00:00:00",
          "2023-10-11T00:00:00",
          "2023-10-10T00:00:00",
          "2023-10-09T00:00:00",
          "2023-10-06T00:00:00",
          "2023-10-05T00:00:00",
          "2023-10-04T00:00:00",
          "2023-10-03T00:00:00",
          "2023-10-02T00:00:00",
          "2023-09-29T00:00:00",
          "2023-09-28T00:00:00",
          "2023-09-27T00:00:00",
          "2023-09-26T00:00:00",
          "2023-09-25T00:00:00",
          "2023-09-22T00:00:00",
          "2023-09-21T00:00:00",
          "2023-09-20T00:00:00",
          "2023-09-19T00:00:00",
          "2023-09-18T00:00:00",
          "2023-09-15T00:00:00",
          "2023-09-14T00:00:00",
          "2023-09-13T00:00:00",
          "2023-09-12T00:00:00",
          "2023-09-11T00:00:00",
          "2023-09-08T00:00:00",
          "2023-09-07T00:00:00",
          "2023-09-06T00:00:00",
          "2023-09-05T00:00:00",
          "2023-09-01T00:00:00",
          "2023-08-31T00:00:00",
          "2023-08-30T00:00:00",
          "2023-08-29T00:00:00",
          "2023-08-28T00:00:00",
          "2023-08-25T00:00:00",
          "2023-08-24T00:00:00",
          "2023-08-23T00:00:00",
          "2023-08-22T00:00:00",
          "2023-08-21T00:00:00",
          "2023-08-18T00:00:00",
          "2023-08-17T00:00:00",
          "2023-08-16T00:00:00",
          "2023-08-15T00:00:00",
          "2023-08-14T00:00:00",
          "2023-08-11T00:00:00",
          "2023-08-10T00:00:00",
          "2023-08-09T00:00:00",
          "2023-08-08T00:00:00",
          "2023-08-07T00:00:00",
          "2023-08-04T00:00:00",
          "2023-08-03T00:00:00",
          "2023-08-02T00:00:00",
          "2023-08-01T00:00:00",
          "2023-07-31T00:00:00",
          "2023-07-28T00:00:00",
          "2023-07-27T00:00:00",
          "2023-07-26T00:00:00",
          "2023-07-25T00:00:00",
          "2023-07-24T00:00:00",
          "2023-07-21T00:00:00",
          "2023-07-20T00:00:00",
          "2023-07-19T00:00:00",
          "2023-07-18T00:00:00",
          "2023-07-17T00:00:00",
          "2023-07-14T00:00:00",
          "2023-07-13T00:00:00",
          "2023-07-12T00:00:00",
          "2023-07-11T00:00:00",
          "2023-07-10T00:00:00",
          "2023-07-07T00:00:00",
          "2023-07-06T00:00:00",
          "2023-07-05T00:00:00",
          "2023-07-03T00:00:00",
          "2023-06-30T00:00:00",
          "2023-06-29T00:00:00",
          "2023-06-28T00:00:00",
          "2023-06-27T00:00:00",
          "2023-06-26T00:00:00",
          "2023-06-23T00:00:00",
          "2023-06-22T00:00:00",
          "2023-06-21T00:00:00",
          "2023-06-20T00:00:00",
          "2023-06-16T00:00:00",
          "2023-06-15T00:00:00",
          "2023-06-14T00:00:00",
          "2023-06-13T00:00:00",
          "2023-06-12T00:00:00",
          "2023-06-09T00:00:00",
          "2023-06-08T00:00:00",
          "2023-06-07T00:00:00",
          "2023-06-06T00:00:00",
          "2023-06-05T00:00:00",
          "2023-06-02T00:00:00",
          "2023-06-01T00:00:00",
          "2023-05-31T00:00:00",
          "2023-05-30T00:00:00",
          "2023-05-26T00:00:00",
          "2023-05-25T00:00:00",
          "2023-05-24T00:00:00",
          "2023-05-23T00:00:00",
          "2023-05-22T00:00:00",
          "2023-05-19T00:00:00",
          "2023-05-18T00:00:00",
          "2023-05-17T00:00:00",
          "2023-05-16T00:00:00",
          "2023-05-15T00:00:00",
          "2023-05-12T00:00:00",
          "2023-05-11T00:00:00",
          "2023-05-10T00:00:00",
          "2023-05-09T00:00:00",
          "2023-05-08T00:00:00",
          "2023-05-05T00:00:00",
          "2023-05-04T00:00:00",
          "2023-05-03T00:00:00",
          "2023-05-02T00:00:00",
          "2023-05-01T00:00:00",
          "2023-04-28T00:00:00",
          "2023-04-27T00:00:00",
          "2023-04-26T00:00:00",
          "2023-04-25T00:00:00",
          "2023-04-24T00:00:00",
          "2023-04-21T00:00:00",
          "2023-04-20T00:00:00",
          "2023-04-19T00:00:00",
          "2023-04-18T00:00:00",
          "2023-04-17T00:00:00",
          "2023-04-14T00:00:00",
          "2023-04-13T00:00:00",
          "2023-04-12T00:00:00",
          "2023-04-11T00:00:00",
          "2023-04-10T00:00:00",
          "2023-04-06T00:00:00",
          "2023-04-05T00:00:00",
          "2023-04-04T00:00:00",
          "2023-04-03T00:00:00",
          "2023-03-31T00:00:00",
          "2023-03-30T00:00:00",
          "2023-03-29T00:00:00",
          "2023-03-28T00:00:00",
          "2023-03-27T00:00:00",
          "2023-03-24T00:00:00",
          "2023-03-23T00:00:00",
          "2023-03-22T00:00:00",
          "2023-03-21T00:00:00",
          "2023-03-20T00:00:00",
          "2023-03-17T00:00:00",
          "2023-03-16T00:00:00",
          "2023-03-15T00:00:00",
          "2023-03-14T00:00:00",
          "2023-03-13T00:00:00",
          "2023-03-10T00:00:00",
          "2023-03-09T00:00:00",
          "2023-03-08T00:00:00",
          "2023-03-07T00:00:00",
          "2023-03-06T00:00:00",
          "2023-03-03T00:00:00",
          "2023-03-02T00:00:00",
          "2023-03-01T00:00:00",
          "2023-02-28T00:00:00",
          "2023-02-27T00:00:00",
          "2023-02-24T00:00:00",
          "2023-02-23T00:00:00",
          "2023-02-22T00:00:00",
          "2023-02-21T00:00:00",
          "2023-02-17T00:00:00",
          "2023-02-16T00:00:00",
          "2023-02-15T00:00:00",
          "2023-02-14T00:00:00",
          "2023-02-13T00:00:00",
          "2023-02-10T00:00:00",
          "2023-02-09T00:00:00",
          "2023-02-08T00:00:00",
          "2023-02-07T00:00:00",
          "2023-02-06T00:00:00",
          "2023-02-03T00:00:00",
          "2023-02-02T00:00:00",
          "2023-02-01T00:00:00",
          "2023-01-31T00:00:00",
          "2023-01-30T00:00:00",
          "2023-01-27T00:00:00",
          "2023-01-26T00:00:00",
          "2023-01-25T00:00:00",
          "2023-01-24T00:00:00",
          "2023-01-23T00:00:00",
          "2023-01-20T00:00:00",
          "2023-01-19T00:00:00",
          "2023-01-18T00:00:00",
          "2023-01-17T00:00:00",
          "2023-01-13T00:00:00",
          "2023-01-12T00:00:00",
          "2023-01-11T00:00:00",
          "2023-01-10T00:00:00",
          "2023-01-09T00:00:00",
          "2023-01-06T00:00:00",
          "2023-01-05T00:00:00",
          "2023-01-04T00:00:00",
          "2023-01-03T00:00:00"
         ],
         "xaxis": "x",
         "y": [
          37.66,
          38.87,
          39,
          39.67,
          39.66,
          40.03,
          37.95,
          39.08,
          38.64,
          38.32,
          37.4,
          36.85,
          35.8,
          36.61,
          36.54,
          36.23,
          38.02,
          38.42,
          38.1,
          37.69,
          36.24,
          36.24,
          35.28,
          35.56,
          36.19,
          36.06,
          37.02,
          37.6,
          36.75,
          36.65,
          38.78,
          37.91,
          35.79,
          36.21,
          35.61,
          38.2,
          38.25,
          37.4,
          39.9,
          41.72,
          39.13,
          39.46,
          39.23,
          39.98,
          40.06,
          40.29,
          41.6,
          40.67,
          41.05,
          42.65,
          41.94,
          43.72,
          42.81,
          41.27,
          41.82,
          43.11,
          43.11,
          42.64,
          42.46,
          41.28,
          43.34,
          42.31,
          44.55,
          45.61,
          44.63,
          43.16,
          42.4,
          43.19,
          42.93,
          43.04,
          44.29,
          45.36,
          46.39,
          45.89,
          46.68,
          47.23,
          47.66,
          50.03,
          51.6,
          52.04,
          49.69,
          49.07,
          49.55,
          48.7,
          48.16,
          48.02,
          46.77,
          46.78,
          45.74,
          47.3,
          46.26,
          45.74,
          45.74,
          44.97,
          45.9,
          47.7,
          48.41,
          47.96,
          47.67,
          47.95,
          48.25,
          49.02,
          49.55,
          48.22,
          48.44,
          51.42,
          51.52,
          49.76,
          47.52,
          49.07,
          48.59,
          48.13,
          48.545,
          48.35,
          51.35,
          51.57,
          51.22,
          50.46,
          51.83,
          50.37,
          51.01,
          50.36,
          48.52,
          47.76,
          48.52,
          48.33,
          47.6,
          47.96,
          48.23,
          47.22,
          46.11,
          47.29,
          48.26,
          48.27,
          51.96,
          52.57,
          53.27,
          52.5,
          53.895,
          49.25,
          48.11,
          47.75,
          46.22,
          46.04,
          44.14,
          45.64,
          44.45,
          42.83,
          41.46,
          40.56,
          40.23,
          40.91,
          40.41,
          41.13,
          39.22,
          39.24,
          37.86,
          35.9,
          36.06,
          35.46,
          36.7,
          37.47,
          35.64,
          35.5,
          33.96,
          33.73,
          35.17,
          36.31,
          38.12,
          37.55,
          36.83,
          35.78,
          35.89,
          38.28,
          40,
          39.91,
          40.51,
          40.71,
          40.52,
          40.36,
          41.66,
          40.35,
          41.38,
          41.91,
          42.18,
          40.845,
          43.58,
          43.995,
          44.38,
          42.31,
          42,
          40.33,
          40.61,
          40.2,
          40.67,
          39.73,
          41.57,
          40.61,
          41.59,
          42.73,
          41.21,
          40.97,
          40.05,
          39.75,
          40.78,
          42.91,
          43.57,
          44.47,
          44.64,
          42.74,
          41.19,
          41.45,
          41.81,
          42.44,
          44.1,
          43.68,
          42.64,
          45.96,
          44.86,
          44.22,
          41.87,
          40.4,
          40.64,
          41.64,
          42.79,
          43.42,
          42.69,
          43.69,
          45.67,
          43.44,
          41.365,
          40.92,
          41.78,
          41.26,
          40.57,
          40.31,
          40.67,
          38.61,
          36.62,
          37.35,
          37.14,
          35.45,
          34.69,
          32.69,
          31.12,
          31.28,
          31.64,
          31.74,
          32.24,
          32.4
         ],
         "yaxis": "y"
        }
       ],
       "layout": {
        "legend": {
         "title": {
          "text": "Symbols"
         },
         "tracegroupgap": 0
        },
        "margin": {
         "t": 60
        },
        "template": {
         "data": {
          "bar": [
           {
            "error_x": {
             "color": "#2a3f5f"
            },
            "error_y": {
             "color": "#2a3f5f"
            },
            "marker": {
             "line": {
              "color": "#E5ECF6",
              "width": 0.5
             },
             "pattern": {
              "fillmode": "overlay",
              "size": 10,
              "solidity": 0.2
             }
            },
            "type": "bar"
           }
          ],
          "barpolar": [
           {
            "marker": {
             "line": {
              "color": "#E5ECF6",
              "width": 0.5
             },
             "pattern": {
              "fillmode": "overlay",
              "size": 10,
              "solidity": 0.2
             }
            },
            "type": "barpolar"
           }
          ],
          "carpet": [
           {
            "aaxis": {
             "endlinecolor": "#2a3f5f",
             "gridcolor": "white",
             "linecolor": "white",
             "minorgridcolor": "white",
             "startlinecolor": "#2a3f5f"
            },
            "baxis": {
             "endlinecolor": "#2a3f5f",
             "gridcolor": "white",
             "linecolor": "white",
             "minorgridcolor": "white",
             "startlinecolor": "#2a3f5f"
            },
            "type": "carpet"
           }
          ],
          "choropleth": [
           {
            "colorbar": {
             "outlinewidth": 0,
             "ticks": ""
            },
            "type": "choropleth"
           }
          ],
          "contour": [
           {
            "colorbar": {
             "outlinewidth": 0,
             "ticks": ""
            },
            "colorscale": [
             [
              0,
              "#0d0887"
             ],
             [
              0.1111111111111111,
              "#46039f"
             ],
             [
              0.2222222222222222,
              "#7201a8"
             ],
             [
              0.3333333333333333,
              "#9c179e"
             ],
             [
              0.4444444444444444,
              "#bd3786"
             ],
             [
              0.5555555555555556,
              "#d8576b"
             ],
             [
              0.6666666666666666,
              "#ed7953"
             ],
             [
              0.7777777777777778,
              "#fb9f3a"
             ],
             [
              0.8888888888888888,
              "#fdca26"
             ],
             [
              1,
              "#f0f921"
             ]
            ],
            "type": "contour"
           }
          ],
          "contourcarpet": [
           {
            "colorbar": {
             "outlinewidth": 0,
             "ticks": ""
            },
            "type": "contourcarpet"
           }
          ],
          "heatmap": [
           {
            "colorbar": {
             "outlinewidth": 0,
             "ticks": ""
            },
            "colorscale": [
             [
              0,
              "#0d0887"
             ],
             [
              0.1111111111111111,
              "#46039f"
             ],
             [
              0.2222222222222222,
              "#7201a8"
             ],
             [
              0.3333333333333333,
              "#9c179e"
             ],
             [
              0.4444444444444444,
              "#bd3786"
             ],
             [
              0.5555555555555556,
              "#d8576b"
             ],
             [
              0.6666666666666666,
              "#ed7953"
             ],
             [
              0.7777777777777778,
              "#fb9f3a"
             ],
             [
              0.8888888888888888,
              "#fdca26"
             ],
             [
              1,
              "#f0f921"
             ]
            ],
            "type": "heatmap"
           }
          ],
          "heatmapgl": [
           {
            "colorbar": {
             "outlinewidth": 0,
             "ticks": ""
            },
            "colorscale": [
             [
              0,
              "#0d0887"
             ],
             [
              0.1111111111111111,
              "#46039f"
             ],
             [
              0.2222222222222222,
              "#7201a8"
             ],
             [
              0.3333333333333333,
              "#9c179e"
             ],
             [
              0.4444444444444444,
              "#bd3786"
             ],
             [
              0.5555555555555556,
              "#d8576b"
             ],
             [
              0.6666666666666666,
              "#ed7953"
             ],
             [
              0.7777777777777778,
              "#fb9f3a"
             ],
             [
              0.8888888888888888,
              "#fdca26"
             ],
             [
              1,
              "#f0f921"
             ]
            ],
            "type": "heatmapgl"
           }
          ],
          "histogram": [
           {
            "marker": {
             "pattern": {
              "fillmode": "overlay",
              "size": 10,
              "solidity": 0.2
             }
            },
            "type": "histogram"
           }
          ],
          "histogram2d": [
           {
            "colorbar": {
             "outlinewidth": 0,
             "ticks": ""
            },
            "colorscale": [
             [
              0,
              "#0d0887"
             ],
             [
              0.1111111111111111,
              "#46039f"
             ],
             [
              0.2222222222222222,
              "#7201a8"
             ],
             [
              0.3333333333333333,
              "#9c179e"
             ],
             [
              0.4444444444444444,
              "#bd3786"
             ],
             [
              0.5555555555555556,
              "#d8576b"
             ],
             [
              0.6666666666666666,
              "#ed7953"
             ],
             [
              0.7777777777777778,
              "#fb9f3a"
             ],
             [
              0.8888888888888888,
              "#fdca26"
             ],
             [
              1,
              "#f0f921"
             ]
            ],
            "type": "histogram2d"
           }
          ],
          "histogram2dcontour": [
           {
            "colorbar": {
             "outlinewidth": 0,
             "ticks": ""
            },
            "colorscale": [
             [
              0,
              "#0d0887"
             ],
             [
              0.1111111111111111,
              "#46039f"
             ],
             [
              0.2222222222222222,
              "#7201a8"
             ],
             [
              0.3333333333333333,
              "#9c179e"
             ],
             [
              0.4444444444444444,
              "#bd3786"
             ],
             [
              0.5555555555555556,
              "#d8576b"
             ],
             [
              0.6666666666666666,
              "#ed7953"
             ],
             [
              0.7777777777777778,
              "#fb9f3a"
             ],
             [
              0.8888888888888888,
              "#fdca26"
             ],
             [
              1,
              "#f0f921"
             ]
            ],
            "type": "histogram2dcontour"
           }
          ],
          "mesh3d": [
           {
            "colorbar": {
             "outlinewidth": 0,
             "ticks": ""
            },
            "type": "mesh3d"
           }
          ],
          "parcoords": [
           {
            "line": {
             "colorbar": {
              "outlinewidth": 0,
              "ticks": ""
             }
            },
            "type": "parcoords"
           }
          ],
          "pie": [
           {
            "automargin": true,
            "type": "pie"
           }
          ],
          "scatter": [
           {
            "fillpattern": {
             "fillmode": "overlay",
             "size": 10,
             "solidity": 0.2
            },
            "type": "scatter"
           }
          ],
          "scatter3d": [
           {
            "line": {
             "colorbar": {
              "outlinewidth": 0,
              "ticks": ""
             }
            },
            "marker": {
             "colorbar": {
              "outlinewidth": 0,
              "ticks": ""
             }
            },
            "type": "scatter3d"
           }
          ],
          "scattercarpet": [
           {
            "marker": {
             "colorbar": {
              "outlinewidth": 0,
              "ticks": ""
             }
            },
            "type": "scattercarpet"
           }
          ],
          "scattergeo": [
           {
            "marker": {
             "colorbar": {
              "outlinewidth": 0,
              "ticks": ""
             }
            },
            "type": "scattergeo"
           }
          ],
          "scattergl": [
           {
            "marker": {
             "colorbar": {
              "outlinewidth": 0,
              "ticks": ""
             }
            },
            "type": "scattergl"
           }
          ],
          "scattermapbox": [
           {
            "marker": {
             "colorbar": {
              "outlinewidth": 0,
              "ticks": ""
             }
            },
            "type": "scattermapbox"
           }
          ],
          "scatterpolar": [
           {
            "marker": {
             "colorbar": {
              "outlinewidth": 0,
              "ticks": ""
             }
            },
            "type": "scatterpolar"
           }
          ],
          "scatterpolargl": [
           {
            "marker": {
             "colorbar": {
              "outlinewidth": 0,
              "ticks": ""
             }
            },
            "type": "scatterpolargl"
           }
          ],
          "scatterternary": [
           {
            "marker": {
             "colorbar": {
              "outlinewidth": 0,
              "ticks": ""
             }
            },
            "type": "scatterternary"
           }
          ],
          "surface": [
           {
            "colorbar": {
             "outlinewidth": 0,
             "ticks": ""
            },
            "colorscale": [
             [
              0,
              "#0d0887"
             ],
             [
              0.1111111111111111,
              "#46039f"
             ],
             [
              0.2222222222222222,
              "#7201a8"
             ],
             [
              0.3333333333333333,
              "#9c179e"
             ],
             [
              0.4444444444444444,
              "#bd3786"
             ],
             [
              0.5555555555555556,
              "#d8576b"
             ],
             [
              0.6666666666666666,
              "#ed7953"
             ],
             [
              0.7777777777777778,
              "#fb9f3a"
             ],
             [
              0.8888888888888888,
              "#fdca26"
             ],
             [
              1,
              "#f0f921"
             ]
            ],
            "type": "surface"
           }
          ],
          "table": [
           {
            "cells": {
             "fill": {
              "color": "#EBF0F8"
             },
             "line": {
              "color": "white"
             }
            },
            "header": {
             "fill": {
              "color": "#C8D4E3"
             },
             "line": {
              "color": "white"
             }
            },
            "type": "table"
           }
          ]
         },
         "layout": {
          "annotationdefaults": {
           "arrowcolor": "#2a3f5f",
           "arrowhead": 0,
           "arrowwidth": 1
          },
          "autotypenumbers": "strict",
          "coloraxis": {
           "colorbar": {
            "outlinewidth": 0,
            "ticks": ""
           }
          },
          "colorscale": {
           "diverging": [
            [
             0,
             "#8e0152"
            ],
            [
             0.1,
             "#c51b7d"
            ],
            [
             0.2,
             "#de77ae"
            ],
            [
             0.3,
             "#f1b6da"
            ],
            [
             0.4,
             "#fde0ef"
            ],
            [
             0.5,
             "#f7f7f7"
            ],
            [
             0.6,
             "#e6f5d0"
            ],
            [
             0.7,
             "#b8e186"
            ],
            [
             0.8,
             "#7fbc41"
            ],
            [
             0.9,
             "#4d9221"
            ],
            [
             1,
             "#276419"
            ]
           ],
           "sequential": [
            [
             0,
             "#0d0887"
            ],
            [
             0.1111111111111111,
             "#46039f"
            ],
            [
             0.2222222222222222,
             "#7201a8"
            ],
            [
             0.3333333333333333,
             "#9c179e"
            ],
            [
             0.4444444444444444,
             "#bd3786"
            ],
            [
             0.5555555555555556,
             "#d8576b"
            ],
            [
             0.6666666666666666,
             "#ed7953"
            ],
            [
             0.7777777777777778,
             "#fb9f3a"
            ],
            [
             0.8888888888888888,
             "#fdca26"
            ],
            [
             1,
             "#f0f921"
            ]
           ],
           "sequentialminus": [
            [
             0,
             "#0d0887"
            ],
            [
             0.1111111111111111,
             "#46039f"
            ],
            [
             0.2222222222222222,
             "#7201a8"
            ],
            [
             0.3333333333333333,
             "#9c179e"
            ],
            [
             0.4444444444444444,
             "#bd3786"
            ],
            [
             0.5555555555555556,
             "#d8576b"
            ],
            [
             0.6666666666666666,
             "#ed7953"
            ],
            [
             0.7777777777777778,
             "#fb9f3a"
            ],
            [
             0.8888888888888888,
             "#fdca26"
            ],
            [
             1,
             "#f0f921"
            ]
           ]
          },
          "colorway": [
           "#636efa",
           "#EF553B",
           "#00cc96",
           "#ab63fa",
           "#FFA15A",
           "#19d3f3",
           "#FF6692",
           "#B6E880",
           "#FF97FF",
           "#FECB52"
          ],
          "font": {
           "color": "#2a3f5f"
          },
          "geo": {
           "bgcolor": "white",
           "lakecolor": "white",
           "landcolor": "#E5ECF6",
           "showlakes": true,
           "showland": true,
           "subunitcolor": "white"
          },
          "hoverlabel": {
           "align": "left"
          },
          "hovermode": "closest",
          "mapbox": {
           "style": "light"
          },
          "paper_bgcolor": "white",
          "plot_bgcolor": "#E5ECF6",
          "polar": {
           "angularaxis": {
            "gridcolor": "white",
            "linecolor": "white",
            "ticks": ""
           },
           "bgcolor": "#E5ECF6",
           "radialaxis": {
            "gridcolor": "white",
            "linecolor": "white",
            "ticks": ""
           }
          },
          "scene": {
           "xaxis": {
            "backgroundcolor": "#E5ECF6",
            "gridcolor": "white",
            "gridwidth": 2,
            "linecolor": "white",
            "showbackground": true,
            "ticks": "",
            "zerolinecolor": "white"
           },
           "yaxis": {
            "backgroundcolor": "#E5ECF6",
            "gridcolor": "white",
            "gridwidth": 2,
            "linecolor": "white",
            "showbackground": true,
            "ticks": "",
            "zerolinecolor": "white"
           },
           "zaxis": {
            "backgroundcolor": "#E5ECF6",
            "gridcolor": "white",
            "gridwidth": 2,
            "linecolor": "white",
            "showbackground": true,
            "ticks": "",
            "zerolinecolor": "white"
           }
          },
          "shapedefaults": {
           "line": {
            "color": "#2a3f5f"
           }
          },
          "ternary": {
           "aaxis": {
            "gridcolor": "white",
            "linecolor": "white",
            "ticks": ""
           },
           "baxis": {
            "gridcolor": "white",
            "linecolor": "white",
            "ticks": ""
           },
           "bgcolor": "#E5ECF6",
           "caxis": {
            "gridcolor": "white",
            "linecolor": "white",
            "ticks": ""
           }
          },
          "title": {
           "x": 0.05
          },
          "xaxis": {
           "automargin": true,
           "gridcolor": "white",
           "linecolor": "white",
           "ticks": "",
           "title": {
            "standoff": 15
           },
           "zerolinecolor": "white",
           "zerolinewidth": 2
          },
          "yaxis": {
           "automargin": true,
           "gridcolor": "white",
           "linecolor": "white",
           "ticks": "",
           "title": {
            "standoff": 15
           },
           "zerolinecolor": "white",
           "zerolinewidth": 2
          }
         }
        },
        "xaxis": {
         "anchor": "y",
         "domain": [
          0,
          1
         ],
         "title": {
          "text": "Date"
         }
        },
        "yaxis": {
         "anchor": "x",
         "domain": [
          0,
          1
         ],
         "title": {
          "text": "Close"
         }
        }
       }
      }
     },
     "metadata": {},
     "output_type": "display_data"
    }
   ],
   "source": [
    "values = sorted(stocks[\"Symbols\"].unique())[0:3]\n",
    "px.line(data_frame= stocks[stocks[\"Symbols\"].isin(values)],\n",
    "        x=\"Date\",\n",
    "        y=\"Close\",\n",
    "        color= \"Symbols\",\n",
    "        hover_data=[\"Open\",\"Close\",\"High\",\"Low\"])"
   ]
  },
  {
   "cell_type": "code",
   "execution_count": 89,
   "metadata": {},
   "outputs": [
    {
     "data": {
      "text/plain": [
       "datetime.datetime(2023, 3, 1, 0, 0)"
      ]
     },
     "execution_count": 89,
     "metadata": {},
     "output_type": "execute_result"
    }
   ],
   "source": [
    "first_date = dt.datetime(2023,3,1)\n",
    "first_date"
   ]
  },
  {
   "cell_type": "code",
   "execution_count": 82,
   "metadata": {},
   "outputs": [
    {
     "data": {
      "text/plain": [
       "Timestamp('2023-01-01 00:00:00')"
      ]
     },
     "execution_count": 82,
     "metadata": {},
     "output_type": "execute_result"
    }
   ],
   "source": [
    "pd.Timestamp(start)"
   ]
  },
  {
   "cell_type": "code",
   "execution_count": 83,
   "metadata": {},
   "outputs": [
    {
     "data": {
      "text/plain": [
       "Timestamp('2023-12-29 00:00:00')"
      ]
     },
     "execution_count": 83,
     "metadata": {},
     "output_type": "execute_result"
    }
   ],
   "source": [
    "stocks[\"Date\"][0]"
   ]
  },
  {
   "cell_type": "code",
   "execution_count": 84,
   "metadata": {},
   "outputs": [
    {
     "data": {
      "text/html": [
       "<div>\n",
       "<style scoped>\n",
       "    .dataframe tbody tr th:only-of-type {\n",
       "        vertical-align: middle;\n",
       "    }\n",
       "\n",
       "    .dataframe tbody tr th {\n",
       "        vertical-align: top;\n",
       "    }\n",
       "\n",
       "    .dataframe thead th {\n",
       "        text-align: right;\n",
       "    }\n",
       "</style>\n",
       "<table border=\"1\" class=\"dataframe\">\n",
       "  <thead>\n",
       "    <tr style=\"text-align: right;\">\n",
       "      <th>Attributes</th>\n",
       "      <th>Date</th>\n",
       "      <th>Symbols</th>\n",
       "      <th>Close</th>\n",
       "      <th>High</th>\n",
       "      <th>Low</th>\n",
       "      <th>Open</th>\n",
       "      <th>Volume</th>\n",
       "    </tr>\n",
       "  </thead>\n",
       "  <tbody>\n",
       "  </tbody>\n",
       "</table>\n",
       "</div>"
      ],
      "text/plain": [
       "Empty DataFrame\n",
       "Columns: [Date, Symbols, Close, High, Low, Open, Volume]\n",
       "Index: []"
      ]
     },
     "execution_count": 84,
     "metadata": {},
     "output_type": "execute_result"
    }
   ],
   "source": [
    "stocks[stocks[\"Date\"]==pd.Timestamp(start)]"
   ]
  },
  {
   "cell_type": "code",
   "execution_count": 90,
   "metadata": {},
   "outputs": [
    {
     "data": {
      "text/html": [
       "<div>\n",
       "<style scoped>\n",
       "    .dataframe tbody tr th:only-of-type {\n",
       "        vertical-align: middle;\n",
       "    }\n",
       "\n",
       "    .dataframe tbody tr th {\n",
       "        vertical-align: top;\n",
       "    }\n",
       "\n",
       "    .dataframe thead th {\n",
       "        text-align: right;\n",
       "    }\n",
       "</style>\n",
       "<table border=\"1\" class=\"dataframe\">\n",
       "  <thead>\n",
       "    <tr style=\"text-align: right;\">\n",
       "      <th>Attributes</th>\n",
       "      <th>Date</th>\n",
       "      <th>Symbols</th>\n",
       "      <th>Close</th>\n",
       "      <th>High</th>\n",
       "      <th>Low</th>\n",
       "      <th>Open</th>\n",
       "      <th>Volume</th>\n",
       "    </tr>\n",
       "  </thead>\n",
       "  <tbody>\n",
       "    <tr>\n",
       "      <th>1260</th>\n",
       "      <td>2023-03-01</td>\n",
       "      <td>BABA</td>\n",
       "      <td>89.95</td>\n",
       "      <td>92.920</td>\n",
       "      <td>89.7300</td>\n",
       "      <td>92.92</td>\n",
       "      <td>35434898</td>\n",
       "    </tr>\n",
       "    <tr>\n",
       "      <th>1261</th>\n",
       "      <td>2023-03-01</td>\n",
       "      <td>ETSY</td>\n",
       "      <td>118.28</td>\n",
       "      <td>121.070</td>\n",
       "      <td>116.2708</td>\n",
       "      <td>120.53</td>\n",
       "      <td>3440624</td>\n",
       "    </tr>\n",
       "    <tr>\n",
       "      <th>1262</th>\n",
       "      <td>2023-03-01</td>\n",
       "      <td>SWK</td>\n",
       "      <td>83.73</td>\n",
       "      <td>86.400</td>\n",
       "      <td>83.5200</td>\n",
       "      <td>85.87</td>\n",
       "      <td>1602949</td>\n",
       "    </tr>\n",
       "    <tr>\n",
       "      <th>1263</th>\n",
       "      <td>2023-03-01</td>\n",
       "      <td>APPN</td>\n",
       "      <td>41.19</td>\n",
       "      <td>42.495</td>\n",
       "      <td>40.9300</td>\n",
       "      <td>41.49</td>\n",
       "      <td>259411</td>\n",
       "    </tr>\n",
       "    <tr>\n",
       "      <th>1264</th>\n",
       "      <td>2023-03-01</td>\n",
       "      <td>W</td>\n",
       "      <td>39.33</td>\n",
       "      <td>40.470</td>\n",
       "      <td>39.1600</td>\n",
       "      <td>40.12</td>\n",
       "      <td>3524320</td>\n",
       "    </tr>\n",
       "    <tr>\n",
       "      <th>1265</th>\n",
       "      <td>2023-03-01</td>\n",
       "      <td>SNAP</td>\n",
       "      <td>10.14</td>\n",
       "      <td>10.330</td>\n",
       "      <td>10.0293</td>\n",
       "      <td>10.15</td>\n",
       "      <td>22501930</td>\n",
       "    </tr>\n",
       "  </tbody>\n",
       "</table>\n",
       "</div>"
      ],
      "text/plain": [
       "Attributes       Date Symbols   Close     High       Low    Open    Volume\n",
       "1260       2023-03-01    BABA   89.95   92.920   89.7300   92.92  35434898\n",
       "1261       2023-03-01    ETSY  118.28  121.070  116.2708  120.53   3440624\n",
       "1262       2023-03-01     SWK   83.73   86.400   83.5200   85.87   1602949\n",
       "1263       2023-03-01    APPN   41.19   42.495   40.9300   41.49    259411\n",
       "1264       2023-03-01       W   39.33   40.470   39.1600   40.12   3524320\n",
       "1265       2023-03-01    SNAP   10.14   10.330   10.0293   10.15  22501930"
      ]
     },
     "execution_count": 90,
     "metadata": {},
     "output_type": "execute_result"
    }
   ],
   "source": [
    "stocks[stocks[\"Date\"]== first_date]"
   ]
  },
  {
   "cell_type": "code",
   "execution_count": 88,
   "metadata": {},
   "outputs": [
    {
     "data": {
      "text/plain": [
       "0      2023-12-29\n",
       "1      2023-12-29\n",
       "2      2023-12-29\n",
       "3      2023-12-29\n",
       "4      2023-12-29\n",
       "          ...    \n",
       "1495   2023-01-03\n",
       "1496   2023-01-03\n",
       "1497   2023-01-03\n",
       "1498   2023-01-03\n",
       "1499   2023-01-03\n",
       "Name: Date, Length: 1500, dtype: datetime64[ns]"
      ]
     },
     "execution_count": 88,
     "metadata": {},
     "output_type": "execute_result"
    }
   ],
   "source": [
    "stocks[\"Date\"]"
   ]
  }
 ],
 "metadata": {
  "kernelspec": {
   "display_name": "Python 3",
   "language": "python",
   "name": "python3"
  },
  "language_info": {
   "codemirror_mode": {
    "name": "ipython",
    "version": 3
   },
   "file_extension": ".py",
   "mimetype": "text/x-python",
   "name": "python",
   "nbconvert_exporter": "python",
   "pygments_lexer": "ipython3",
   "version": "3.12.2"
  }
 },
 "nbformat": 4,
 "nbformat_minor": 2
}
